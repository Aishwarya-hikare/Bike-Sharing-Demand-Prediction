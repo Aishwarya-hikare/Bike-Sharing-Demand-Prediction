{
  "cells": [
    {
      "cell_type": "markdown",
      "metadata": {
        "id": "view-in-github",
        "colab_type": "text"
      },
      "source": [
        "<a href=\"https://colab.research.google.com/github/Aishwarya-hikare/Bike-Sharing-Demand-Prediction/blob/main/Team_Seoul_Bike_sharing_demand_prediction.ipynb\" target=\"_parent\"><img src=\"https://colab.research.google.com/assets/colab-badge.svg\" alt=\"Open In Colab\"/></a>"
      ]
    },
    {
      "cell_type": "markdown",
      "metadata": {
        "id": "cxXvGDzhcU6O"
      },
      "source": [
        "# **⬛ Project Name : Bike Sharing Demand Prediction**\n",
        "## **▶ Project Type - Regression**\n",
        "## **▶ Contribution - Team**\n",
        "## **◼ Team Member 1 - Aishwarya Hikare**\n",
        "## **◼ Team Member 2 - Sumit Kumar Mahato**"
      ]
    },
    {
      "cell_type": "markdown",
      "metadata": {
        "id": "EGwxwp4Pc5yB"
      },
      "source": [
        "# **⬛ GitHub Link**\n",
        "\n",
        "### **◼ Team Member 1 - Aishwarya Hikare**\n",
        "### **▶ Link :**https://github.com/Aishwarya-hikare/Bike-Sharing-Demand-Prediction\n",
        "### **◼ Team Member 2 - Sumit Kumar Mahato**\n",
        "### **▶ Link :**https://github.com/sumit25chini/Bike-Sharing-Demand-Prediction"
      ]
    },
    {
      "cell_type": "markdown",
      "metadata": {
        "id": "u7jRHbunBi4q"
      },
      "source": [
        "# ⬛ **Problem Statement**"
      ]
    },
    {
      "cell_type": "markdown",
      "metadata": {
        "id": "1tKJUFX_B23V"
      },
      "source": [
        "### Currently Rental bikes are introduced in many urban cities for the enhancement of mobility comfort. It is important to make the rental bike available and accessible to the public at the right time as it lessens the waiting time. Eventually, providing the city with a stable supply of rental bikes becomes a major concern. The crucial part is the prediction of bike count required at each hour for the stable supply of rental bikes.\n"
      ]
    },
    {
      "cell_type": "markdown",
      "metadata": {
        "id": "A9Ldi-LJCXM4"
      },
      "source": [
        "## ▶ **Data Description**"
      ]
    },
    {
      "cell_type": "markdown",
      "metadata": {
        "id": "FJKU_YMiDceL"
      },
      "source": [
        "\n",
        "## **Attribute Information:**\n",
        "### ♦ **Date** : year-month-day\n",
        "\n",
        "### ♦ **Rented Bike count** : Count of bikes rented at each hour\n",
        "\n",
        "### ♦ **Hour** : Hour of the day\n",
        "\n",
        "### ♦ **Temperature** :Temperature in Celsius\n",
        "\n",
        "### ♦ **Humidity** : %\n",
        "\n",
        "### ♦ **Windspeed** : m/s\n",
        "\n",
        "### ♦ **Visibility** : 10m\n",
        "\n",
        "### ♦ **Dew point temperature** : Celsius\n",
        "\n",
        "### ♦ **Solar radiation** : MJ/m2\n",
        "\n",
        "### ♦ **Rainfall** : mm\n",
        "\n",
        "### ♦ **Snowfall** : cm\n",
        "\n",
        "### ♦ **Seasons** : Winter, Spring, Summer, Autumn\n",
        "\n",
        "### ♦ **Holiday** : Holiday/No holiday\n",
        "\n",
        "### ♦ **Functional Day** : NoFunction(Non Functional Hours), Function(Functional hours) "
      ]
    },
    {
      "cell_type": "markdown",
      "metadata": {
        "id": "H8Z0XRT7CWJc"
      },
      "source": [
        "# ⬛ **Import Libraries**"
      ]
    },
    {
      "cell_type": "code",
      "execution_count": 244,
      "metadata": {
        "id": "pYJClMZrp4M1"
      },
      "outputs": [],
      "source": [
        "# let's import the libraries\n",
        "import pandas as pd\n",
        "import numpy as np\n",
        "from numpy import math\n",
        "\n",
        "\n",
        "from datetime import datetime\n",
        "import datetime as dt\n",
        "\n",
        "import matplotlib.pyplot as plt\n",
        "import seaborn as sns\n",
        "\n",
        "from sklearn.preprocessing import OneHotEncoder\n",
        "from sklearn.preprocessing import MinMaxScaler\n",
        "from sklearn.model_selection import train_test_split\n",
        "\n",
        "from sklearn.linear_model import LinearRegression\n",
        "from sklearn.linear_model import Lasso\n",
        "from sklearn.model_selection import GridSearchCV\n",
        "from sklearn.tree import DecisionTreeRegressor\n",
        "from sklearn.ensemble import RandomForestRegressor\n",
        " \n",
        "from statsmodels.stats.outliers_influence import variance_inflation_factor\n",
        "from sklearn import metrics\n",
        "from sklearn.metrics import r2_score\n",
        "from sklearn.metrics import mean_squared_error\n",
        "from sklearn.metrics import accuracy_score\n",
        "from sklearn.metrics import mean_absolute_error\n",
        "\n",
        "\n",
        "import warnings\n",
        "warnings.filterwarnings('ignore')\n"
      ]
    },
    {
      "cell_type": "markdown",
      "metadata": {
        "id": "gEO9CQfBMTQ5"
      },
      "source": [
        "# ⬛ **Loading Dataset**"
      ]
    },
    {
      "cell_type": "code",
      "execution_count": 245,
      "metadata": {
        "colab": {
          "base_uri": "https://localhost:8080/"
        },
        "id": "cWkCw3MWp9VE",
        "outputId": "b1985b6e-303a-48fe-e821-2632f9200871"
      },
      "outputs": [
        {
          "output_type": "stream",
          "name": "stdout",
          "text": [
            "Drive already mounted at /content/drive; to attempt to forcibly remount, call drive.mount(\"/content/drive\", force_remount=True).\n"
          ]
        }
      ],
      "source": [
        "# Let's mount the google drive for import the dataset\n",
        "from google.colab import drive\n",
        "drive.mount('/content/drive')"
      ]
    },
    {
      "cell_type": "code",
      "execution_count": 246,
      "metadata": {
        "id": "DL-Pey3FqZxS"
      },
      "outputs": [],
      "source": [
        "# Load the  bike data set from drive\n",
        "path = \"/content/drive/MyDrive/SeoulBikeData.csv\"\n",
        "df=pd.read_csv(path,encoding = 'unicode_escape')"
      ]
    },
    {
      "cell_type": "markdown",
      "metadata": {
        "id": "ZUHJzjZWMEwf"
      },
      "source": [
        "# ▶ **Understand More About The Dataset**"
      ]
    },
    {
      "cell_type": "code",
      "execution_count": 247,
      "metadata": {
        "colab": {
          "base_uri": "https://localhost:8080/",
          "height": 371
        },
        "id": "A95vbfQurD7k",
        "outputId": "76b64631-db5d-44c1-9117-d9fb9f0079e4"
      },
      "outputs": [
        {
          "output_type": "execute_result",
          "data": {
            "text/plain": [
              "         Date  Rented Bike Count  Hour  Temperature(°C)  Humidity(%)  \\\n",
              "0  01/12/2017                254     0             -5.2           37   \n",
              "1  01/12/2017                204     1             -5.5           38   \n",
              "2  01/12/2017                173     2             -6.0           39   \n",
              "3  01/12/2017                107     3             -6.2           40   \n",
              "4  01/12/2017                 78     4             -6.0           36   \n",
              "\n",
              "   Wind speed (m/s)  Visibility (10m)  Dew point temperature(°C)  \\\n",
              "0               2.2              2000                      -17.6   \n",
              "1               0.8              2000                      -17.6   \n",
              "2               1.0              2000                      -17.7   \n",
              "3               0.9              2000                      -17.6   \n",
              "4               2.3              2000                      -18.6   \n",
              "\n",
              "   Solar Radiation (MJ/m2)  Rainfall(mm)  Snowfall (cm) Seasons     Holiday  \\\n",
              "0                      0.0           0.0            0.0  Winter  No Holiday   \n",
              "1                      0.0           0.0            0.0  Winter  No Holiday   \n",
              "2                      0.0           0.0            0.0  Winter  No Holiday   \n",
              "3                      0.0           0.0            0.0  Winter  No Holiday   \n",
              "4                      0.0           0.0            0.0  Winter  No Holiday   \n",
              "\n",
              "  Functioning Day  \n",
              "0             Yes  \n",
              "1             Yes  \n",
              "2             Yes  \n",
              "3             Yes  \n",
              "4             Yes  "
            ],
            "text/html": [
              "\n",
              "  <div id=\"df-8dfbbde5-c619-4cc8-b008-8e1325c8fe5c\">\n",
              "    <div class=\"colab-df-container\">\n",
              "      <div>\n",
              "<style scoped>\n",
              "    .dataframe tbody tr th:only-of-type {\n",
              "        vertical-align: middle;\n",
              "    }\n",
              "\n",
              "    .dataframe tbody tr th {\n",
              "        vertical-align: top;\n",
              "    }\n",
              "\n",
              "    .dataframe thead th {\n",
              "        text-align: right;\n",
              "    }\n",
              "</style>\n",
              "<table border=\"1\" class=\"dataframe\">\n",
              "  <thead>\n",
              "    <tr style=\"text-align: right;\">\n",
              "      <th></th>\n",
              "      <th>Date</th>\n",
              "      <th>Rented Bike Count</th>\n",
              "      <th>Hour</th>\n",
              "      <th>Temperature(°C)</th>\n",
              "      <th>Humidity(%)</th>\n",
              "      <th>Wind speed (m/s)</th>\n",
              "      <th>Visibility (10m)</th>\n",
              "      <th>Dew point temperature(°C)</th>\n",
              "      <th>Solar Radiation (MJ/m2)</th>\n",
              "      <th>Rainfall(mm)</th>\n",
              "      <th>Snowfall (cm)</th>\n",
              "      <th>Seasons</th>\n",
              "      <th>Holiday</th>\n",
              "      <th>Functioning Day</th>\n",
              "    </tr>\n",
              "  </thead>\n",
              "  <tbody>\n",
              "    <tr>\n",
              "      <th>0</th>\n",
              "      <td>01/12/2017</td>\n",
              "      <td>254</td>\n",
              "      <td>0</td>\n",
              "      <td>-5.2</td>\n",
              "      <td>37</td>\n",
              "      <td>2.2</td>\n",
              "      <td>2000</td>\n",
              "      <td>-17.6</td>\n",
              "      <td>0.0</td>\n",
              "      <td>0.0</td>\n",
              "      <td>0.0</td>\n",
              "      <td>Winter</td>\n",
              "      <td>No Holiday</td>\n",
              "      <td>Yes</td>\n",
              "    </tr>\n",
              "    <tr>\n",
              "      <th>1</th>\n",
              "      <td>01/12/2017</td>\n",
              "      <td>204</td>\n",
              "      <td>1</td>\n",
              "      <td>-5.5</td>\n",
              "      <td>38</td>\n",
              "      <td>0.8</td>\n",
              "      <td>2000</td>\n",
              "      <td>-17.6</td>\n",
              "      <td>0.0</td>\n",
              "      <td>0.0</td>\n",
              "      <td>0.0</td>\n",
              "      <td>Winter</td>\n",
              "      <td>No Holiday</td>\n",
              "      <td>Yes</td>\n",
              "    </tr>\n",
              "    <tr>\n",
              "      <th>2</th>\n",
              "      <td>01/12/2017</td>\n",
              "      <td>173</td>\n",
              "      <td>2</td>\n",
              "      <td>-6.0</td>\n",
              "      <td>39</td>\n",
              "      <td>1.0</td>\n",
              "      <td>2000</td>\n",
              "      <td>-17.7</td>\n",
              "      <td>0.0</td>\n",
              "      <td>0.0</td>\n",
              "      <td>0.0</td>\n",
              "      <td>Winter</td>\n",
              "      <td>No Holiday</td>\n",
              "      <td>Yes</td>\n",
              "    </tr>\n",
              "    <tr>\n",
              "      <th>3</th>\n",
              "      <td>01/12/2017</td>\n",
              "      <td>107</td>\n",
              "      <td>3</td>\n",
              "      <td>-6.2</td>\n",
              "      <td>40</td>\n",
              "      <td>0.9</td>\n",
              "      <td>2000</td>\n",
              "      <td>-17.6</td>\n",
              "      <td>0.0</td>\n",
              "      <td>0.0</td>\n",
              "      <td>0.0</td>\n",
              "      <td>Winter</td>\n",
              "      <td>No Holiday</td>\n",
              "      <td>Yes</td>\n",
              "    </tr>\n",
              "    <tr>\n",
              "      <th>4</th>\n",
              "      <td>01/12/2017</td>\n",
              "      <td>78</td>\n",
              "      <td>4</td>\n",
              "      <td>-6.0</td>\n",
              "      <td>36</td>\n",
              "      <td>2.3</td>\n",
              "      <td>2000</td>\n",
              "      <td>-18.6</td>\n",
              "      <td>0.0</td>\n",
              "      <td>0.0</td>\n",
              "      <td>0.0</td>\n",
              "      <td>Winter</td>\n",
              "      <td>No Holiday</td>\n",
              "      <td>Yes</td>\n",
              "    </tr>\n",
              "  </tbody>\n",
              "</table>\n",
              "</div>\n",
              "      <button class=\"colab-df-convert\" onclick=\"convertToInteractive('df-8dfbbde5-c619-4cc8-b008-8e1325c8fe5c')\"\n",
              "              title=\"Convert this dataframe to an interactive table.\"\n",
              "              style=\"display:none;\">\n",
              "        \n",
              "  <svg xmlns=\"http://www.w3.org/2000/svg\" height=\"24px\"viewBox=\"0 0 24 24\"\n",
              "       width=\"24px\">\n",
              "    <path d=\"M0 0h24v24H0V0z\" fill=\"none\"/>\n",
              "    <path d=\"M18.56 5.44l.94 2.06.94-2.06 2.06-.94-2.06-.94-.94-2.06-.94 2.06-2.06.94zm-11 1L8.5 8.5l.94-2.06 2.06-.94-2.06-.94L8.5 2.5l-.94 2.06-2.06.94zm10 10l.94 2.06.94-2.06 2.06-.94-2.06-.94-.94-2.06-.94 2.06-2.06.94z\"/><path d=\"M17.41 7.96l-1.37-1.37c-.4-.4-.92-.59-1.43-.59-.52 0-1.04.2-1.43.59L10.3 9.45l-7.72 7.72c-.78.78-.78 2.05 0 2.83L4 21.41c.39.39.9.59 1.41.59.51 0 1.02-.2 1.41-.59l7.78-7.78 2.81-2.81c.8-.78.8-2.07 0-2.86zM5.41 20L4 18.59l7.72-7.72 1.47 1.35L5.41 20z\"/>\n",
              "  </svg>\n",
              "      </button>\n",
              "      \n",
              "  <style>\n",
              "    .colab-df-container {\n",
              "      display:flex;\n",
              "      flex-wrap:wrap;\n",
              "      gap: 12px;\n",
              "    }\n",
              "\n",
              "    .colab-df-convert {\n",
              "      background-color: #E8F0FE;\n",
              "      border: none;\n",
              "      border-radius: 50%;\n",
              "      cursor: pointer;\n",
              "      display: none;\n",
              "      fill: #1967D2;\n",
              "      height: 32px;\n",
              "      padding: 0 0 0 0;\n",
              "      width: 32px;\n",
              "    }\n",
              "\n",
              "    .colab-df-convert:hover {\n",
              "      background-color: #E2EBFA;\n",
              "      box-shadow: 0px 1px 2px rgba(60, 64, 67, 0.3), 0px 1px 3px 1px rgba(60, 64, 67, 0.15);\n",
              "      fill: #174EA6;\n",
              "    }\n",
              "\n",
              "    [theme=dark] .colab-df-convert {\n",
              "      background-color: #3B4455;\n",
              "      fill: #D2E3FC;\n",
              "    }\n",
              "\n",
              "    [theme=dark] .colab-df-convert:hover {\n",
              "      background-color: #434B5C;\n",
              "      box-shadow: 0px 1px 3px 1px rgba(0, 0, 0, 0.15);\n",
              "      filter: drop-shadow(0px 1px 2px rgba(0, 0, 0, 0.3));\n",
              "      fill: #FFFFFF;\n",
              "    }\n",
              "  </style>\n",
              "\n",
              "      <script>\n",
              "        const buttonEl =\n",
              "          document.querySelector('#df-8dfbbde5-c619-4cc8-b008-8e1325c8fe5c button.colab-df-convert');\n",
              "        buttonEl.style.display =\n",
              "          google.colab.kernel.accessAllowed ? 'block' : 'none';\n",
              "\n",
              "        async function convertToInteractive(key) {\n",
              "          const element = document.querySelector('#df-8dfbbde5-c619-4cc8-b008-8e1325c8fe5c');\n",
              "          const dataTable =\n",
              "            await google.colab.kernel.invokeFunction('convertToInteractive',\n",
              "                                                     [key], {});\n",
              "          if (!dataTable) return;\n",
              "\n",
              "          const docLinkHtml = 'Like what you see? Visit the ' +\n",
              "            '<a target=\"_blank\" href=https://colab.research.google.com/notebooks/data_table.ipynb>data table notebook</a>'\n",
              "            + ' to learn more about interactive tables.';\n",
              "          element.innerHTML = '';\n",
              "          dataTable['output_type'] = 'display_data';\n",
              "          await google.colab.output.renderOutput(dataTable, element);\n",
              "          const docLink = document.createElement('div');\n",
              "          docLink.innerHTML = docLinkHtml;\n",
              "          element.appendChild(docLink);\n",
              "        }\n",
              "      </script>\n",
              "    </div>\n",
              "  </div>\n",
              "  "
            ]
          },
          "metadata": {},
          "execution_count": 247
        }
      ],
      "source": [
        "# Check the data of top  rows to take a glimps of the dataset\n",
        "df.head()"
      ]
    },
    {
      "cell_type": "code",
      "execution_count": 248,
      "metadata": {
        "colab": {
          "base_uri": "https://localhost:8080/",
          "height": 371
        },
        "id": "BvOECbPguMjM",
        "outputId": "4856b13b-4131-4b39-c88f-73d31a6ebf7a"
      },
      "outputs": [
        {
          "output_type": "execute_result",
          "data": {
            "text/plain": [
              "            Date  Rented Bike Count  Hour  Temperature(°C)  Humidity(%)  \\\n",
              "8755  30/11/2018               1003    19              4.2           34   \n",
              "8756  30/11/2018                764    20              3.4           37   \n",
              "8757  30/11/2018                694    21              2.6           39   \n",
              "8758  30/11/2018                712    22              2.1           41   \n",
              "8759  30/11/2018                584    23              1.9           43   \n",
              "\n",
              "      Wind speed (m/s)  Visibility (10m)  Dew point temperature(°C)  \\\n",
              "8755               2.6              1894                      -10.3   \n",
              "8756               2.3              2000                       -9.9   \n",
              "8757               0.3              1968                       -9.9   \n",
              "8758               1.0              1859                       -9.8   \n",
              "8759               1.3              1909                       -9.3   \n",
              "\n",
              "      Solar Radiation (MJ/m2)  Rainfall(mm)  Snowfall (cm) Seasons  \\\n",
              "8755                      0.0           0.0            0.0  Autumn   \n",
              "8756                      0.0           0.0            0.0  Autumn   \n",
              "8757                      0.0           0.0            0.0  Autumn   \n",
              "8758                      0.0           0.0            0.0  Autumn   \n",
              "8759                      0.0           0.0            0.0  Autumn   \n",
              "\n",
              "         Holiday Functioning Day  \n",
              "8755  No Holiday             Yes  \n",
              "8756  No Holiday             Yes  \n",
              "8757  No Holiday             Yes  \n",
              "8758  No Holiday             Yes  \n",
              "8759  No Holiday             Yes  "
            ],
            "text/html": [
              "\n",
              "  <div id=\"df-d6933c2d-177b-4fe0-ae59-86354b305126\">\n",
              "    <div class=\"colab-df-container\">\n",
              "      <div>\n",
              "<style scoped>\n",
              "    .dataframe tbody tr th:only-of-type {\n",
              "        vertical-align: middle;\n",
              "    }\n",
              "\n",
              "    .dataframe tbody tr th {\n",
              "        vertical-align: top;\n",
              "    }\n",
              "\n",
              "    .dataframe thead th {\n",
              "        text-align: right;\n",
              "    }\n",
              "</style>\n",
              "<table border=\"1\" class=\"dataframe\">\n",
              "  <thead>\n",
              "    <tr style=\"text-align: right;\">\n",
              "      <th></th>\n",
              "      <th>Date</th>\n",
              "      <th>Rented Bike Count</th>\n",
              "      <th>Hour</th>\n",
              "      <th>Temperature(°C)</th>\n",
              "      <th>Humidity(%)</th>\n",
              "      <th>Wind speed (m/s)</th>\n",
              "      <th>Visibility (10m)</th>\n",
              "      <th>Dew point temperature(°C)</th>\n",
              "      <th>Solar Radiation (MJ/m2)</th>\n",
              "      <th>Rainfall(mm)</th>\n",
              "      <th>Snowfall (cm)</th>\n",
              "      <th>Seasons</th>\n",
              "      <th>Holiday</th>\n",
              "      <th>Functioning Day</th>\n",
              "    </tr>\n",
              "  </thead>\n",
              "  <tbody>\n",
              "    <tr>\n",
              "      <th>8755</th>\n",
              "      <td>30/11/2018</td>\n",
              "      <td>1003</td>\n",
              "      <td>19</td>\n",
              "      <td>4.2</td>\n",
              "      <td>34</td>\n",
              "      <td>2.6</td>\n",
              "      <td>1894</td>\n",
              "      <td>-10.3</td>\n",
              "      <td>0.0</td>\n",
              "      <td>0.0</td>\n",
              "      <td>0.0</td>\n",
              "      <td>Autumn</td>\n",
              "      <td>No Holiday</td>\n",
              "      <td>Yes</td>\n",
              "    </tr>\n",
              "    <tr>\n",
              "      <th>8756</th>\n",
              "      <td>30/11/2018</td>\n",
              "      <td>764</td>\n",
              "      <td>20</td>\n",
              "      <td>3.4</td>\n",
              "      <td>37</td>\n",
              "      <td>2.3</td>\n",
              "      <td>2000</td>\n",
              "      <td>-9.9</td>\n",
              "      <td>0.0</td>\n",
              "      <td>0.0</td>\n",
              "      <td>0.0</td>\n",
              "      <td>Autumn</td>\n",
              "      <td>No Holiday</td>\n",
              "      <td>Yes</td>\n",
              "    </tr>\n",
              "    <tr>\n",
              "      <th>8757</th>\n",
              "      <td>30/11/2018</td>\n",
              "      <td>694</td>\n",
              "      <td>21</td>\n",
              "      <td>2.6</td>\n",
              "      <td>39</td>\n",
              "      <td>0.3</td>\n",
              "      <td>1968</td>\n",
              "      <td>-9.9</td>\n",
              "      <td>0.0</td>\n",
              "      <td>0.0</td>\n",
              "      <td>0.0</td>\n",
              "      <td>Autumn</td>\n",
              "      <td>No Holiday</td>\n",
              "      <td>Yes</td>\n",
              "    </tr>\n",
              "    <tr>\n",
              "      <th>8758</th>\n",
              "      <td>30/11/2018</td>\n",
              "      <td>712</td>\n",
              "      <td>22</td>\n",
              "      <td>2.1</td>\n",
              "      <td>41</td>\n",
              "      <td>1.0</td>\n",
              "      <td>1859</td>\n",
              "      <td>-9.8</td>\n",
              "      <td>0.0</td>\n",
              "      <td>0.0</td>\n",
              "      <td>0.0</td>\n",
              "      <td>Autumn</td>\n",
              "      <td>No Holiday</td>\n",
              "      <td>Yes</td>\n",
              "    </tr>\n",
              "    <tr>\n",
              "      <th>8759</th>\n",
              "      <td>30/11/2018</td>\n",
              "      <td>584</td>\n",
              "      <td>23</td>\n",
              "      <td>1.9</td>\n",
              "      <td>43</td>\n",
              "      <td>1.3</td>\n",
              "      <td>1909</td>\n",
              "      <td>-9.3</td>\n",
              "      <td>0.0</td>\n",
              "      <td>0.0</td>\n",
              "      <td>0.0</td>\n",
              "      <td>Autumn</td>\n",
              "      <td>No Holiday</td>\n",
              "      <td>Yes</td>\n",
              "    </tr>\n",
              "  </tbody>\n",
              "</table>\n",
              "</div>\n",
              "      <button class=\"colab-df-convert\" onclick=\"convertToInteractive('df-d6933c2d-177b-4fe0-ae59-86354b305126')\"\n",
              "              title=\"Convert this dataframe to an interactive table.\"\n",
              "              style=\"display:none;\">\n",
              "        \n",
              "  <svg xmlns=\"http://www.w3.org/2000/svg\" height=\"24px\"viewBox=\"0 0 24 24\"\n",
              "       width=\"24px\">\n",
              "    <path d=\"M0 0h24v24H0V0z\" fill=\"none\"/>\n",
              "    <path d=\"M18.56 5.44l.94 2.06.94-2.06 2.06-.94-2.06-.94-.94-2.06-.94 2.06-2.06.94zm-11 1L8.5 8.5l.94-2.06 2.06-.94-2.06-.94L8.5 2.5l-.94 2.06-2.06.94zm10 10l.94 2.06.94-2.06 2.06-.94-2.06-.94-.94-2.06-.94 2.06-2.06.94z\"/><path d=\"M17.41 7.96l-1.37-1.37c-.4-.4-.92-.59-1.43-.59-.52 0-1.04.2-1.43.59L10.3 9.45l-7.72 7.72c-.78.78-.78 2.05 0 2.83L4 21.41c.39.39.9.59 1.41.59.51 0 1.02-.2 1.41-.59l7.78-7.78 2.81-2.81c.8-.78.8-2.07 0-2.86zM5.41 20L4 18.59l7.72-7.72 1.47 1.35L5.41 20z\"/>\n",
              "  </svg>\n",
              "      </button>\n",
              "      \n",
              "  <style>\n",
              "    .colab-df-container {\n",
              "      display:flex;\n",
              "      flex-wrap:wrap;\n",
              "      gap: 12px;\n",
              "    }\n",
              "\n",
              "    .colab-df-convert {\n",
              "      background-color: #E8F0FE;\n",
              "      border: none;\n",
              "      border-radius: 50%;\n",
              "      cursor: pointer;\n",
              "      display: none;\n",
              "      fill: #1967D2;\n",
              "      height: 32px;\n",
              "      padding: 0 0 0 0;\n",
              "      width: 32px;\n",
              "    }\n",
              "\n",
              "    .colab-df-convert:hover {\n",
              "      background-color: #E2EBFA;\n",
              "      box-shadow: 0px 1px 2px rgba(60, 64, 67, 0.3), 0px 1px 3px 1px rgba(60, 64, 67, 0.15);\n",
              "      fill: #174EA6;\n",
              "    }\n",
              "\n",
              "    [theme=dark] .colab-df-convert {\n",
              "      background-color: #3B4455;\n",
              "      fill: #D2E3FC;\n",
              "    }\n",
              "\n",
              "    [theme=dark] .colab-df-convert:hover {\n",
              "      background-color: #434B5C;\n",
              "      box-shadow: 0px 1px 3px 1px rgba(0, 0, 0, 0.15);\n",
              "      filter: drop-shadow(0px 1px 2px rgba(0, 0, 0, 0.3));\n",
              "      fill: #FFFFFF;\n",
              "    }\n",
              "  </style>\n",
              "\n",
              "      <script>\n",
              "        const buttonEl =\n",
              "          document.querySelector('#df-d6933c2d-177b-4fe0-ae59-86354b305126 button.colab-df-convert');\n",
              "        buttonEl.style.display =\n",
              "          google.colab.kernel.accessAllowed ? 'block' : 'none';\n",
              "\n",
              "        async function convertToInteractive(key) {\n",
              "          const element = document.querySelector('#df-d6933c2d-177b-4fe0-ae59-86354b305126');\n",
              "          const dataTable =\n",
              "            await google.colab.kernel.invokeFunction('convertToInteractive',\n",
              "                                                     [key], {});\n",
              "          if (!dataTable) return;\n",
              "\n",
              "          const docLinkHtml = 'Like what you see? Visit the ' +\n",
              "            '<a target=\"_blank\" href=https://colab.research.google.com/notebooks/data_table.ipynb>data table notebook</a>'\n",
              "            + ' to learn more about interactive tables.';\n",
              "          element.innerHTML = '';\n",
              "          dataTable['output_type'] = 'display_data';\n",
              "          await google.colab.output.renderOutput(dataTable, element);\n",
              "          const docLink = document.createElement('div');\n",
              "          docLink.innerHTML = docLinkHtml;\n",
              "          element.appendChild(docLink);\n",
              "        }\n",
              "      </script>\n",
              "    </div>\n",
              "  </div>\n",
              "  "
            ]
          },
          "metadata": {},
          "execution_count": 248
        }
      ],
      "source": [
        "# View the data of bottom rows \n",
        "df.tail()"
      ]
    },
    {
      "cell_type": "code",
      "execution_count": 249,
      "metadata": {
        "colab": {
          "base_uri": "https://localhost:8080/"
        },
        "id": "B788vpZX6FWu",
        "outputId": "cda6296d-453a-408c-f381-22cf7a106b0e"
      },
      "outputs": [
        {
          "output_type": "stream",
          "name": "stdout",
          "text": [
            "(8760, 14)\n"
          ]
        }
      ],
      "source": [
        "# Get the shape of dataset with rows and columns\n",
        "print(df.shape)"
      ]
    },
    {
      "cell_type": "code",
      "execution_count": 250,
      "metadata": {
        "colab": {
          "base_uri": "https://localhost:8080/"
        },
        "id": "x7z5ztw26RGv",
        "outputId": "488d98df-ee99-4589-905e-5d73452a5325"
      },
      "outputs": [
        {
          "output_type": "stream",
          "name": "stdout",
          "text": [
            "<class 'pandas.core.frame.DataFrame'>\n",
            "RangeIndex: 8760 entries, 0 to 8759\n",
            "Data columns (total 14 columns):\n",
            " #   Column                     Non-Null Count  Dtype  \n",
            "---  ------                     --------------  -----  \n",
            " 0   Date                       8760 non-null   object \n",
            " 1   Rented Bike Count          8760 non-null   int64  \n",
            " 2   Hour                       8760 non-null   int64  \n",
            " 3   Temperature(°C)            8760 non-null   float64\n",
            " 4   Humidity(%)                8760 non-null   int64  \n",
            " 5   Wind speed (m/s)           8760 non-null   float64\n",
            " 6   Visibility (10m)           8760 non-null   int64  \n",
            " 7   Dew point temperature(°C)  8760 non-null   float64\n",
            " 8   Solar Radiation (MJ/m2)    8760 non-null   float64\n",
            " 9   Rainfall(mm)               8760 non-null   float64\n",
            " 10  Snowfall (cm)              8760 non-null   float64\n",
            " 11  Seasons                    8760 non-null   object \n",
            " 12  Holiday                    8760 non-null   object \n",
            " 13  Functioning Day            8760 non-null   object \n",
            "dtypes: float64(6), int64(4), object(4)\n",
            "memory usage: 958.2+ KB\n"
          ]
        }
      ],
      "source": [
        "# Check details about the data set\n",
        "df.info()"
      ]
    },
    {
      "cell_type": "code",
      "execution_count": 251,
      "metadata": {
        "colab": {
          "base_uri": "https://localhost:8080/"
        },
        "id": "OUP-ZpdG6ocE",
        "outputId": "b68f9a77-981c-4766-dc99-3ddc89520a49"
      },
      "outputs": [
        {
          "output_type": "execute_result",
          "data": {
            "text/plain": [
              "Date                          365\n",
              "Rented Bike Count            2166\n",
              "Hour                           24\n",
              "Temperature(°C)               546\n",
              "Humidity(%)                    90\n",
              "Wind speed (m/s)               65\n",
              "Visibility (10m)             1789\n",
              "Dew point temperature(°C)     556\n",
              "Solar Radiation (MJ/m2)       345\n",
              "Rainfall(mm)                   61\n",
              "Snowfall (cm)                  51\n",
              "Seasons                         4\n",
              "Holiday                         2\n",
              "Functioning Day                 2\n",
              "dtype: int64"
            ]
          },
          "metadata": {},
          "execution_count": 251
        }
      ],
      "source": [
        "# Print the unique value\n",
        "df.nunique()"
      ]
    },
    {
      "cell_type": "code",
      "execution_count": 252,
      "metadata": {
        "colab": {
          "base_uri": "https://localhost:8080/",
          "height": 488
        },
        "id": "FEmH53_w6oC6",
        "outputId": "542d0c8a-7bb1-4ca1-ddf7-b9f53347fdd7"
      },
      "outputs": [
        {
          "output_type": "execute_result",
          "data": {
            "text/plain": [
              "                            count unique         top  freq         mean  \\\n",
              "Date                         8760    365  01/12/2017    24          NaN   \n",
              "Rented Bike Count          8760.0    NaN         NaN   NaN   704.602055   \n",
              "Hour                       8760.0    NaN         NaN   NaN         11.5   \n",
              "Temperature(°C)            8760.0    NaN         NaN   NaN    12.882922   \n",
              "Humidity(%)                8760.0    NaN         NaN   NaN    58.226256   \n",
              "Wind speed (m/s)           8760.0    NaN         NaN   NaN     1.724909   \n",
              "Visibility (10m)           8760.0    NaN         NaN   NaN  1436.825799   \n",
              "Dew point temperature(°C)  8760.0    NaN         NaN   NaN     4.073813   \n",
              "Solar Radiation (MJ/m2)    8760.0    NaN         NaN   NaN     0.569111   \n",
              "Rainfall(mm)               8760.0    NaN         NaN   NaN     0.148687   \n",
              "Snowfall (cm)              8760.0    NaN         NaN   NaN     0.075068   \n",
              "Seasons                      8760      4      Spring  2208          NaN   \n",
              "Holiday                      8760      2  No Holiday  8328          NaN   \n",
              "Functioning Day              8760      2         Yes  8465          NaN   \n",
              "\n",
              "                                  std   min    25%     50%      75%     max  \n",
              "Date                              NaN   NaN    NaN     NaN      NaN     NaN  \n",
              "Rented Bike Count          644.997468   0.0  191.0   504.5  1065.25  3556.0  \n",
              "Hour                         6.922582   0.0   5.75    11.5    17.25    23.0  \n",
              "Temperature(°C)             11.944825 -17.8    3.5    13.7     22.5    39.4  \n",
              "Humidity(%)                 20.362413   0.0   42.0    57.0     74.0    98.0  \n",
              "Wind speed (m/s)               1.0363   0.0    0.9     1.5      2.3     7.4  \n",
              "Visibility (10m)           608.298712  27.0  940.0  1698.0   2000.0  2000.0  \n",
              "Dew point temperature(°C)   13.060369 -30.6   -4.7     5.1     14.8    27.2  \n",
              "Solar Radiation (MJ/m2)      0.868746   0.0    0.0    0.01     0.93    3.52  \n",
              "Rainfall(mm)                 1.128193   0.0    0.0     0.0      0.0    35.0  \n",
              "Snowfall (cm)                0.436746   0.0    0.0     0.0      0.0     8.8  \n",
              "Seasons                           NaN   NaN    NaN     NaN      NaN     NaN  \n",
              "Holiday                           NaN   NaN    NaN     NaN      NaN     NaN  \n",
              "Functioning Day                   NaN   NaN    NaN     NaN      NaN     NaN  "
            ],
            "text/html": [
              "\n",
              "  <div id=\"df-67a7c0df-1c47-44f6-9f03-e5b32808df45\">\n",
              "    <div class=\"colab-df-container\">\n",
              "      <div>\n",
              "<style scoped>\n",
              "    .dataframe tbody tr th:only-of-type {\n",
              "        vertical-align: middle;\n",
              "    }\n",
              "\n",
              "    .dataframe tbody tr th {\n",
              "        vertical-align: top;\n",
              "    }\n",
              "\n",
              "    .dataframe thead th {\n",
              "        text-align: right;\n",
              "    }\n",
              "</style>\n",
              "<table border=\"1\" class=\"dataframe\">\n",
              "  <thead>\n",
              "    <tr style=\"text-align: right;\">\n",
              "      <th></th>\n",
              "      <th>count</th>\n",
              "      <th>unique</th>\n",
              "      <th>top</th>\n",
              "      <th>freq</th>\n",
              "      <th>mean</th>\n",
              "      <th>std</th>\n",
              "      <th>min</th>\n",
              "      <th>25%</th>\n",
              "      <th>50%</th>\n",
              "      <th>75%</th>\n",
              "      <th>max</th>\n",
              "    </tr>\n",
              "  </thead>\n",
              "  <tbody>\n",
              "    <tr>\n",
              "      <th>Date</th>\n",
              "      <td>8760</td>\n",
              "      <td>365</td>\n",
              "      <td>01/12/2017</td>\n",
              "      <td>24</td>\n",
              "      <td>NaN</td>\n",
              "      <td>NaN</td>\n",
              "      <td>NaN</td>\n",
              "      <td>NaN</td>\n",
              "      <td>NaN</td>\n",
              "      <td>NaN</td>\n",
              "      <td>NaN</td>\n",
              "    </tr>\n",
              "    <tr>\n",
              "      <th>Rented Bike Count</th>\n",
              "      <td>8760.0</td>\n",
              "      <td>NaN</td>\n",
              "      <td>NaN</td>\n",
              "      <td>NaN</td>\n",
              "      <td>704.602055</td>\n",
              "      <td>644.997468</td>\n",
              "      <td>0.0</td>\n",
              "      <td>191.0</td>\n",
              "      <td>504.5</td>\n",
              "      <td>1065.25</td>\n",
              "      <td>3556.0</td>\n",
              "    </tr>\n",
              "    <tr>\n",
              "      <th>Hour</th>\n",
              "      <td>8760.0</td>\n",
              "      <td>NaN</td>\n",
              "      <td>NaN</td>\n",
              "      <td>NaN</td>\n",
              "      <td>11.5</td>\n",
              "      <td>6.922582</td>\n",
              "      <td>0.0</td>\n",
              "      <td>5.75</td>\n",
              "      <td>11.5</td>\n",
              "      <td>17.25</td>\n",
              "      <td>23.0</td>\n",
              "    </tr>\n",
              "    <tr>\n",
              "      <th>Temperature(°C)</th>\n",
              "      <td>8760.0</td>\n",
              "      <td>NaN</td>\n",
              "      <td>NaN</td>\n",
              "      <td>NaN</td>\n",
              "      <td>12.882922</td>\n",
              "      <td>11.944825</td>\n",
              "      <td>-17.8</td>\n",
              "      <td>3.5</td>\n",
              "      <td>13.7</td>\n",
              "      <td>22.5</td>\n",
              "      <td>39.4</td>\n",
              "    </tr>\n",
              "    <tr>\n",
              "      <th>Humidity(%)</th>\n",
              "      <td>8760.0</td>\n",
              "      <td>NaN</td>\n",
              "      <td>NaN</td>\n",
              "      <td>NaN</td>\n",
              "      <td>58.226256</td>\n",
              "      <td>20.362413</td>\n",
              "      <td>0.0</td>\n",
              "      <td>42.0</td>\n",
              "      <td>57.0</td>\n",
              "      <td>74.0</td>\n",
              "      <td>98.0</td>\n",
              "    </tr>\n",
              "    <tr>\n",
              "      <th>Wind speed (m/s)</th>\n",
              "      <td>8760.0</td>\n",
              "      <td>NaN</td>\n",
              "      <td>NaN</td>\n",
              "      <td>NaN</td>\n",
              "      <td>1.724909</td>\n",
              "      <td>1.0363</td>\n",
              "      <td>0.0</td>\n",
              "      <td>0.9</td>\n",
              "      <td>1.5</td>\n",
              "      <td>2.3</td>\n",
              "      <td>7.4</td>\n",
              "    </tr>\n",
              "    <tr>\n",
              "      <th>Visibility (10m)</th>\n",
              "      <td>8760.0</td>\n",
              "      <td>NaN</td>\n",
              "      <td>NaN</td>\n",
              "      <td>NaN</td>\n",
              "      <td>1436.825799</td>\n",
              "      <td>608.298712</td>\n",
              "      <td>27.0</td>\n",
              "      <td>940.0</td>\n",
              "      <td>1698.0</td>\n",
              "      <td>2000.0</td>\n",
              "      <td>2000.0</td>\n",
              "    </tr>\n",
              "    <tr>\n",
              "      <th>Dew point temperature(°C)</th>\n",
              "      <td>8760.0</td>\n",
              "      <td>NaN</td>\n",
              "      <td>NaN</td>\n",
              "      <td>NaN</td>\n",
              "      <td>4.073813</td>\n",
              "      <td>13.060369</td>\n",
              "      <td>-30.6</td>\n",
              "      <td>-4.7</td>\n",
              "      <td>5.1</td>\n",
              "      <td>14.8</td>\n",
              "      <td>27.2</td>\n",
              "    </tr>\n",
              "    <tr>\n",
              "      <th>Solar Radiation (MJ/m2)</th>\n",
              "      <td>8760.0</td>\n",
              "      <td>NaN</td>\n",
              "      <td>NaN</td>\n",
              "      <td>NaN</td>\n",
              "      <td>0.569111</td>\n",
              "      <td>0.868746</td>\n",
              "      <td>0.0</td>\n",
              "      <td>0.0</td>\n",
              "      <td>0.01</td>\n",
              "      <td>0.93</td>\n",
              "      <td>3.52</td>\n",
              "    </tr>\n",
              "    <tr>\n",
              "      <th>Rainfall(mm)</th>\n",
              "      <td>8760.0</td>\n",
              "      <td>NaN</td>\n",
              "      <td>NaN</td>\n",
              "      <td>NaN</td>\n",
              "      <td>0.148687</td>\n",
              "      <td>1.128193</td>\n",
              "      <td>0.0</td>\n",
              "      <td>0.0</td>\n",
              "      <td>0.0</td>\n",
              "      <td>0.0</td>\n",
              "      <td>35.0</td>\n",
              "    </tr>\n",
              "    <tr>\n",
              "      <th>Snowfall (cm)</th>\n",
              "      <td>8760.0</td>\n",
              "      <td>NaN</td>\n",
              "      <td>NaN</td>\n",
              "      <td>NaN</td>\n",
              "      <td>0.075068</td>\n",
              "      <td>0.436746</td>\n",
              "      <td>0.0</td>\n",
              "      <td>0.0</td>\n",
              "      <td>0.0</td>\n",
              "      <td>0.0</td>\n",
              "      <td>8.8</td>\n",
              "    </tr>\n",
              "    <tr>\n",
              "      <th>Seasons</th>\n",
              "      <td>8760</td>\n",
              "      <td>4</td>\n",
              "      <td>Spring</td>\n",
              "      <td>2208</td>\n",
              "      <td>NaN</td>\n",
              "      <td>NaN</td>\n",
              "      <td>NaN</td>\n",
              "      <td>NaN</td>\n",
              "      <td>NaN</td>\n",
              "      <td>NaN</td>\n",
              "      <td>NaN</td>\n",
              "    </tr>\n",
              "    <tr>\n",
              "      <th>Holiday</th>\n",
              "      <td>8760</td>\n",
              "      <td>2</td>\n",
              "      <td>No Holiday</td>\n",
              "      <td>8328</td>\n",
              "      <td>NaN</td>\n",
              "      <td>NaN</td>\n",
              "      <td>NaN</td>\n",
              "      <td>NaN</td>\n",
              "      <td>NaN</td>\n",
              "      <td>NaN</td>\n",
              "      <td>NaN</td>\n",
              "    </tr>\n",
              "    <tr>\n",
              "      <th>Functioning Day</th>\n",
              "      <td>8760</td>\n",
              "      <td>2</td>\n",
              "      <td>Yes</td>\n",
              "      <td>8465</td>\n",
              "      <td>NaN</td>\n",
              "      <td>NaN</td>\n",
              "      <td>NaN</td>\n",
              "      <td>NaN</td>\n",
              "      <td>NaN</td>\n",
              "      <td>NaN</td>\n",
              "      <td>NaN</td>\n",
              "    </tr>\n",
              "  </tbody>\n",
              "</table>\n",
              "</div>\n",
              "      <button class=\"colab-df-convert\" onclick=\"convertToInteractive('df-67a7c0df-1c47-44f6-9f03-e5b32808df45')\"\n",
              "              title=\"Convert this dataframe to an interactive table.\"\n",
              "              style=\"display:none;\">\n",
              "        \n",
              "  <svg xmlns=\"http://www.w3.org/2000/svg\" height=\"24px\"viewBox=\"0 0 24 24\"\n",
              "       width=\"24px\">\n",
              "    <path d=\"M0 0h24v24H0V0z\" fill=\"none\"/>\n",
              "    <path d=\"M18.56 5.44l.94 2.06.94-2.06 2.06-.94-2.06-.94-.94-2.06-.94 2.06-2.06.94zm-11 1L8.5 8.5l.94-2.06 2.06-.94-2.06-.94L8.5 2.5l-.94 2.06-2.06.94zm10 10l.94 2.06.94-2.06 2.06-.94-2.06-.94-.94-2.06-.94 2.06-2.06.94z\"/><path d=\"M17.41 7.96l-1.37-1.37c-.4-.4-.92-.59-1.43-.59-.52 0-1.04.2-1.43.59L10.3 9.45l-7.72 7.72c-.78.78-.78 2.05 0 2.83L4 21.41c.39.39.9.59 1.41.59.51 0 1.02-.2 1.41-.59l7.78-7.78 2.81-2.81c.8-.78.8-2.07 0-2.86zM5.41 20L4 18.59l7.72-7.72 1.47 1.35L5.41 20z\"/>\n",
              "  </svg>\n",
              "      </button>\n",
              "      \n",
              "  <style>\n",
              "    .colab-df-container {\n",
              "      display:flex;\n",
              "      flex-wrap:wrap;\n",
              "      gap: 12px;\n",
              "    }\n",
              "\n",
              "    .colab-df-convert {\n",
              "      background-color: #E8F0FE;\n",
              "      border: none;\n",
              "      border-radius: 50%;\n",
              "      cursor: pointer;\n",
              "      display: none;\n",
              "      fill: #1967D2;\n",
              "      height: 32px;\n",
              "      padding: 0 0 0 0;\n",
              "      width: 32px;\n",
              "    }\n",
              "\n",
              "    .colab-df-convert:hover {\n",
              "      background-color: #E2EBFA;\n",
              "      box-shadow: 0px 1px 2px rgba(60, 64, 67, 0.3), 0px 1px 3px 1px rgba(60, 64, 67, 0.15);\n",
              "      fill: #174EA6;\n",
              "    }\n",
              "\n",
              "    [theme=dark] .colab-df-convert {\n",
              "      background-color: #3B4455;\n",
              "      fill: #D2E3FC;\n",
              "    }\n",
              "\n",
              "    [theme=dark] .colab-df-convert:hover {\n",
              "      background-color: #434B5C;\n",
              "      box-shadow: 0px 1px 3px 1px rgba(0, 0, 0, 0.15);\n",
              "      filter: drop-shadow(0px 1px 2px rgba(0, 0, 0, 0.3));\n",
              "      fill: #FFFFFF;\n",
              "    }\n",
              "  </style>\n",
              "\n",
              "      <script>\n",
              "        const buttonEl =\n",
              "          document.querySelector('#df-67a7c0df-1c47-44f6-9f03-e5b32808df45 button.colab-df-convert');\n",
              "        buttonEl.style.display =\n",
              "          google.colab.kernel.accessAllowed ? 'block' : 'none';\n",
              "\n",
              "        async function convertToInteractive(key) {\n",
              "          const element = document.querySelector('#df-67a7c0df-1c47-44f6-9f03-e5b32808df45');\n",
              "          const dataTable =\n",
              "            await google.colab.kernel.invokeFunction('convertToInteractive',\n",
              "                                                     [key], {});\n",
              "          if (!dataTable) return;\n",
              "\n",
              "          const docLinkHtml = 'Like what you see? Visit the ' +\n",
              "            '<a target=\"_blank\" href=https://colab.research.google.com/notebooks/data_table.ipynb>data table notebook</a>'\n",
              "            + ' to learn more about interactive tables.';\n",
              "          element.innerHTML = '';\n",
              "          dataTable['output_type'] = 'display_data';\n",
              "          await google.colab.output.renderOutput(dataTable, element);\n",
              "          const docLink = document.createElement('div');\n",
              "          docLink.innerHTML = docLinkHtml;\n",
              "          element.appendChild(docLink);\n",
              "        }\n",
              "      </script>\n",
              "    </div>\n",
              "  </div>\n",
              "  "
            ]
          },
          "metadata": {},
          "execution_count": 252
        }
      ],
      "source": [
        "# Check the description of the dataset \n",
        "df.describe(include='all').T"
      ]
    },
    {
      "cell_type": "markdown",
      "metadata": {
        "id": "MDVToCM_7IXD"
      },
      "source": [
        "# ⬛ **Data** **Cleaning**"
      ]
    },
    {
      "cell_type": "markdown",
      "metadata": {
        "id": "ND1GR3dQ8PiH"
      },
      "source": [
        "## ▶  **Missing values**"
      ]
    },
    {
      "cell_type": "markdown",
      "metadata": {
        "id": "NXXAOTqkn3NB"
      },
      "source": [
        "\n",
        "\n",
        "### ◼ The real-world data often has a lot of missing values. The cause of missing  values can be data corruption or failure to record data.\n",
        "\n",
        "### ◼ The handling of missing data is very important during the preprocessing of the dataset as many machine learning algorithms do not support missing values that's why we have to check missing values of dataset.\n"
      ]
    },
    {
      "cell_type": "code",
      "execution_count": 253,
      "metadata": {
        "colab": {
          "base_uri": "https://localhost:8080/"
        },
        "id": "wX84EZC66zL5",
        "outputId": "d75b692a-d4e0-403e-daf2-2e6a2c569298"
      },
      "outputs": [
        {
          "output_type": "execute_result",
          "data": {
            "text/plain": [
              "Date                         0\n",
              "Rented Bike Count            0\n",
              "Hour                         0\n",
              "Temperature(°C)              0\n",
              "Humidity(%)                  0\n",
              "Wind speed (m/s)             0\n",
              "Visibility (10m)             0\n",
              "Dew point temperature(°C)    0\n",
              "Solar Radiation (MJ/m2)      0\n",
              "Rainfall(mm)                 0\n",
              "Snowfall (cm)                0\n",
              "Seasons                      0\n",
              "Holiday                      0\n",
              "Functioning Day              0\n",
              "dtype: int64"
            ]
          },
          "metadata": {},
          "execution_count": 253
        }
      ],
      "source": [
        "# check for count of missing values in each column.\n",
        "df.isna().sum()\n",
        "df.isnull().sum()"
      ]
    },
    {
      "cell_type": "markdown",
      "metadata": {
        "id": "L-svd6nl70Zg"
      },
      "source": [
        "## ▶ **Duplicate values**"
      ]
    },
    {
      "cell_type": "markdown",
      "metadata": {
        "id": "vm--rlMYo9gc"
      },
      "source": [
        "\n",
        "### ◼ \"Duplication\" just means that you have repeated data in your dataset. This could be due to things like data entry errors or data collection methods. By removing duplication in our dataset, Time and Money are saved by not sending identical communications multiple times to the same things."
      ]
    },
    {
      "cell_type": "code",
      "execution_count": 254,
      "metadata": {
        "colab": {
          "base_uri": "https://localhost:8080/"
        },
        "id": "0S-65K2H7zxK",
        "outputId": "8040e0a9-0094-47a8-8bc4-53547832f2ec"
      },
      "outputs": [
        {
          "output_type": "stream",
          "name": "stdout",
          "text": [
            "The number of duplicate values in the data set is =  0\n"
          ]
        }
      ],
      "source": [
        "# Check Duplicate Values of dataset\n",
        "value=len(df[df.duplicated()])\n",
        "print(\"The number of duplicate values in the data set is = \",value)\n"
      ]
    },
    {
      "cell_type": "markdown",
      "metadata": {
        "id": "l_rSStlBqDg9"
      },
      "source": [
        "### ◼ In the above dataset after count the missing and duplicate value we came to know that there are no missing and duplicate value present in dataset.\n"
      ]
    },
    {
      "cell_type": "markdown",
      "metadata": {
        "id": "pcjG06129pF6"
      },
      "source": [
        "# **⬛ Change The Column Name**"
      ]
    },
    {
      "cell_type": "markdown",
      "metadata": {
        "id": "c70qU8nub5RC"
      },
      "source": [
        "### ◼ Some of the columns name in the dataset are too large and clumsy so we change them into some simple name, and it don't affect our end results of dataset."
      ]
    },
    {
      "cell_type": "code",
      "execution_count": 255,
      "metadata": {
        "id": "puJE-zrAofUX"
      },
      "outputs": [],
      "source": [
        "# Rename the complex columns name\n",
        "df= df.rename(columns={'Rented Bike Count':'RENTED_BIKE_COUNT',\n",
        "                                'Temperature(°C)':'TEMPERATURE',\n",
        "                                'Humidity(%)':'HUMIDITY',\n",
        "                                'Wind speed (m/s)':'WIND_SPEED',\n",
        "                                'Visibility (10m)':'VISIBILITY',\n",
        "                                'Dew point temperature(°C)':'DEW_POINT_TEMPERATURE',\n",
        "                                'Solar Radiation (MJ/m2)':'SOLAR_RADIATION',\n",
        "                                'Rainfall(mm)':'RAINFALL',\n",
        "                                'Snowfall (cm)':'SNOWFALL',\n",
        "                                'Functioning Day':'FUNCTIONING_DAY',\n",
        "                                 'Date':'DATE',\n",
        "                                  'Hour':'HOUR',\n",
        "                                  'Seasons':'SEASONS',\n",
        "                                  'Holiday':'HOLIDAY'})\n",
        "                               \n",
        "                                "
      ]
    },
    {
      "cell_type": "markdown",
      "metadata": {
        "id": "sKahgR5Drror"
      },
      "source": [
        "# **Create New Columns**\n",
        "###  In dataset \"Date\" column as a object type basically it reads as a string, as the date column is very important to analyze the users behaviour so we need to convert it into datetime format then we split it into three column i.e 'year', 'month', 'day'as a category data type of dataset."
      ]
    },
    {
      "cell_type": "code",
      "execution_count": 256,
      "metadata": {
        "id": "UW1q99z1-HsI"
      },
      "outputs": [],
      "source": [
        "# Changing the \"Date\" column into three \"year\",\"month\",\"day\" column\n",
        "df['DATE'] = df['DATE'].apply(lambda x: \n",
        "                                    dt.datetime.strptime(x,\"%d/%m/%Y\"))"
      ]
    },
    {
      "cell_type": "code",
      "execution_count": 257,
      "metadata": {
        "id": "IzmisapT-fK1"
      },
      "outputs": [],
      "source": [
        "# Create  new columns \n",
        "df['YEAR'] = df['DATE'].dt.year\n",
        "df['MONTH'] = df['DATE'].dt.month\n",
        "df['DAY'] = df['DATE'].dt.day_name()"
      ]
    },
    {
      "cell_type": "code",
      "execution_count": 258,
      "metadata": {
        "id": "nEUFtTRb-upD"
      },
      "outputs": [],
      "source": [
        "# Create a new column of \"weekdays_weekend\" \n",
        "df['WEEKDAYS_WEEKEND']= df['DAY'].apply(lambda x : 1 if x=='Saturday' or x=='Sunday' else 0 )"
      ]
    },
    {
      "cell_type": "code",
      "execution_count": 259,
      "metadata": {
        "colab": {
          "base_uri": "https://localhost:8080/",
          "height": 357
        },
        "id": "J4rRWWVS-9I6",
        "outputId": "8f3c7c9f-6aca-4907-a3e1-b87e1fe0c392"
      },
      "outputs": [
        {
          "output_type": "execute_result",
          "data": {
            "text/plain": [
              "        DATE  RENTED_BIKE_COUNT  HOUR  TEMPERATURE  HUMIDITY  WIND_SPEED  \\\n",
              "0 2017-12-01                254     0         -5.2        37         2.2   \n",
              "1 2017-12-01                204     1         -5.5        38         0.8   \n",
              "2 2017-12-01                173     2         -6.0        39         1.0   \n",
              "3 2017-12-01                107     3         -6.2        40         0.9   \n",
              "4 2017-12-01                 78     4         -6.0        36         2.3   \n",
              "\n",
              "   VISIBILITY  DEW_POINT_TEMPERATURE  SOLAR_RADIATION  RAINFALL  SNOWFALL  \\\n",
              "0        2000                  -17.6              0.0       0.0       0.0   \n",
              "1        2000                  -17.6              0.0       0.0       0.0   \n",
              "2        2000                  -17.7              0.0       0.0       0.0   \n",
              "3        2000                  -17.6              0.0       0.0       0.0   \n",
              "4        2000                  -18.6              0.0       0.0       0.0   \n",
              "\n",
              "  SEASONS     HOLIDAY FUNCTIONING_DAY  YEAR  MONTH     DAY  WEEKDAYS_WEEKEND  \n",
              "0  Winter  No Holiday             Yes  2017     12  Friday                 0  \n",
              "1  Winter  No Holiday             Yes  2017     12  Friday                 0  \n",
              "2  Winter  No Holiday             Yes  2017     12  Friday                 0  \n",
              "3  Winter  No Holiday             Yes  2017     12  Friday                 0  \n",
              "4  Winter  No Holiday             Yes  2017     12  Friday                 0  "
            ],
            "text/html": [
              "\n",
              "  <div id=\"df-e059c0c3-433d-4f7f-a9a7-006ee4523a7a\">\n",
              "    <div class=\"colab-df-container\">\n",
              "      <div>\n",
              "<style scoped>\n",
              "    .dataframe tbody tr th:only-of-type {\n",
              "        vertical-align: middle;\n",
              "    }\n",
              "\n",
              "    .dataframe tbody tr th {\n",
              "        vertical-align: top;\n",
              "    }\n",
              "\n",
              "    .dataframe thead th {\n",
              "        text-align: right;\n",
              "    }\n",
              "</style>\n",
              "<table border=\"1\" class=\"dataframe\">\n",
              "  <thead>\n",
              "    <tr style=\"text-align: right;\">\n",
              "      <th></th>\n",
              "      <th>DATE</th>\n",
              "      <th>RENTED_BIKE_COUNT</th>\n",
              "      <th>HOUR</th>\n",
              "      <th>TEMPERATURE</th>\n",
              "      <th>HUMIDITY</th>\n",
              "      <th>WIND_SPEED</th>\n",
              "      <th>VISIBILITY</th>\n",
              "      <th>DEW_POINT_TEMPERATURE</th>\n",
              "      <th>SOLAR_RADIATION</th>\n",
              "      <th>RAINFALL</th>\n",
              "      <th>SNOWFALL</th>\n",
              "      <th>SEASONS</th>\n",
              "      <th>HOLIDAY</th>\n",
              "      <th>FUNCTIONING_DAY</th>\n",
              "      <th>YEAR</th>\n",
              "      <th>MONTH</th>\n",
              "      <th>DAY</th>\n",
              "      <th>WEEKDAYS_WEEKEND</th>\n",
              "    </tr>\n",
              "  </thead>\n",
              "  <tbody>\n",
              "    <tr>\n",
              "      <th>0</th>\n",
              "      <td>2017-12-01</td>\n",
              "      <td>254</td>\n",
              "      <td>0</td>\n",
              "      <td>-5.2</td>\n",
              "      <td>37</td>\n",
              "      <td>2.2</td>\n",
              "      <td>2000</td>\n",
              "      <td>-17.6</td>\n",
              "      <td>0.0</td>\n",
              "      <td>0.0</td>\n",
              "      <td>0.0</td>\n",
              "      <td>Winter</td>\n",
              "      <td>No Holiday</td>\n",
              "      <td>Yes</td>\n",
              "      <td>2017</td>\n",
              "      <td>12</td>\n",
              "      <td>Friday</td>\n",
              "      <td>0</td>\n",
              "    </tr>\n",
              "    <tr>\n",
              "      <th>1</th>\n",
              "      <td>2017-12-01</td>\n",
              "      <td>204</td>\n",
              "      <td>1</td>\n",
              "      <td>-5.5</td>\n",
              "      <td>38</td>\n",
              "      <td>0.8</td>\n",
              "      <td>2000</td>\n",
              "      <td>-17.6</td>\n",
              "      <td>0.0</td>\n",
              "      <td>0.0</td>\n",
              "      <td>0.0</td>\n",
              "      <td>Winter</td>\n",
              "      <td>No Holiday</td>\n",
              "      <td>Yes</td>\n",
              "      <td>2017</td>\n",
              "      <td>12</td>\n",
              "      <td>Friday</td>\n",
              "      <td>0</td>\n",
              "    </tr>\n",
              "    <tr>\n",
              "      <th>2</th>\n",
              "      <td>2017-12-01</td>\n",
              "      <td>173</td>\n",
              "      <td>2</td>\n",
              "      <td>-6.0</td>\n",
              "      <td>39</td>\n",
              "      <td>1.0</td>\n",
              "      <td>2000</td>\n",
              "      <td>-17.7</td>\n",
              "      <td>0.0</td>\n",
              "      <td>0.0</td>\n",
              "      <td>0.0</td>\n",
              "      <td>Winter</td>\n",
              "      <td>No Holiday</td>\n",
              "      <td>Yes</td>\n",
              "      <td>2017</td>\n",
              "      <td>12</td>\n",
              "      <td>Friday</td>\n",
              "      <td>0</td>\n",
              "    </tr>\n",
              "    <tr>\n",
              "      <th>3</th>\n",
              "      <td>2017-12-01</td>\n",
              "      <td>107</td>\n",
              "      <td>3</td>\n",
              "      <td>-6.2</td>\n",
              "      <td>40</td>\n",
              "      <td>0.9</td>\n",
              "      <td>2000</td>\n",
              "      <td>-17.6</td>\n",
              "      <td>0.0</td>\n",
              "      <td>0.0</td>\n",
              "      <td>0.0</td>\n",
              "      <td>Winter</td>\n",
              "      <td>No Holiday</td>\n",
              "      <td>Yes</td>\n",
              "      <td>2017</td>\n",
              "      <td>12</td>\n",
              "      <td>Friday</td>\n",
              "      <td>0</td>\n",
              "    </tr>\n",
              "    <tr>\n",
              "      <th>4</th>\n",
              "      <td>2017-12-01</td>\n",
              "      <td>78</td>\n",
              "      <td>4</td>\n",
              "      <td>-6.0</td>\n",
              "      <td>36</td>\n",
              "      <td>2.3</td>\n",
              "      <td>2000</td>\n",
              "      <td>-18.6</td>\n",
              "      <td>0.0</td>\n",
              "      <td>0.0</td>\n",
              "      <td>0.0</td>\n",
              "      <td>Winter</td>\n",
              "      <td>No Holiday</td>\n",
              "      <td>Yes</td>\n",
              "      <td>2017</td>\n",
              "      <td>12</td>\n",
              "      <td>Friday</td>\n",
              "      <td>0</td>\n",
              "    </tr>\n",
              "  </tbody>\n",
              "</table>\n",
              "</div>\n",
              "      <button class=\"colab-df-convert\" onclick=\"convertToInteractive('df-e059c0c3-433d-4f7f-a9a7-006ee4523a7a')\"\n",
              "              title=\"Convert this dataframe to an interactive table.\"\n",
              "              style=\"display:none;\">\n",
              "        \n",
              "  <svg xmlns=\"http://www.w3.org/2000/svg\" height=\"24px\"viewBox=\"0 0 24 24\"\n",
              "       width=\"24px\">\n",
              "    <path d=\"M0 0h24v24H0V0z\" fill=\"none\"/>\n",
              "    <path d=\"M18.56 5.44l.94 2.06.94-2.06 2.06-.94-2.06-.94-.94-2.06-.94 2.06-2.06.94zm-11 1L8.5 8.5l.94-2.06 2.06-.94-2.06-.94L8.5 2.5l-.94 2.06-2.06.94zm10 10l.94 2.06.94-2.06 2.06-.94-2.06-.94-.94-2.06-.94 2.06-2.06.94z\"/><path d=\"M17.41 7.96l-1.37-1.37c-.4-.4-.92-.59-1.43-.59-.52 0-1.04.2-1.43.59L10.3 9.45l-7.72 7.72c-.78.78-.78 2.05 0 2.83L4 21.41c.39.39.9.59 1.41.59.51 0 1.02-.2 1.41-.59l7.78-7.78 2.81-2.81c.8-.78.8-2.07 0-2.86zM5.41 20L4 18.59l7.72-7.72 1.47 1.35L5.41 20z\"/>\n",
              "  </svg>\n",
              "      </button>\n",
              "      \n",
              "  <style>\n",
              "    .colab-df-container {\n",
              "      display:flex;\n",
              "      flex-wrap:wrap;\n",
              "      gap: 12px;\n",
              "    }\n",
              "\n",
              "    .colab-df-convert {\n",
              "      background-color: #E8F0FE;\n",
              "      border: none;\n",
              "      border-radius: 50%;\n",
              "      cursor: pointer;\n",
              "      display: none;\n",
              "      fill: #1967D2;\n",
              "      height: 32px;\n",
              "      padding: 0 0 0 0;\n",
              "      width: 32px;\n",
              "    }\n",
              "\n",
              "    .colab-df-convert:hover {\n",
              "      background-color: #E2EBFA;\n",
              "      box-shadow: 0px 1px 2px rgba(60, 64, 67, 0.3), 0px 1px 3px 1px rgba(60, 64, 67, 0.15);\n",
              "      fill: #174EA6;\n",
              "    }\n",
              "\n",
              "    [theme=dark] .colab-df-convert {\n",
              "      background-color: #3B4455;\n",
              "      fill: #D2E3FC;\n",
              "    }\n",
              "\n",
              "    [theme=dark] .colab-df-convert:hover {\n",
              "      background-color: #434B5C;\n",
              "      box-shadow: 0px 1px 3px 1px rgba(0, 0, 0, 0.15);\n",
              "      filter: drop-shadow(0px 1px 2px rgba(0, 0, 0, 0.3));\n",
              "      fill: #FFFFFF;\n",
              "    }\n",
              "  </style>\n",
              "\n",
              "      <script>\n",
              "        const buttonEl =\n",
              "          document.querySelector('#df-e059c0c3-433d-4f7f-a9a7-006ee4523a7a button.colab-df-convert');\n",
              "        buttonEl.style.display =\n",
              "          google.colab.kernel.accessAllowed ? 'block' : 'none';\n",
              "\n",
              "        async function convertToInteractive(key) {\n",
              "          const element = document.querySelector('#df-e059c0c3-433d-4f7f-a9a7-006ee4523a7a');\n",
              "          const dataTable =\n",
              "            await google.colab.kernel.invokeFunction('convertToInteractive',\n",
              "                                                     [key], {});\n",
              "          if (!dataTable) return;\n",
              "\n",
              "          const docLinkHtml = 'Like what you see? Visit the ' +\n",
              "            '<a target=\"_blank\" href=https://colab.research.google.com/notebooks/data_table.ipynb>data table notebook</a>'\n",
              "            + ' to learn more about interactive tables.';\n",
              "          element.innerHTML = '';\n",
              "          dataTable['output_type'] = 'display_data';\n",
              "          await google.colab.output.renderOutput(dataTable, element);\n",
              "          const docLink = document.createElement('div');\n",
              "          docLink.innerHTML = docLinkHtml;\n",
              "          element.appendChild(docLink);\n",
              "        }\n",
              "      </script>\n",
              "    </div>\n",
              "  </div>\n",
              "  "
            ]
          },
          "metadata": {},
          "execution_count": 259
        }
      ],
      "source": [
        "# Check the front rows of dataset\n",
        "df.head()"
      ]
    },
    {
      "cell_type": "markdown",
      "metadata": {
        "id": "tG6oJDgR_3k4"
      },
      "source": [
        "# ▶ **Change Data Type**"
      ]
    },
    {
      "cell_type": "markdown",
      "metadata": {
        "id": "L0fRfLqxsbjU"
      },
      "source": [
        "\n",
        "### ◼ As \"Hour\" , \"month\" , \"weekdays_weekend\" column are show as a integer data type but actually it is a category data type. so we need to change this data type if we not done this properly then, while doing the further anlysis and correleted of dataset then the values are not actually true so we can mislead by this."
      ]
    },
    {
      "cell_type": "code",
      "execution_count": 260,
      "metadata": {
        "id": "qESnCMUPAMRC"
      },
      "outputs": [],
      "source": [
        "# Change the int64 column into catagory column\n",
        "cols=['HOUR','MONTH','WEEKDAYS_WEEKEND']\n",
        "for col in cols:\n",
        "  df[col]= df[col].astype('category')"
      ]
    },
    {
      "cell_type": "code",
      "execution_count": 261,
      "metadata": {
        "colab": {
          "base_uri": "https://localhost:8080/"
        },
        "id": "tysYQE6oAZvB",
        "outputId": "878eadc9-eaac-4c44-fc30-1545350e0277"
      },
      "outputs": [
        {
          "output_type": "stream",
          "name": "stdout",
          "text": [
            "<class 'pandas.core.frame.DataFrame'>\n",
            "RangeIndex: 8760 entries, 0 to 8759\n",
            "Data columns (total 18 columns):\n",
            " #   Column                 Non-Null Count  Dtype         \n",
            "---  ------                 --------------  -----         \n",
            " 0   DATE                   8760 non-null   datetime64[ns]\n",
            " 1   RENTED_BIKE_COUNT      8760 non-null   int64         \n",
            " 2   HOUR                   8760 non-null   category      \n",
            " 3   TEMPERATURE            8760 non-null   float64       \n",
            " 4   HUMIDITY               8760 non-null   int64         \n",
            " 5   WIND_SPEED             8760 non-null   float64       \n",
            " 6   VISIBILITY             8760 non-null   int64         \n",
            " 7   DEW_POINT_TEMPERATURE  8760 non-null   float64       \n",
            " 8   SOLAR_RADIATION        8760 non-null   float64       \n",
            " 9   RAINFALL               8760 non-null   float64       \n",
            " 10  SNOWFALL               8760 non-null   float64       \n",
            " 11  SEASONS                8760 non-null   object        \n",
            " 12  HOLIDAY                8760 non-null   object        \n",
            " 13  FUNCTIONING_DAY        8760 non-null   object        \n",
            " 14  YEAR                   8760 non-null   int64         \n",
            " 15  MONTH                  8760 non-null   category      \n",
            " 16  DAY                    8760 non-null   object        \n",
            " 17  WEEKDAYS_WEEKEND       8760 non-null   category      \n",
            "dtypes: category(3), datetime64[ns](1), float64(6), int64(4), object(4)\n",
            "memory usage: 1.0+ MB\n"
          ]
        }
      ],
      "source": [
        "# Let's check the result of data type\n",
        "df.info()\n"
      ]
    },
    {
      "cell_type": "markdown",
      "metadata": {
        "id": "kOfqs8RgFEF7"
      },
      "source": [
        "# ⬛ **Data Visualization** **And Processing  On The Dataset**\n",
        "\n"
      ]
    },
    {
      "cell_type": "markdown",
      "metadata": {
        "id": "fWdCWu7TG_ZO"
      },
      "source": [
        "### ▶  Data visualization is the representation of data through use of common graphics, such as charts, plots, infographics, and even animations. These visual displays of information communicate complex data relationships and data-driven insights in a way that is easy to understand."
      ]
    },
    {
      "cell_type": "markdown",
      "metadata": {
        "id": "C0pvVvI2uwlg"
      },
      "source": [
        "## ⚫ **Exploring seasons Data**"
      ]
    },
    {
      "cell_type": "code",
      "execution_count": 262,
      "metadata": {
        "colab": {
          "base_uri": "https://localhost:8080/"
        },
        "id": "ybYY-mESQVB0",
        "outputId": "f4161ade-82be-46ff-cab5-618b0fbc066b"
      },
      "outputs": [
        {
          "output_type": "execute_result",
          "data": {
            "text/plain": [
              "array(['Winter', 'Spring', 'Summer', 'Autumn'], dtype=object)"
            ]
          },
          "metadata": {},
          "execution_count": 262
        }
      ],
      "source": [
        "# Data visualization on seasons column\n",
        "df['SEASONS'].unique()"
      ]
    },
    {
      "cell_type": "code",
      "execution_count": 263,
      "metadata": {
        "colab": {
          "base_uri": "https://localhost:8080/",
          "height": 452
        },
        "id": "N0D6uZwIBS8K",
        "outputId": "e8fa1068-a78b-4f31-edde-9a8778e188c6"
      },
      "outputs": [
        {
          "output_type": "display_data",
          "data": {
            "text/plain": [
              "<Figure size 700x500 with 1 Axes>"
            ],
            "image/png": "[encoded data removed]"
          },
          "metadata": {}
        }
      ],
      "source": [
        "# Ploting pie chart for season\n",
        "plt.subplots(figsize=(7,5))\n",
        "plt.title(\"SEASONS\", fontsize=20)\n",
        "plt.pie(df['SEASONS'].value_counts(), labels = df.SEASONS.unique(), autopct='%.2f%%' ,shadow=True, radius=1.2, textprops = {\"fontsize\":15} )\n",
        "plt.show()"
      ]
    },
    {
      "cell_type": "markdown",
      "metadata": {
        "id": "WC6y8ZH5ldF6"
      },
      "source": [
        "## **◼ Observation**\n",
        "### Pie charts are used to represent the proportional data or relative data in a single chart We plot piachart for visualize all type of Seasons are given in the Dataset.\n",
        "\n",
        "### By the dataset we have four seasons which of Spring, Winter , Summer , Autumn and all of these have the almost similar values shows ."
      ]
    },
    {
      "cell_type": "markdown",
      "metadata": {
        "id": "jKGhjR3yvNaU"
      },
      "source": [
        "## ⚫ **Explore the weekdays_weekend vs Rented Bike Count Data**"
      ]
    },
    {
      "cell_type": "code",
      "execution_count": null,
      "metadata": {
        "colab": {
          "base_uri": "https://localhost:8080/"
        },
        "id": "Ib7yawDmprV4",
        "outputId": "96fa6da2-9506-4852-9460-add0bff83952"
      },
      "outputs": [
        {
          "output_type": "execute_result",
          "data": {
            "text/plain": [
              "Text(67.625, 0.5, 'Rented Bike Count')"
            ]
          },
          "metadata": {},
          "execution_count": 264
        }
      ],
      "source": [
        "# Distribution plot weekdays_weekend vs Rented Bike Count\n",
        "plt.figure(figsize=(10,6))\n",
        "sns.set(style='white')\n",
        "ax=sns.swarmplot(x='WEEKDAYS_WEEKEND', y='RENTED_BIKE_COUNT',data=df) \n",
        "ax.set_title('Rented bike count by weekdays weekends',fontsize=15)\n",
        "ax.set_xlabel(\"weekdays_weekend\",fontsize=20)\n",
        "ax.set_ylabel(\"Rented Bike Count\",fontsize=20)\n",
        "     "
      ]
    },
    {
      "cell_type": "markdown",
      "metadata": {
        "id": "5H-EnytOiIRm"
      },
      "source": [
        "## ◼ **Observation**\n",
        "\n",
        "### A swarmplot shows all the data points and that helps to understand the distribution in a better manner. Swarmplot is being used to plot weekdays_weekend rented bikes.\n",
        "\n",
        "### From the above figure it is clear that the weekdays has slightly more demand over the weekend it means peoples love to stay at home at weekend."
      ]
    },
    {
      "cell_type": "markdown",
      "metadata": {
        "id": "hCBYAC46v22S"
      },
      "source": [
        "## **⚫ Explore the functioning days Data**"
      ]
    },
    {
      "cell_type": "code",
      "execution_count": null,
      "metadata": {
        "id": "fnUgPttlBYDO"
      },
      "outputs": [],
      "source": [
        "# Checking counts of functioning day\n",
        "df['FUNCTIONING_DAY'].value_counts()"
      ]
    },
    {
      "cell_type": "code",
      "execution_count": null,
      "metadata": {
        "id": "BL5EYR5ABX-i"
      },
      "outputs": [],
      "source": [
        "# Ploting pie chart for Function day\n",
        "plt.subplots(figsize=(10,5))\n",
        "plt.title(\"Functioning_Day\", fontsize=20)\n",
        "plt.pie(df['FUNCTIONING_DAY'].value_counts(), labels = df['FUNCTIONING_DAY'].unique(), autopct='%.2f%%' ,shadow=True,textprops = {\"fontsize\":15} ,radius = 1)\n",
        "plt.axis('equal')\n",
        "plt.show()"
      ]
    },
    {
      "cell_type": "markdown",
      "metadata": {
        "id": "Z7NLoZhWvTs2"
      },
      "source": [
        "## ◼ **Observation**\n",
        "\n",
        "### A pie chart helps organize and show data as a percentage of a whole. By the above piachart we clearly define that the Functioning days have 96.63%  and Non functioning days have 3.37% ."
      ]
    },
    {
      "cell_type": "markdown",
      "metadata": {
        "id": "CVNzG5buwbhS"
      },
      "source": [
        "## **⚫ Explore the Rented Bike count over different seasons Data**"
      ]
    },
    {
      "cell_type": "code",
      "execution_count": null,
      "metadata": {
        "id": "TjDie7Wql-v9"
      },
      "outputs": [],
      "source": [
        "# Visulize Rented Bike Count Over Seasons column\n",
        "plt.figure(figsize=(10,5))\n",
        "plt.title('Rented Bike count over different seasons',fontweight = 'bold' ,fontsize = 17)\n",
        "sns.barplot(data = df, x='SEASONS', y = 'RENTED_BIKE_COUNT', palette ='flare')\n",
        "plt.xlabel('Seasons',fontsize=15)\n",
        "plt.ylabel('Rented_Bike_Count',fontsize=15)\n",
        "plt.show()"
      ]
    },
    {
      "cell_type": "markdown",
      "metadata": {
        "id": "__zNg3mKw1H_"
      },
      "source": [
        "## ◼ **Observation**\n",
        "### The bar graph is used to compare the feature between different groups over time. From the above barplot we can say that Summer Season have higher numbers of bike demand similarly followed with Autumn Season and winter Season have lowest number of bike demand according to given dataset.\n",
        "### In winter seasons most of the people prefer stay at home rather than go outside."
      ]
    },
    {
      "cell_type": "markdown",
      "metadata": {
        "id": "tr7Lt6TZwpd5"
      },
      "source": [
        "## **⚫ Explore The Rented Bike Count Over Different Months Data**"
      ]
    },
    {
      "cell_type": "code",
      "execution_count": null,
      "metadata": {
        "id": "NwyuqOOSApU2"
      },
      "outputs": [],
      "source": [
        "# Count unique values of dataset\n",
        "df['MONTH'].unique()\n"
      ]
    },
    {
      "cell_type": "code",
      "execution_count": null,
      "metadata": {
        "id": "sPFhYzBKl-jN"
      },
      "outputs": [],
      "source": [
        "# Week and Month name of the dataset\n",
        "\n",
        "df['DATE']=pd.to_datetime(df['DATE'])\n",
        "df['DAY']=df['DATE'].dt.day_name()\n",
        "\n",
        "df['MONTH']=df['DATE'].dt.month_name()\n",
        "df['YEAR']=df['DATE'].dt.year\n"
      ]
    },
    {
      "cell_type": "code",
      "execution_count": null,
      "metadata": {
        "id": "AsHp5cyE-ewJ"
      },
      "outputs": [],
      "source": [
        "# Visualization of Bike Count Over Months\n",
        "plt.figure(figsize=(12,5))\n",
        "plt.title('Rented Bike count over different months', fontweight = 'bold' , fontsize= 17)\n",
        "sns.barplot(data = df, x='MONTH', y = 'RENTED_BIKE_COUNT')\n",
        "plt.xlabel('Months',fontsize=15)\n",
        "plt.ylabel('Rented_Bike_Count',fontsize=15)\n",
        "sns.despine()\n",
        "plt.show()"
      ]
    },
    {
      "cell_type": "markdown",
      "metadata": {
        "id": "8WVEAFxJ1wxj"
      },
      "source": [
        "## ◼ **Observation**\n",
        "### The bar graph is used to compare the feature between different groups over time. Here we plot the demand for rented bikes count over different month from given dataset.\n",
        "### In dataset clearly we can say that month may , june , july , august , september , october have highest bike demand and december , january , february have lowest demand for rented bike ."
      ]
    },
    {
      "cell_type": "markdown",
      "metadata": {
        "id": "7wKhUboWxGIm"
      },
      "source": [
        "## **⚫ Explore The Rented Bike Count Vs Different Days Data**"
      ]
    },
    {
      "cell_type": "code",
      "execution_count": null,
      "metadata": {
        "id": "5taY_gchl-dH"
      },
      "outputs": [],
      "source": [
        "# Visualize the Bike Count Over DAYS\n",
        "plt.figure(figsize=(10,5))\n",
        "plt.title('Rented Bike count Vs different days',fontweight = 'bold' , fontsize = 17)\n",
        "sns.barplot(data = df, x='DAY', y = 'RENTED_BIKE_COUNT', palette ='plasma')\n",
        "plt.xlabel('Day',fontsize=15)\n",
        "plt.ylabel('Rented_Bike_Count',fontsize=15)\n",
        "plt.show()"
      ]
    },
    {
      "cell_type": "markdown",
      "metadata": {
        "id": "TXiEGkLv5w_7"
      },
      "source": [
        "## ◼ **Observation**\n",
        "### Bar graphs are used to measure the changes over a period of time. In this graph we plot the bike demand over the different days by the given dataset it's clear that sunday has least demand for rented bike over the different days and other days have the highest demand for rented bike compare to sunday."
      ]
    },
    {
      "cell_type": "markdown",
      "metadata": {
        "id": "oGAlnA6exni4"
      },
      "source": [
        "## **⚫ Explore The Rented Bike Count Vs Hours Data**"
      ]
    },
    {
      "cell_type": "code",
      "execution_count": null,
      "metadata": {
        "id": "twLbTYmEE4eK"
      },
      "outputs": [],
      "source": [
        "# Visulize Rented Bike Count Over Hours column\n",
        "plt.figure(figsize=(12,5))\n",
        "plt.title('Rented Bike count Vs Hours',fontweight = 'bold' , fontsize = 17)\n",
        "sns.barplot(data = df, x='HOUR', y = 'RENTED_BIKE_COUNT', palette ='inferno')\n",
        "plt.xlabel('Hours',fontsize=15)\n",
        "plt.ylabel('Rented_Bike_Count',fontsize=15)\n",
        "plt.show()"
      ]
    },
    {
      "cell_type": "markdown",
      "metadata": {
        "id": "lqhm-ojEKdRC"
      },
      "source": [
        "## ◼ **Observation**\n",
        "### A Bar Graph is a graphical display of data using bars of different feature. From the above graph we can see that at the 7-9 am in the morning the demand of rented bikes is highest. It means people take bikes on rent to go to their office or workplace and the demand for rented bikes is highest between 4 - 10 pm. It means people take bikes on rent while returning to their homes from their office or workplaces to avoid heavy traffic."
      ]
    },
    {
      "cell_type": "markdown",
      "metadata": {
        "id": "UQvmlRNNxz5k"
      },
      "source": [
        "## **⚫ Explore The Rented Bike Count Over Holidays Data**"
      ]
    },
    {
      "cell_type": "code",
      "execution_count": null,
      "metadata": {
        "id": "Mdrxuzo6MzZT"
      },
      "outputs": [],
      "source": [
        "# Visualize Rented Bike Count Over Holidays columns\n",
        "plt.figure(figsize=(10,5))\n",
        "plt.title('Rented Bike count over Holidays',fontweight = 'bold' , fontsize = 17)\n",
        "sns.barplot(data = df, x='HOLIDAY', y = 'RENTED_BIKE_COUNT', )\n",
        "plt.xlabel('Holidays',fontsize=15)\n",
        "plt.ylabel('Rented_Bike_Count',fontsize=15)\n",
        "plt.show()"
      ]
    },
    {
      "cell_type": "markdown",
      "metadata": {
        "id": "tq6RrRd7MUon"
      },
      "source": [
        "## ◼  **Observation**\n",
        "### A barplot is one of the most common types of graphic By the above graph clearly see that people rent bikes less in holiday days compare to non-holidays , people love to stay  at home and celebrate the festivals or holiday with  their family and friends.\n"
      ]
    },
    {
      "cell_type": "markdown",
      "metadata": {
        "id": "2YMCFecoyE5q"
      },
      "source": [
        "## **⚫ Explore The Rented Bike Count Over Years Data**"
      ]
    },
    {
      "cell_type": "code",
      "execution_count": null,
      "metadata": {
        "id": "QO8Bj5QbDqRI"
      },
      "outputs": [],
      "source": [
        "# Check the value count of dataset\n",
        "df['YEAR'].value_counts()"
      ]
    },
    {
      "cell_type": "code",
      "execution_count": null,
      "metadata": {
        "id": "3TCqYfIcCpjS"
      },
      "outputs": [],
      "source": [
        "# Visulize Rented Bike Count Over Years columns\n",
        "plt.figure(figsize=(10,5))\n",
        "plt.title('Rented Bike count over Years',fontweight = 'bold' , fontsize = 17)\n",
        "sns.barplot(data = df, x='YEAR', y = 'RENTED_BIKE_COUNT', palette ='inferno')\n",
        "plt.xlabel('Years',fontsize=15)\n",
        "plt.ylabel('Rented_Bike_Count',fontsize=15)\n",
        "plt.show()"
      ]
    },
    {
      "cell_type": "markdown",
      "metadata": {
        "id": "0jyOFGi4PImn"
      },
      "source": [
        "## ◼ **Observation**\n",
        "### The bar graph is used to compare the feature between different groups over period of time. From the given dataset in year 2017 demand for rented bikes have less demand and in year 2018 demand for the rented bikes increase rapidly within one year.\n"
      ]
    },
    {
      "cell_type": "markdown",
      "metadata": {
        "id": "Zkel6yhhyhQ0"
      },
      "source": [
        "## **⚫ Explore The Rented Bike Count Over Temperature Data**"
      ]
    },
    {
      "cell_type": "code",
      "execution_count": null,
      "metadata": {
        "id": "O-kbnqfhKyjo"
      },
      "outputs": [],
      "source": [
        "# Visulize Temp vs Rented bike columns\n",
        "plt.figure(figsize=(10,5))\n",
        "df.groupby('TEMPERATURE').mean()['RENTED_BIKE_COUNT'].plot()"
      ]
    },
    {
      "cell_type": "markdown",
      "metadata": {
        "id": "lofEfmZDQ1B3"
      },
      "source": [
        "## ◼ **Observation**\n",
        "### By the following graph we can say that people prefer to take bike ride more often when the temperature is near about 20-30 degrees Celcius it means the people prefer to demand bike ride in summers as compare to other seasons."
      ]
    },
    {
      "cell_type": "markdown",
      "metadata": {
        "id": "o-cHGx_azPdB"
      },
      "source": [
        "## **⚫ Explore The Rented Bike Count,  Hour and Seasons Data**"
      ]
    },
    {
      "cell_type": "code",
      "execution_count": null,
      "metadata": {
        "id": "tCWqPC4nJ0YA"
      },
      "outputs": [],
      "source": [
        "# Plot chart between bike rented according to  hour and seasons columns\n",
        "plt.figure(figsize=(12,5))\n",
        "sns.pointplot(data=df, x=\"HOUR\", y='RENTED_BIKE_COUNT', hue='SEASONS')"
      ]
    },
    {
      "cell_type": "markdown",
      "metadata": {
        "id": "w4lpr7vAhMaR"
      },
      "source": [
        "## ◼ **Observation**\n",
        "### A point plot uses scatter plot graphs to visualize features like point estimates and confidence intervals. In the above  point plot which shows the use of rented bike  in four different seasons, and it clearly shows that, In summer season the use of rented bike is high and peak time is 7am-9am and 5pm-10pm and In winter season the use of rented bike is very low because of snowfall."
      ]
    },
    {
      "cell_type": "markdown",
      "metadata": {
        "id": "M1yiR2YN0WBh"
      },
      "source": [
        "## **⚫ Explore The Rented Bike Count Over Month  and Weekdays_Weekend Data**"
      ]
    },
    {
      "cell_type": "code",
      "execution_count": null,
      "metadata": {
        "id": "tTcFBtJBE9gA"
      },
      "outputs": [],
      "source": [
        "# Plot the graph between the HOUR and RENTED_BIKE_COUNT OVER WEEKDAYS_WEEKEND columns\n",
        "plt.figure(figsize=(12,6))\n",
        "sns.barplot(data=df, x=\"MONTH\", y='RENTED_BIKE_COUNT', hue='WEEKDAYS_WEEKEND')"
      ]
    },
    {
      "cell_type": "markdown",
      "metadata": {
        "id": "Ayi9oTDxMZVM"
      },
      "source": [
        "## ◼ **Observation**\n",
        "### The bar graph is used to compare the feature between different groups over period of time. From the given dataset we conclude that on weekdays the maximum demand for rented bike in  month of June similarly as on weekend also have maximum demand for bike rented in June and the minimun demand for rented bike both weekdays and weekend  is on the month of January. "
      ]
    },
    {
      "cell_type": "markdown",
      "metadata": {
        "id": "YAGiSzOS14cP"
      },
      "source": [
        "# ⚫ **Correlation Analysis between Multiple Columns**"
      ]
    },
    {
      "cell_type": "code",
      "execution_count": null,
      "metadata": {
        "id": "9AyDxlm2578y"
      },
      "outputs": [],
      "source": [
        "# Check the Correlation of columns\n",
        "df.corr()"
      ]
    },
    {
      "cell_type": "code",
      "execution_count": null,
      "metadata": {
        "id": "-RJY4fP36FBK"
      },
      "outputs": [],
      "source": [
        "# Plot the Correlation graph\n",
        "plt.figure(figsize=(10,6))\n",
        "sns.heatmap(df.corr(),annot=True)"
      ]
    },
    {
      "cell_type": "markdown",
      "metadata": {
        "id": "qdl9rp4aPtE-"
      },
      "source": [
        "## ◼ **Observation**\n",
        "### By the above figure we can say that  heatmap displays the correlation between various features of the data set. The values next to the cells show the strength of the correlation between two features, with values closer to 1 indicating strong positive correlation, values close to -1 indicating strong negative correlation, and values closer to 0 indicating no correlation. Heat map shows Temperature and Dew point temperature is highly correlated.There is a highly negative correlation between wind speed and year."
      ]
    },
    {
      "cell_type": "code",
      "execution_count": null,
      "metadata": {
        "id": "47gM-19W6NrS"
      },
      "outputs": [],
      "source": [
        "# Check numerical coulmn to variable\n",
        "numerical_columns=list(df.select_dtypes(['int64','float64']).columns)\n",
        "numerical_features=pd.Index(numerical_columns)\n",
        "numerical_features"
      ]
    },
    {
      "cell_type": "code",
      "execution_count": null,
      "metadata": {
        "id": "pmG2jEjz6v6O"
      },
      "outputs": [],
      "source": [
        "# Create categorical column list\n",
        "categorical_columns = list(set(df.columns) - set(numerical_features))\n",
        "categorical_columns"
      ]
    },
    {
      "cell_type": "code",
      "execution_count": null,
      "metadata": {
        "id": "ii_Mgy5t3Mis"
      },
      "outputs": [],
      "source": [
        "# Checking for outliers\n",
        "plt.figure(figsize=(15,7))\n",
        "for n,column in enumerate(df.describe().columns):\n",
        "  plt.subplot(2, 6, n+1)\n",
        "  sns.boxplot(df[column])\n",
        "  plt.title(f'{column.title()}',weight='bold')\n",
        "  plt.tight_layout()"
      ]
    },
    {
      "cell_type": "markdown",
      "metadata": {
        "id": "Z8OX_BY1hPhD"
      },
      "source": [
        "### ◼ Dependent Variable (RENTED BIKE COUNT) containts outliers, we have to remove these outliers for Regression.\n",
        "\n",
        "### ◼ Some Independent Variables like Rainfall, Snowfall, Windspeed and Solar Radiation these variables contain some outliers. From the distribution plots we have also seen that these variables have extreme skewed distribution, so removing/dropping the outliers from the data might result in significant data loss. Hence, we will keep all the values."
      ]
    },
    {
      "cell_type": "markdown",
      "metadata": {
        "id": "y_IZ5dAG75no"
      },
      "source": [
        "# **⬛ Regression plot**"
      ]
    },
    {
      "cell_type": "markdown",
      "metadata": {
        "id": "MRbr01uq_kj2"
      },
      "source": [
        "### Regression analysis is a statistical method to model the relationship between dependent and independent variables with one or more independent variables. The change in dependent variable is associated with the change in the independent variables.It can be utilized to assess the strength of the relationship between variables and for modeling the future relationship between them.  More specifically, regression analysis helps us to understand how the value of the dependent variable changes corresponding to an independent variable when other independent variables are held fixed."
      ]
    },
    {
      "cell_type": "code",
      "execution_count": null,
      "metadata": {
        "id": "g59aMphT75QS"
      },
      "outputs": [],
      "source": [
        "# Printing the regression plot for all the numerical features\n",
        "for col in numerical_features:\n",
        "  fig,ax=plt.subplots(figsize=(7,4))\n",
        "  sns.regplot(x=df[col],y=df['RENTED_BIKE_COUNT'],scatter_kws={\"color\": 'purple'}, line_kws={\"color\": \"black\"})\n"
      ]
    },
    {
      "cell_type": "markdown",
      "metadata": {
        "id": "t0bJCwGSCJaA"
      },
      "source": [
        "### ◼ Regression plot of numerical feature 'Temperature', 'Wind_speed','Visibility', 'Dew_point_temperature', 'Solar_Radiation 'are bike count increses with these features.\n",
        "\n",
        "### ◼ 'Rainfall' ,'Snowfall', and 'Humidity'. These features are negatively related to the rented bike count, which means the rented bike count decreases when these features increase."
      ]
    },
    {
      "cell_type": "markdown",
      "metadata": {
        "id": "GInNeTqsmIpU"
      },
      "source": [
        "# **⬛ Data Preparation for Regression Model**"
      ]
    },
    {
      "cell_type": "code",
      "execution_count": null,
      "metadata": {
        "id": "pQeS1pEUNVXx"
      },
      "outputs": [],
      "source": [
        "# Check outliers for Dependent variable \n",
        "plt.figure(figsize=(9,5)) \n",
        "sns.boxplot(df['RENTED_BIKE_COUNT'])\n",
        "plt.ylabel('Rented_Bike_Count')\n",
        "plt.show()"
      ]
    },
    {
      "cell_type": "markdown",
      "metadata": {
        "id": "kqNUvzLz1Chp"
      },
      "source": [
        "### ◼  The above boxplot shows that  dependent variable column contains outliers."
      ]
    },
    {
      "cell_type": "code",
      "execution_count": null,
      "metadata": {
        "id": "SoxIc6aON4QI"
      },
      "outputs": [],
      "source": [
        "# Removing  outliers from the Dependent variable \n",
        "plt.figure(figsize=(9,5))\n",
        "sns.boxplot(np.sqrt(df['RENTED_BIKE_COUNT']),color='g')\n",
        "plt.ylabel('Rented_Bike_Count')\n",
        "plt.show()"
      ]
    },
    {
      "cell_type": "markdown",
      "metadata": {
        "id": "0MsVgcNZOafn"
      },
      "source": [
        "### ◼ From the above boxplot we can see that we have removed the outliers present in the dependent variable column.\n"
      ]
    },
    {
      "cell_type": "code",
      "execution_count": null,
      "metadata": {
        "id": "fIKsxBwiMs8Q"
      },
      "outputs": [],
      "source": [
        "# Check Distribution for  Dependent variable\n",
        "plt.figure(figsize=(9,5))\n",
        "sns.distplot(df['RENTED_BIKE_COUNT'],hist=True , color='r')\n",
        "plt.xlabel('Rented_Bike_Count')\n",
        "plt.ylabel('Density')\n",
        "plt.show()\n"
      ]
    },
    {
      "cell_type": "markdown",
      "metadata": {
        "id": "qL-hjidIJXVM"
      },
      "source": [
        "### ◼  The above boxplot shows that  dependent variable column contains outliers. The above graph show that the dependent variable has moderate right skewness. Since the assumption is that the dependent variable has to be normal. So we have to perform some operation to make the above plot normal with the help of normalization."
      ]
    },
    {
      "cell_type": "code",
      "execution_count": null,
      "metadata": {
        "id": "nY9QwUvtlicj"
      },
      "outputs": [],
      "source": [
        "# Applyng Normalization for Rented_Bike_Count to improve the skewness \n",
        "plt.figure(figsize=(9,5))\n",
        "sns.distplot(np.sqrt(df['RENTED_BIKE_COUNT']),color='k')\n",
        "plt.xlabel('Rented_Bike_Count')\n",
        "plt.ylabel('Density')"
      ]
    },
    {
      "cell_type": "markdown",
      "metadata": {
        "id": "krshr_leLpAS"
      },
      "source": [
        "### ◼ Since after applying Square root for right Skewness to make it normal, here we get almost normal distribution curve."
      ]
    },
    {
      "cell_type": "code",
      "execution_count": null,
      "metadata": {
        "id": "TfQeYQnFliTr"
      },
      "outputs": [],
      "source": [
        "# Check Multicollinearity for Independent Variables\n",
        "def calc_vif(X):\n",
        "\n",
        "    # Calculating VIF\n",
        "    vif = pd.DataFrame()\n",
        "    vif[\"variables\"] = X.columns\n",
        "    vif[\"VIF\"] = [variance_inflation_factor(X.values, i) for i in range(X.shape[1])]\n",
        "\n",
        "    return(vif)\n",
        "\n",
        "calc_vif(df[[i for i in df.describe().columns if i not in ['RENTED_BIKE_COUNT']]])\n"
      ]
    },
    {
      "cell_type": "code",
      "execution_count": null,
      "metadata": {
        "id": "KZeDjd9olh6O"
      },
      "outputs": [],
      "source": [
        "# Remove variables with high VIF\n",
        "df1 = df.drop(['HUMIDITY', 'YEAR','DEW_POINT_TEMPERATURE','VISIBILITY'], axis=1)"
      ]
    },
    {
      "cell_type": "code",
      "execution_count": null,
      "metadata": {
        "id": "0EvVP4Hplh07"
      },
      "outputs": [],
      "source": [
        "# Check the head of the dataset\n",
        "df1.head()"
      ]
    },
    {
      "cell_type": "markdown",
      "metadata": {
        "id": "ppy4L0EvoyOJ"
      },
      "source": [
        "# **⬛ Label Encoding**"
      ]
    },
    {
      "cell_type": "markdown",
      "metadata": {
        "id": "dyQokFJ04t3B"
      },
      "source": [
        "### A dataset may contain various types of values; sometimes it consists of categorical values. So, in order to use those categorical values for programming efficiently, we create dummy variables.\n",
        "### Furthermore, many machine learning algorithms cannot work directly with categorical data. The categories must be converted into numbers. This is required for both input and output variables that are categorical."
      ]
    },
    {
      "cell_type": "code",
      "execution_count": null,
      "metadata": {
        "id": "qEl-t8SYlhuz"
      },
      "outputs": [],
      "source": [
        "# View all categorical columns\n",
        "cate_feature=df1.select_dtypes(include=['category','object']).columns\n",
        "cate_feature\n"
      ]
    },
    {
      "cell_type": "code",
      "execution_count": null,
      "metadata": {
        "id": "WZ_oEcvdj12q"
      },
      "outputs": [],
      "source": [
        "# Encoding for Seasons column\n",
        "df1_copy=df1.copy()\n",
        "\n",
        "df1_copy['Winter'] = np.where(df1_copy['SEASONS']=='Winter', 1, 0)\n",
        "df1_copy['Spring'] = np.where(df1_copy['SEASONS']=='Spring', 1, 0)\n",
        "df1_copy['Summer'] = np.where(df1_copy['SEASONS']=='Summer', 1, 0)\n",
        "df1_copy['Autumn'] = np.where(df1_copy['SEASONS']=='Autumn', 1, 0)\n",
        "\n",
        "df1_copy.drop(columns=['SEASONS'],axis=1,inplace=True)\n",
        "\n",
        "# Encoding for Holiday column\n",
        "\n",
        "df1_copy['HOLIDAY'] = np.where(df1_copy['HOLIDAY']=='HOLIDAY',1,0)\n",
        "\n",
        "# Encoding for Functioning day\n",
        "\n",
        "df1_copy['FUNCTIONING_DAY'] = np.where(df1_copy['FUNCTIONING_DAY']=='Yes',1,0)\n",
        "\n",
        "# Encoding for weekdays and weekend\n",
        "\n",
        "df1_copy['WEEKDAYS'] = np.where(df1_copy['WEEKDAYS_WEEKEND']==0, 1, 0)\n",
        "df1_copy['WEEKEND'] = np.where(df1_copy['WEEKDAYS_WEEKEND']==1, 1, 0)\n",
        "\n",
        "df1_copy.drop(columns=['WEEKDAYS_WEEKEND'],axis=1,inplace=True)\n",
        "\n"
      ]
    },
    {
      "cell_type": "code",
      "execution_count": null,
      "metadata": {
        "id": "skcDfRck_NdX"
      },
      "outputs": [],
      "source": [
        "# Encoding for HOUR column\n",
        "# One Hot Encoding\n",
        "\n",
        "HOUR_onehot = pd.get_dummies(df1_copy['HOUR'], prefix='HOUR')\n",
        "\n",
        "# drop the original features\n",
        "df1_copy.drop('HOUR', axis=1, inplace=True)\n",
        "\n",
        "# concatenate the one-hot encoded hour feature with the rest of the data\n",
        "df1_copy = pd.concat([df1_copy, HOUR_onehot], axis=1)"
      ]
    },
    {
      "cell_type": "code",
      "execution_count": null,
      "metadata": {
        "id": "vjj5fqMw_bYO"
      },
      "outputs": [],
      "source": [
        "# Encoding for DAY column\n",
        "# One Hot Encoding\n",
        "\n",
        "HOUR_onehot = pd.get_dummies(df1_copy['DAY'], prefix='DAY')\n",
        "\n",
        "# drop the original features\n",
        "df1_copy.drop('DAY', axis=1, inplace=True)\n",
        "\n",
        "# concatenate the one-hot encoded hour feature with the rest of the data\n",
        "df1_copy = pd.concat([df1_copy, HOUR_onehot], axis=1)"
      ]
    },
    {
      "cell_type": "code",
      "execution_count": null,
      "metadata": {
        "id": "g2HQJQyw_btP"
      },
      "outputs": [],
      "source": [
        "# Encoding for MONTH column\n",
        "# One Hot Encoding\n",
        "\n",
        "HOUR_onehot = pd.get_dummies(df1_copy['MONTH'], prefix='MONTH')\n",
        "\n",
        "# drop the original features\n",
        "df1_copy.drop('MONTH', axis=1, inplace=True)\n",
        "\n",
        "# concatenate the one-hot encoded hour feature with the rest of the data\n",
        "df1_copy = pd.concat([df1_copy, HOUR_onehot], axis=1)"
      ]
    },
    {
      "cell_type": "code",
      "execution_count": null,
      "metadata": {
        "id": "wKbRdHj6_bsB"
      },
      "outputs": [],
      "source": [
        "# Drop DATE column\n",
        "df1_copy = df1_copy.drop(['DATE'], axis=1,)"
      ]
    },
    {
      "cell_type": "code",
      "execution_count": null,
      "metadata": {
        "id": "T2ZeA80jj1u7"
      },
      "outputs": [],
      "source": [
        "# Check the head of the dataset\n",
        "df1_copy.head()"
      ]
    },
    {
      "cell_type": "markdown",
      "metadata": {
        "id": "HrYFOmkwAYBg"
      },
      "source": [
        "# **⬛ Model Training and Implementation**"
      ]
    },
    {
      "cell_type": "code",
      "execution_count": null,
      "metadata": {
        "id": "_WbR3jqqCxGg"
      },
      "outputs": [],
      "source": [
        "# Create Independent And Dependent Variables\n",
        "X=df1_copy.drop(['RENTED_BIKE_COUNT'],axis=1)\n",
        "Y=np.sqrt(df1_copy['RENTED_BIKE_COUNT'])"
      ]
    },
    {
      "cell_type": "code",
      "execution_count": null,
      "metadata": {
        "id": "Sh8D0OzXC1rH"
      },
      "outputs": [],
      "source": [
        "# Splitting the dataset into the Training set and Testing set\n",
        "X_train, X_test, Y_train, Y_test = train_test_split(X,Y, test_size=0.25, random_state=0)\n",
        "print(X_train.shape)\n",
        "print(X_test.shape)"
      ]
    },
    {
      "cell_type": "code",
      "execution_count": null,
      "metadata": {
        "id": "f4-X09PXHnSN"
      },
      "outputs": [],
      "source": [
        "# Decribe the columns of dataset\n",
        "X.describe().columns"
      ]
    },
    {
      "cell_type": "code",
      "execution_count": null,
      "metadata": {
        "id": "azJDamBeU3UX"
      },
      "outputs": [],
      "source": [
        "# Transforming  dataset\n",
        "scalar=MinMaxScaler()\n",
        "X_train=scalar.fit_transform(X_train)\n",
        "X_test=scalar.transform(X_test)"
      ]
    },
    {
      "cell_type": "markdown",
      "metadata": {
        "id": "LieY8C0FmGTK"
      },
      "source": [
        "# **⚫ LINEAR REGRESSION**"
      ]
    },
    {
      "cell_type": "markdown",
      "metadata": {
        "id": "tnXoh12kIuU1"
      },
      "source": [
        "### Linear Regression is a supervised machine learning algorithm used for regression problems. It is a linear approach to modeling the relationship between a dependent variable and one or more independent variables. The algorithm estimates the coefficients of the independent variables and predicts the dependent variable based on a linear combination of the independent variables. The goal of linear regression is to find the line of best fit that minimizes the sum of squared residuals between the predicted values and actual values. Linear regression is simple and easy to implement, making it a popular choice for solving regression problems."
      ]
    },
    {
      "cell_type": "code",
      "execution_count": null,
      "metadata": {
        "id": "o0Gze_63FyXe"
      },
      "outputs": [],
      "source": [
        "# Fitting Multiple Linear Regression to the Training set\n",
        "regressor = LinearRegression()\n",
        "regressor.fit(X_train,Y_train) "
      ]
    },
    {
      "cell_type": "code",
      "execution_count": null,
      "metadata": {
        "id": "I08xXTKlVXMH"
      },
      "outputs": [],
      "source": [
        "# Traning Data Score\n",
        "regressor.score(X_train,Y_train)"
      ]
    },
    {
      "cell_type": "code",
      "execution_count": null,
      "metadata": {
        "id": "VMG0bVBJWet2"
      },
      "outputs": [],
      "source": [
        "# Testing Data Score\n",
        "regressor.score(X_test,Y_test)"
      ]
    },
    {
      "cell_type": "code",
      "execution_count": null,
      "metadata": {
        "id": "nUP9P_fqWoOO"
      },
      "outputs": [],
      "source": [
        "# Checking  intrecept\n",
        "regressor.intercept_\n"
      ]
    },
    {
      "cell_type": "code",
      "execution_count": null,
      "metadata": {
        "id": "qcBQkakJXBPt"
      },
      "outputs": [],
      "source": [
        "# Checking cofficient \n",
        "regressor.coef_\n"
      ]
    },
    {
      "cell_type": "code",
      "execution_count": null,
      "metadata": {
        "id": "fcsa-enxXS3e"
      },
      "outputs": [],
      "source": [
        "# Predicting train and and test set values for dependent variable(Y)\n",
        "Y_pred_train=regressor.predict(X_train)\n",
        "Y_pred_test=regressor.predict(X_test)"
      ]
    },
    {
      "cell_type": "markdown",
      "metadata": {
        "id": "qjUVS7BdrNLT"
      },
      "source": [
        "## **▶ Evaluation on Training Dataset**"
      ]
    },
    {
      "cell_type": "code",
      "execution_count": null,
      "metadata": {
        "id": "vXsJq8fxlv4o"
      },
      "outputs": [],
      "source": [
        "# Calculate the values of training dataset\n",
        "\n",
        "# calculate MSE\n",
        "MSE_lr= mean_squared_error((Y_train**2), (Y_pred_train**2))\n",
        "print(\"MSE :\",MSE_lr)\n",
        "\n",
        "# calculate RMSE\n",
        "RMSE_lr=np.sqrt(MSE_lr)\n",
        "print(\"RMSE :\",RMSE_lr)\n",
        "\n",
        "# calculate MAE\n",
        "MAE_lr= mean_absolute_error(Y_train**2, Y_pred_train**2)\n",
        "print(\"MAE :\",MAE_lr)\n",
        "\n",
        "# calculate r2 and adjusted r2\n",
        "r2_lr= r2_score(Y_train**2, Y_pred_train**2)\n",
        "print(\"R2 :\",r2_lr)\n",
        "\n",
        "Adjusted_R2_lr = (1-(1-r2_score(Y_train**2, Y_pred_train**2))*((X_test.shape[0]-1)/(X_test.shape[0]-X_test.shape[1]-1)) )\n",
        "print(\"Adjusted R2 :\",Adjusted_R2_lr )"
      ]
    },
    {
      "cell_type": "code",
      "execution_count": null,
      "metadata": {
        "id": "3K6QUOZSsFQ9"
      },
      "outputs": [],
      "source": [
        "# Storing the train set metrics value in a dataframe for later comparison\n",
        "dict1={'Model':'Linear regression ',\n",
        "       'MAE':round((MAE_lr),3),\n",
        "       'MSE':round((MSE_lr),3),\n",
        "       'RMSE':round((RMSE_lr),3),\n",
        "       'R2_score':round((r2_lr),3),\n",
        "       'Adjusted R2':round((Adjusted_R2_lr ),2)\n",
        "       }\n",
        "training_df=pd.DataFrame(dict1,index=[1])"
      ]
    },
    {
      "cell_type": "markdown",
      "metadata": {
        "id": "HGm5OnRWtzzJ"
      },
      "source": [
        "## **▶ Evaluation on Testing Dataset**"
      ]
    },
    {
      "cell_type": "code",
      "execution_count": null,
      "metadata": {
        "id": "YHsAAZWstwU-"
      },
      "outputs": [],
      "source": [
        "# Calculate the values of testing dataset\n",
        "\n",
        "# calculate MSE\n",
        "MSE_lr= mean_squared_error(Y_test**2, Y_pred_test**2)\n",
        "print(\"MSE :\",MSE_lr)\n",
        "\n",
        "# calculate RMSE\n",
        "RMSE_lr=np.sqrt(MSE_lr)\n",
        "print(\"RMSE :\",RMSE_lr)\n",
        "\n",
        "# calculate MAE\n",
        "MAE_lr= mean_absolute_error(Y_test**2, Y_pred_test**2)\n",
        "print(\"MAE :\",MAE_lr)\n",
        "\n",
        "# calculate r2 and adjusted r2\n",
        "r2_lr= r2_score((Y_test**2), (Y_pred_test**2))\n",
        "print(\"R2 :\",r2_lr)\n",
        "Adjusted_R2_lr = (1-(1-r2_score((Y_test**2), (Y_pred_test**2)))*((X_test.shape[0]-1)/(X_test.shape[0]-X_test.shape[1]-1)))\n",
        "print(\"Adjusted R2 :\",Adjusted_R2_lr )"
      ]
    },
    {
      "cell_type": "code",
      "execution_count": null,
      "metadata": {
        "id": "tz_h8-DHuW7I"
      },
      "outputs": [],
      "source": [
        "# Storing the test set metrics value in a dataframe for later comparison\n",
        "dict2={'Model':'Linear regression ',\n",
        "       'MAE':round((MAE_lr),3),\n",
        "       'MSE':round((MSE_lr),3),\n",
        "       'RMSE':round((RMSE_lr),3),\n",
        "       'R2_score':round((r2_lr),3),\n",
        "       'Adjusted R2':round((Adjusted_R2_lr ),2)\n",
        "       }\n",
        "test_df=pd.DataFrame(dict2,index=[1])"
      ]
    },
    {
      "cell_type": "markdown",
      "source": [
        "### ▶ **Explain the ML Model used and it's performance using Evaluation metric Score Chart.**"
      ],
      "metadata": {
        "id": "kQuQijpvIPeC"
      }
    },
    {
      "cell_type": "code",
      "execution_count": null,
      "metadata": {
        "id": "7c5WOHMKvyo5"
      },
      "outputs": [],
      "source": [
        "# Plot figure for Actual and Predicted test value\n",
        "plt.figure(figsize=(10,5))\n",
        "plt.plot((Y_pred_train**2)[:100])\n",
        "plt.plot((np.array(Y_test**2)[:100]))\n",
        "plt.legend([\"Predicted\",\"Actual\"])\n",
        "plt.xlabel('Number of Test Data', fontsize=16)\n",
        "plt.title('Linear Regression',fontsize= 20, fontweight='bold')\n",
        "plt.show()"
      ]
    },
    {
      "cell_type": "markdown",
      "metadata": {
        "id": "O-BGuAyQJkL6"
      },
      "source": [
        "### ◼ The R2 score for the test data is 0.73 and training data is 0.72, that means our linear regression model is performing well on the dataset. The evaluation metrics suggest that the Linear Regression model used provides a good fit to the data. "
      ]
    },
    {
      "cell_type": "markdown",
      "metadata": {
        "id": "rwlD0G4o5jeV"
      },
      "source": [
        "# **⚫ LASSO REGRESSION**"
      ]
    },
    {
      "cell_type": "markdown",
      "metadata": {
        "id": "ADPsAQt9Mefi"
      },
      "source": [
        "### Lasso Regression is a type of regularization technique in linear regression which uses L1 regularization to add constraint to the model to avoid overfitting. In Lasso regression, some of the coefficients become zero which leads to variable selection and reduced complexity of the model and Lasso regression analysis is a shrinkage and variable selection method for linear regression models.\n"
      ]
    },
    {
      "cell_type": "code",
      "execution_count": null,
      "metadata": {
        "id": "nbl9yiv0wJv_"
      },
      "outputs": [],
      "source": [
        "# Fitting the Lasso Regression\n",
        "lasso  = Lasso(alpha=0.0001 , max_iter= 3000)\n",
        "lasso.fit(X_train, Y_train)"
      ]
    },
    {
      "cell_type": "code",
      "execution_count": null,
      "metadata": {
        "id": "lK8LO--P8Fyy"
      },
      "outputs": [],
      "source": [
        "# The lasso training and testing score\n",
        "print(lasso.score(X_train, Y_train))\n",
        "\n",
        "print(lasso.score(X_test, Y_test))"
      ]
    },
    {
      "cell_type": "markdown",
      "source": [
        "### ▶  **Cross- Validation & Hyperparameter Tuning**"
      ],
      "metadata": {
        "id": "dlQgyAc9KVfF"
      }
    },
    {
      "cell_type": "code",
      "execution_count": null,
      "metadata": {
        "id": "awtfRJzS8UoO"
      },
      "outputs": [],
      "source": [
        "# Performing the hyperparameter tuning and cross validtation\n",
        "lasso = Lasso()\n",
        "parameters = {'alpha': [1e-15,1e-13,1e-10,1e-8,1e-5,1e-4,1e-3,1e-2,1e-1,1,5,10,20,30,40,45,50,55,60,100,0.0014]}\n",
        "lasso_regressor = GridSearchCV(lasso, parameters, scoring='r2', cv=5)\n",
        "lasso_regressor.fit(X_train, Y_train)"
      ]
    },
    {
      "cell_type": "code",
      "execution_count": null,
      "metadata": {
        "id": "Ts5sjxF09Zoa"
      },
      "outputs": [],
      "source": [
        "# Printing the best params and best score\n",
        "print('The best fit alpha value is found out to be :', lasso_regressor.best_params_)\n",
        "print('The R2 score using the same alpha is :', lasso_regressor.best_score_)\n"
      ]
    },
    {
      "cell_type": "code",
      "execution_count": null,
      "metadata": {
        "id": "C3Winm1i919B"
      },
      "outputs": [],
      "source": [
        "# Predict train and test value using Lasso\n",
        "Y_pred_lasso_train = lasso_regressor.predict(X_train)\n",
        "Y_pred_lasso_test = lasso_regressor.predict(X_test)"
      ]
    },
    {
      "cell_type": "markdown",
      "metadata": {
        "id": "xPtFylLINCX3"
      },
      "source": [
        "## **▶ Evaluation on Training Dataset**"
      ]
    },
    {
      "cell_type": "code",
      "execution_count": null,
      "metadata": {
        "id": "rDjgU-UMMfsp"
      },
      "outputs": [],
      "source": [
        "# Calculate the  values of training dataset\n",
        "\n",
        "# calculate MSE\n",
        "MSE_lasso= mean_squared_error((Y_train**2), (Y_pred_lasso_train**2))\n",
        "print(\"MSE :\",MSE_lasso)\n",
        "\n",
        "# calculate RMSE\n",
        "RMSE_lasso=np.sqrt(MSE_lasso)\n",
        "print(\"RMSE :\",RMSE_lasso)\n",
        "\n",
        "# calculate MAE\n",
        "MAE_lasso= mean_absolute_error(Y_train**2, Y_pred_lasso_train**2)\n",
        "print(\"MAE :\",MAE_lasso)\n",
        "\n",
        "# calculate r2 and adjusted r2\n",
        "r2_lasso= r2_score(Y_train**2, Y_pred_lasso_train**2)\n",
        "print(\"R2 :\",r2_lasso)\n",
        "\n",
        "Adjusted_R2_lasso = (1-(1-r2_score(Y_train**2, Y_pred_lasso_train**2))*((X_test.shape[0]-1)/(X_test.shape[0]-X_test.shape[1]-1)) )\n",
        "print(\"Adjusted R2 :\",Adjusted_R2_lasso )"
      ]
    },
    {
      "cell_type": "code",
      "execution_count": null,
      "metadata": {
        "id": "KqwqJeJWQa2I"
      },
      "outputs": [],
      "source": [
        "# Storing the train set metrics value in a dataframe for later comparison\n",
        "dict1={'Model':'Lasso regression ',\n",
        "       'MAE':round((MAE_lasso),3),\n",
        "       'MSE':round((MSE_lasso),3),\n",
        "       'RMSE':round((RMSE_lasso),3),\n",
        "       'R2_score':round((r2_lasso),3),\n",
        "       'Adjusted R2':round((Adjusted_R2_lasso ),2)\n",
        "       }\n",
        "training_df=training_df.append(dict1,ignore_index=True)"
      ]
    },
    {
      "cell_type": "markdown",
      "metadata": {
        "id": "Ry849kLwN0lP"
      },
      "source": [
        "## **▶ Evaluation on Testing Dataset**"
      ]
    },
    {
      "cell_type": "code",
      "execution_count": null,
      "metadata": {
        "id": "EpIl1MNKR_X5"
      },
      "outputs": [],
      "source": [
        "# Calculate the values of testing dataset\n",
        "\n",
        "#calculate MSE\n",
        "MSE_lasso= mean_squared_error((Y_test**2), (Y_pred_lasso_test**2))\n",
        "print(\"MSE :\",MSE_lasso)\n",
        "\n",
        "#calculate RMSE\n",
        "RMSE_lasso=np.sqrt(MSE_lasso)\n",
        "print(\"RMSE :\",RMSE_lasso)\n",
        "\n",
        "#calculate MAE\n",
        "MAE_lasso= mean_absolute_error(Y_test**2, Y_pred_lasso_test**2)\n",
        "print(\"MAE :\",MAE_lasso)\n",
        "\n",
        "#calculate r2 and adjusted r2\n",
        "r2_lasso= r2_score(Y_test**2, Y_pred_lasso_test**2)\n",
        "print(\"R2 :\",r2_lasso)\n",
        "\n",
        "Adjusted_R2_lasso = (1-(1-r2_score(Y_test**2, Y_pred_lasso_test**2))*((X_test.shape[0]-1)/(X_test.shape[0]-X_test.shape[1]-1)) )\n",
        "print(\"Adjusted R2 :\",Adjusted_R2_lasso )"
      ]
    },
    {
      "cell_type": "code",
      "execution_count": null,
      "metadata": {
        "id": "Ml2WT8v3STOv"
      },
      "outputs": [],
      "source": [
        "# storing the test set metrics value in a dataframe for later comparison\n",
        "dict2={'Model':'Lasso regression ',\n",
        "       'MAE':round((MAE_lasso),3),\n",
        "       'MSE':round((MSE_lasso),3),\n",
        "       'RMSE':round((RMSE_lasso),3),\n",
        "       'R2_score':round((r2_lasso),3),\n",
        "       'Adjusted R2':round((Adjusted_R2_lasso ),2)\n",
        "       }\n",
        "test_df=test_df.append(dict2,ignore_index=True)"
      ]
    },
    {
      "cell_type": "markdown",
      "source": [
        "### ▶ **Explain the ML Model used and it's performance using Evaluation metric Score Chart.**"
      ],
      "metadata": {
        "id": "J2PaTGGlI6Vp"
      }
    },
    {
      "cell_type": "code",
      "execution_count": null,
      "metadata": {
        "id": "qQu74j__SkiF"
      },
      "outputs": [],
      "source": [
        "# Plot figure for Actual and Predicted test value\n",
        "plt.figure(figsize=(10,5))\n",
        "plt.plot((Y_pred_lasso_train**2)[:100])\n",
        "plt.plot((np.array(Y_test**2)[:100]))\n",
        "plt.legend([\"Predicted\",\"Actual\"])\n",
        "plt.xlabel('Number of Test Data', fontsize=16)\n",
        "plt.title('Lasso Regression',fontsize= 20, fontweight='bold')\n",
        "plt.show()"
      ]
    },
    {
      "cell_type": "markdown",
      "metadata": {
        "id": "pSDhLEL-Nt6l"
      },
      "source": [
        "### ◼ Evaluation metrics in lasso regression give us a clear indication of how well our model is performing in predicting the target variables. The R2 score on training dataset is 0.72 and on testing dataset is 0.73 That means our lasso regression model is accurately predicting the target variable. This would translate to better decision-making and improved business outcomes and the best set of hyperparameters is then used to train the final model."
      ]
    },
    {
      "cell_type": "markdown",
      "source": [
        "### ▶ **Which hyperparameter optimization technique have you used and why?**\n",
        "### GridSearchCV which uses the Grid Search technique for finding the optimal hyperparameters to increase the model performance. In GridSearchCV, along with Grid Search cross-validation is also performed and Cross-Validation is used while training the model. Our goal should be to find the best hyperparameters values to get the perfect prediction results from our model."
      ],
      "metadata": {
        "id": "mU0QPyPcJp75"
      }
    },
    {
      "cell_type": "markdown",
      "source": [
        "### **▶ Have you seen any improvement?**\n",
        "### No, By compairing to the linear regresssion model , lasso regression model does not improve because R2 score is same for both the model"
      ],
      "metadata": {
        "id": "hiAOujbCKtXO"
      }
    },
    {
      "cell_type": "markdown",
      "metadata": {
        "id": "uzmtIJtPf7ab"
      },
      "source": [
        "# **⚫ DECISION TREE REGRESSION**"
      ]
    },
    {
      "cell_type": "markdown",
      "metadata": {
        "id": "8ZMXgIB6VRBG"
      },
      "source": [
        "### A decision tree regression is a decision support tool that uses a tree-like model of decisions and their possible consequences, including chance event outcomes, resource costs, and utility. It is one way to display an algorithm that only contains conditional control statements. A decision tree regression is a very specific type of probability tree that enables you to make a decision about some kind of process."
      ]
    },
    {
      "cell_type": "code",
      "execution_count": null,
      "metadata": {
        "id": "9FQRCi9vruaK"
      },
      "outputs": [],
      "source": [
        "# Fitting decision tree regression\n",
        "dtr = DecisionTreeRegressor()\n",
        "dtr.fit(X_train,Y_train)"
      ]
    },
    {
      "cell_type": "code",
      "execution_count": null,
      "metadata": {
        "id": "yF34KAE1voEe"
      },
      "outputs": [],
      "source": [
        "# The decision tree training and testing score\n",
        "print(dtr.score(X_train, Y_train))\n",
        "\n",
        "print(dtr.score(X_test, Y_test))"
      ]
    },
    {
      "cell_type": "markdown",
      "source": [
        "### ▶ **Cross- Validation & Hyperparameter Tuning**"
      ],
      "metadata": {
        "id": "U-pntLs7LztM"
      }
    },
    {
      "cell_type": "code",
      "execution_count": null,
      "metadata": {
        "id": "adVQ8U0Gwum5"
      },
      "outputs": [],
      "source": [
        "# Hyperparameters Tuining values\n",
        "\n",
        "# Maximum depth of trees\n",
        "max_depth = [4,6,8,10]\n",
        "\n",
        "# Minimum number of samples required to split a node\n",
        "min_samples_split = [20,30,40,50]\n",
        "\n",
        "# Minimum number of samples required at each leaf node\n",
        "min_samples_leaf = [60,70,80,90]\n",
        "\n",
        "\n",
        "param_dict = {'max_depth' : max_depth,'min_samples_split' : min_samples_split,'min_samples_leaf' : min_samples_leaf}"
      ]
    },
    {
      "cell_type": "code",
      "execution_count": null,
      "metadata": {
        "id": "hqzFy3JixAC6"
      },
      "outputs": [],
      "source": [
        "# Performing Cross Validtation\n",
        "dtr_grid = GridSearchCV(estimator=dtr, param_grid = param_dict, cv = 5,scoring='r2')\n",
        "\n",
        "dtr_grid.fit(X_train,Y_train)"
      ]
    },
    {
      "cell_type": "code",
      "execution_count": null,
      "metadata": {
        "id": "8BkfObECyqwJ"
      },
      "outputs": [],
      "source": [
        "# Printing the best params and best score\n",
        "print('The best parameters values is found out to be :' ,dtr_grid.best_params_)\n",
        "print('The R2 score using the same parameters values is :', dtr_grid.best_score_)"
      ]
    },
    {
      "cell_type": "code",
      "execution_count": null,
      "metadata": {
        "id": "ygFXzcqazT8h"
      },
      "outputs": [],
      "source": [
        "#  predict train and test value using decision tree\n",
        "Y_pred_dtr_train=dtr_grid.predict(X_train)\n",
        "Y_pred_dtr_test = dtr_grid.predict(X_test)"
      ]
    },
    {
      "cell_type": "markdown",
      "metadata": {
        "id": "TeFAJvcN1L0n"
      },
      "source": [
        "## **▶ Evaluation on Training Dataset**"
      ]
    },
    {
      "cell_type": "code",
      "execution_count": null,
      "metadata": {
        "id": "VzSbKMIvz2LA"
      },
      "outputs": [],
      "source": [
        "# Calculate the values of training dataset\n",
        "\n",
        "# calculate MSE\n",
        "MSE_dtr= mean_squared_error((Y_train**2), (Y_pred_dtr_train**2))\n",
        "print(\"MSE :\",MSE_dtr)\n",
        "\n",
        "# calculate RMSE\n",
        "RMSE_dtr=np.sqrt(MSE_dtr)\n",
        "print(\"RMSE :\",RMSE_dtr)\n",
        "\n",
        "# calculate MAE\n",
        "MAE_dtr= mean_absolute_error(Y_train**2, Y_pred_dtr_train**2)\n",
        "print(\"MAE :\",MAE_dtr)\n",
        "\n",
        "#calculate r2 and adjusted r2\n",
        "r2_dtr= r2_score(Y_train**2, Y_pred_dtr_train**2)\n",
        "print(\"R2 :\",r2_dtr)\n",
        "\n",
        "Adjusted_R2_dtr = (1-(1-r2_score(Y_train**2, Y_pred_dtr_train**2))*((X_test.shape[0]-1)/(X_test.shape[0]-X_test.shape[1]-1)) )\n",
        "print(\"Adjusted R2 :\",Adjusted_R2_dtr )"
      ]
    },
    {
      "cell_type": "code",
      "execution_count": null,
      "metadata": {
        "id": "Y7UNdC9e0dSh"
      },
      "outputs": [],
      "source": [
        "# Storing the train set metrics value in a dataframe for later comparison\n",
        "dict1={'Model':'Decision Tree ',\n",
        "       'MAE':round((MAE_dtr),3),\n",
        "       'MSE':round((MSE_dtr),3),\n",
        "       'RMSE':round((RMSE_dtr),3),\n",
        "       'R2_score':round((r2_dtr),3),\n",
        "       'Adjusted R2':round((Adjusted_R2_dtr ),2)}\n",
        "training_df=training_df.append(dict1,ignore_index=True)"
      ]
    },
    {
      "cell_type": "markdown",
      "metadata": {
        "id": "I92_aTD11Um0"
      },
      "source": [
        "## ▶ **Evaluation on Testing Dataset**"
      ]
    },
    {
      "cell_type": "code",
      "execution_count": null,
      "metadata": {
        "id": "nVE7RoT100K5"
      },
      "outputs": [],
      "source": [
        "# Calculate the values of testing dataset\n",
        "\n",
        "#calculate MSE\n",
        "MSE_dtr= mean_squared_error((Y_test**2), (Y_pred_dtr_test**2))\n",
        "print(\"MSE :\",MSE_dtr)\n",
        "\n",
        "#calculate RMSE\n",
        "RMSE_dtr=np.sqrt(MSE_dtr)\n",
        "print(\"RMSE :\",RMSE_dtr)\n",
        "\n",
        "#calculate MAE\n",
        "MAE_dtr= mean_absolute_error(Y_test**2, Y_pred_dtr_test**2)\n",
        "print(\"MAE :\",MAE_dtr)\n",
        "\n",
        "#calculate r2 and adjusted r2\n",
        "r2_dtr= r2_score(Y_test**2, Y_pred_dtr_test**2)\n",
        "print(\"R2 :\",r2_dtr)\n",
        "\n",
        "Adjusted_R2_dtr = (1-(1-r2_score(Y_test**2, Y_pred_dtr_test**2))*((X_test.shape[0]-1)/(X_test.shape[0]-X_test.shape[1]-1)) )\n",
        "print(\"Adjusted R2 :\",Adjusted_R2_dtr )"
      ]
    },
    {
      "cell_type": "code",
      "execution_count": null,
      "metadata": {
        "id": "TfcamvfQ1rA_"
      },
      "outputs": [],
      "source": [
        "# Storing the test set metrics value in a dataframe for later comparison\n",
        "dict2={'Model':'Decision Tree ',\n",
        "       'MAE':round((MAE_dtr),3),\n",
        "       'MSE':round((MSE_dtr),3),\n",
        "       'RMSE':round((RMSE_dtr),3),\n",
        "       'R2_score':round((r2_dtr),3),\n",
        "       'Adjusted R2':round((Adjusted_R2_dtr ),2)}\n",
        "test_df=test_df.append(dict2,ignore_index=True)"
      ]
    },
    {
      "cell_type": "markdown",
      "source": [
        "### ▶ **Explain the ML Model used and it's performance using Evaluation metric Score Chart.**"
      ],
      "metadata": {
        "id": "jxkTKvCuLsKx"
      }
    },
    {
      "cell_type": "code",
      "execution_count": null,
      "metadata": {
        "id": "cyIkj6Dz4zp4"
      },
      "outputs": [],
      "source": [
        "# Plot figure for Actual and Predicted test value\n",
        "plt.figure(figsize=(10,5))\n",
        "plt.plot((Y_pred_dtr_train**2)[:100])\n",
        "plt.plot((np.array(Y_test**2)[:100]))\n",
        "plt.legend([\"Predicted\",\"Actual\"])\n",
        "plt.xlabel('Number of Test Data', fontsize=16)\n",
        "plt.title('Decision Tree',fontsize= 20, fontweight='bold')\n",
        "plt.show()"
      ]
    },
    {
      "cell_type": "markdown",
      "metadata": {
        "id": "hFRSFbVjWpTB"
      },
      "source": [
        "### ◼ The evaluation metrics for the Decision Tree Regression training data show a good fit with an R2 score of 0.73 and  testing  R2 score of 0.71 that means our decision tree regression model is performing well on the dataset.\n",
        "\n",
        " "
      ]
    },
    {
      "cell_type": "markdown",
      "source": [
        "### ▶ **Which hyperparameter optimization technique have you used and why?**\n",
        "### GridSearchCV which uses the Grid Search technique for finding the optimal hyperparameters to increase the model performance. In GridSearchCV, along with Grid Search cross-validation is also performed and cross-Validation is used while training the model. Our goal should be to find the best hyperparameters values to get the perfect prediction results from our model."
      ],
      "metadata": {
        "id": "79p_YIOUL7Hm"
      }
    },
    {
      "cell_type": "markdown",
      "source": [
        "### **▶ Have you seen any improvement?**\n",
        "### No, By compairing to then both linear regresssion model and lasso regression, decision tree model does not improve.\n"
      ],
      "metadata": {
        "id": "2MLl4yyZMFg6"
      }
    },
    {
      "cell_type": "markdown",
      "metadata": {
        "id": "jQlIdsvgLQ7C"
      },
      "source": [
        "## ▶ **Feature Importances**"
      ]
    },
    {
      "cell_type": "code",
      "execution_count": null,
      "metadata": {
        "id": "iPvwK0mHYWsd"
      },
      "outputs": [],
      "source": [
        "# Important columns according to decision tree\n",
        "features = X.describe().columns\n",
        "importances = dtr.feature_importances_\n",
        "indices = np.argsort(importances)\n",
        "plt.figure(figsize=(7,15))\n",
        "plt.title('Feature Importance')\n",
        "plt.barh(range(len(indices)), importances[indices], color='green', align='center')\n",
        "plt.yticks(range(len(indices)), [features[i] for i in indices])\n",
        "plt.xlabel('Relative Importance')\n",
        "plt.show()"
      ]
    },
    {
      "cell_type": "markdown",
      "metadata": {
        "id": "VeGNQdjTerNO"
      },
      "source": [
        "# **⚫ RANDOM FOREST REGRESSION**"
      ]
    },
    {
      "cell_type": "markdown",
      "metadata": {
        "id": "liWri1zlY7eI"
      },
      "source": [
        "### Random Forest Regression is a supervised learning algorithm that uses ensemble learning method for regression. Ensemble learning method is a technique that combines predictions from multiple machine learning algorithms to make a more accurate prediction than a single model.The Random forest algorithm is an extension of the bagging method as it utilizes both bagging and feature randomness to create an uncorrelated forest of decision trees."
      ]
    },
    {
      "cell_type": "code",
      "execution_count": null,
      "metadata": {
        "id": "detYQUQodaqh"
      },
      "outputs": [],
      "source": [
        "# Fitting Random forest regression\n",
        "# Create an instance of the RandomForestRegressor\n",
        "rf = RandomForestRegressor()\n",
        "\n",
        "# Fitting the model\n",
        "rf.fit(X_train, Y_train)"
      ]
    },
    {
      "cell_type": "code",
      "execution_count": null,
      "metadata": {
        "id": "nx0Std2oe00P"
      },
      "outputs": [],
      "source": [
        "# The random forest training and testing score\n",
        "print(rf.score(X_train, Y_train))\n",
        "\n",
        "print(rf.score(X_test, Y_test))"
      ]
    },
    {
      "cell_type": "markdown",
      "source": [
        "### **▶ Cross- Validation & Hyperparameter Tuning**"
      ],
      "metadata": {
        "id": "00f8VHCdM0MM"
      }
    },
    {
      "cell_type": "code",
      "execution_count": null,
      "metadata": {
        "id": "_wX7f1XbSphC"
      },
      "outputs": [],
      "source": [
        "# Providing the range of values for the hyperparameter tuining\n",
        "n_estimators=[75,100,125,150]\n",
        "\n",
        "# Max Depth of the tree\n",
        "max_depth=[3,7,5,9]\n",
        "\n",
        "# Minimum number of samples requires for the spilting of a node\n",
        "min_samples_split=[50, 70, 90, 110]\n",
        "\n",
        "# Minimum number of samples in the leaf node\n",
        "min_samples_leaf=[40,50,60]   # To avoid the overfitting of data\n",
        "\n",
        "# Hyperparameter Grip\n",
        "grid_values={'n_estimators':n_estimators,\n",
        "            'max_depth':max_depth,\n",
        "            'min_samples_split':min_samples_split,\n",
        "            'min_samples_leaf':min_samples_leaf}"
      ]
    },
    {
      "cell_type": "code",
      "execution_count": null,
      "metadata": {
        "id": "e4F3pj8CXkvq"
      },
      "outputs": [],
      "source": [
        "# Performing Cross Validtation\n",
        "rf_grid = GridSearchCV(estimator=rf, param_grid = grid_values, cv = 5,scoring='r2')\n",
        "\n",
        "rf_grid.fit(X_train,Y_train)"
      ]
    },
    {
      "cell_type": "code",
      "execution_count": null,
      "metadata": {
        "id": "jrfpmkRuV671"
      },
      "outputs": [],
      "source": [
        "# Printing the best params and best score\n",
        "print('The best parameters values is found out to be :' ,rf_grid.best_params_)\n",
        "print('The R2 score using the same parameters values is :', rf_grid.best_score_)"
      ]
    },
    {
      "cell_type": "code",
      "execution_count": null,
      "metadata": {
        "id": "MffLraJAoPPO"
      },
      "outputs": [],
      "source": [
        "# Predict train and test value using random forest\n",
        "\n",
        "Y_pred_rf_train=rf_grid.predict(X_train)\n",
        "Y_pred_rf_test = rf_grid.predict(X_test)"
      ]
    },
    {
      "cell_type": "markdown",
      "metadata": {
        "id": "MgvIab6foqfA"
      },
      "source": [
        "## **▶ Evaluation on Training Dataset**"
      ]
    },
    {
      "cell_type": "code",
      "execution_count": null,
      "metadata": {
        "id": "CL7DD29joPN-"
      },
      "outputs": [],
      "source": [
        "# Caluculate the values of training dataset\n",
        "\n",
        "#calculate MSE\n",
        "MSE_rf= mean_squared_error((Y_train**2), (Y_pred_rf_train**2))\n",
        "print(\"MSE :\",MSE_rf)\n",
        "\n",
        "#calculate RMSE\n",
        "RMSE_rf=np.sqrt(MSE_rf)\n",
        "print(\"RMSE :\",RMSE_rf)\n",
        "\n",
        "#calculate MAE\n",
        "MAE_rf= mean_absolute_error(Y_train**2, Y_pred_rf_train**2)\n",
        "print(\"MAE :\",MAE_rf)\n",
        "\n",
        "#calculate r2 and adjusted r2\n",
        "r2_rf= r2_score(Y_train**2, Y_pred_rf_train**2)\n",
        "print(\"R2 :\",r2_rf)\n",
        "\n",
        "Adjusted_R2_rf = (1-(1-r2_score(Y_train**2, Y_pred_rf_train**2))*((X_test.shape[0]-1)/(X_test.shape[0]-X_test.shape[1]-1)) )\n",
        "print(\"Adjusted R2 :\",Adjusted_R2_rf )"
      ]
    },
    {
      "cell_type": "code",
      "execution_count": null,
      "metadata": {
        "id": "SCo1WK9tpjt6"
      },
      "outputs": [],
      "source": [
        "# Storing the train set metrics value in a dataframe for later comparison\n",
        "dict1={'Model':'Random Forest ',\n",
        "       'MAE':round((MAE_rf),3),\n",
        "       'MSE':round((MSE_rf),3),\n",
        "       'RMSE':round((RMSE_rf),3),\n",
        "       'R2_score':round((r2_rf),3),\n",
        "       'Adjusted R2':round((Adjusted_R2_rf ),2)}\n",
        "training_df=training_df.append(dict1,ignore_index=True)"
      ]
    },
    {
      "cell_type": "markdown",
      "metadata": {
        "id": "gG1-U6VYqZhh"
      },
      "source": [
        "## ▶ **Evaluation on Testing Dataset**"
      ]
    },
    {
      "cell_type": "code",
      "execution_count": null,
      "metadata": {
        "id": "nsOQVVvDqK0x"
      },
      "outputs": [],
      "source": [
        "# Calculate the values of testing dataset\n",
        "\n",
        "#calculate MSE\n",
        "MSE_rf= mean_squared_error((Y_test**2), (Y_pred_rf_test**2))\n",
        "print(\"MSE :\",MSE_rf)\n",
        "\n",
        "#calculate RMSE\n",
        "RMSE_rf=np.sqrt(MSE_rf)\n",
        "print(\"RMSE :\",RMSE_rf)\n",
        "\n",
        "#calculate MAE\n",
        "MAE_rf= mean_absolute_error(Y_test**2, Y_pred_rf_test**2)\n",
        "print(\"MAE :\",MAE_rf)\n",
        "\n",
        "#calculate r2 and adjusted r2\n",
        "r2_rf= r2_score(Y_test**2, Y_pred_rf_test**2)\n",
        "print(\"R2 :\",r2_rf)\n",
        "\n",
        "Adjusted_R2_rf = (1-(1-r2_score(Y_test**2, Y_pred_rf_test**2))*((X_test.shape[0]-1)/(X_test.shape[0]-X_test.shape[1]-1)) )\n",
        "print(\"Adjusted R2 :\",Adjusted_R2_rf )"
      ]
    },
    {
      "cell_type": "code",
      "execution_count": null,
      "metadata": {
        "id": "ajGr9aZMqzBn"
      },
      "outputs": [],
      "source": [
        "# Storing the test set metrics value in a dataframe for later comparison\n",
        "dict2={'Model':'Random Forest ',\n",
        "       'MAE':round((MAE_rf),3),\n",
        "       'MSE':round((MSE_rf),3),\n",
        "       'RMSE':round((RMSE_rf),3),\n",
        "       'R2_score':round((r2_rf),3),\n",
        "       'Adjusted R2':round((Adjusted_R2_rf ),2)}\n",
        "test_df=test_df.append(dict2,ignore_index=True)"
      ]
    },
    {
      "cell_type": "markdown",
      "source": [
        "### **▶ Explain the ML Model used and it's performance using Evaluation metric Score Chart.**"
      ],
      "metadata": {
        "id": "yqMfI5h3Mqki"
      }
    },
    {
      "cell_type": "code",
      "execution_count": null,
      "metadata": {
        "id": "V9LmrwnsrKQQ"
      },
      "outputs": [],
      "source": [
        "# Plot figure for Actual and Predicted test value\n",
        "plt.figure(figsize=(10,5))\n",
        "plt.plot((Y_pred_rf_train**2)[:100])\n",
        "plt.plot((np.array(Y_test**2)[:100]))\n",
        "plt.legend([\"Predicted\",\"Actual\"])\n",
        "plt.xlabel('Number of Test Data', fontsize=16)\n",
        "plt.title('Random Forest',fontsize= 20, fontweight='bold')\n",
        "plt.show()"
      ]
    },
    {
      "cell_type": "markdown",
      "metadata": {
        "id": "3uaK2qiXaz6e"
      },
      "source": [
        "### ◼ The evaluation metrics for the Random Forest Regression training data shows that the Random Forest Regression model has a high accuracy. The R2 value of   0.74 on testing data and  0.75 on training data that means our Random forest regression model is performing well on the dataset. The most crucial feature taken into account when utilising a random forest to make predictions is temperature this means our Random forest model is performing well on the data and has more accuracy among all the models. Out of the five models, Random Forest performs the best because it gives nearly all of the features a significant impact power.\n"
      ]
    },
    {
      "cell_type": "markdown",
      "source": [
        "\n",
        "### **▶  Which hyperparameter optimization technique have you used and why?**\n",
        "### GridSearchCV which uses the Grid Search technique for finding the optimal hyperparameters to increase the model performance. In GridSearchCV, along with Grid Search cross-validation is also performed and cross-Validation is used while training the model. Our goal should be to find the best hyperparameters values to get the perfect prediction results from our model."
      ],
      "metadata": {
        "id": "CkIkTHx-M9Dp"
      }
    },
    {
      "cell_type": "markdown",
      "source": [
        "### **▶  Have you seen any improvement?**\n",
        "### Yes, Random forest regression model is improve and give the best result compaire to the other models. \n",
        "\n"
      ],
      "metadata": {
        "id": "KnzTbE4RNCxK"
      }
    },
    {
      "cell_type": "markdown",
      "metadata": {
        "id": "4WDjr_mfeC99"
      },
      "source": [
        "## ▶ **Feature Importances**"
      ]
    },
    {
      "cell_type": "code",
      "execution_count": null,
      "metadata": {
        "id": "uTok1kV0rX9B"
      },
      "outputs": [],
      "source": [
        "# Important columns according random forest\n",
        "features = X.describe().columns\n",
        "importances = rf.feature_importances_\n",
        "indices = np.argsort(importances)\n",
        "plt.figure(figsize=(7,15))\n",
        "plt.title('Feature Importance')\n",
        "plt.barh(range(len(indices)), importances[indices], color='blue', align='center')\n",
        "plt.yticks(range(len(indices)), [features[i] for i in indices])\n",
        "plt.xlabel('Relative Importance')"
      ]
    },
    {
      "cell_type": "markdown",
      "source": [
        "### **▶ Which Evaluation metrics did you consider for a positive business impact and why?**\n",
        "### The evalaution metrics we would like to go with the R2 score and it is one of the performance evaluation measures for regression-based machine learning models. A positive business impact of using the R2-score metric is that it helps identify the most effective predictors in the model and reduces the risk of overfitting. This leads to  more accurate prediction of bike sharing demand, which can help optimize the bike sharing service and improve its financial performance and maximize its profit."
      ],
      "metadata": {
        "id": "v5roLgZmNSt-"
      }
    },
    {
      "cell_type": "markdown",
      "source": [
        "### **▶  Which ML model did you choose from the above created models as your final prediction model and why?**\n",
        "### Based on the evaluation results, the Random Forest Regression model with hyperparameter tuning is the best prediction model, because it has the highest score in terms of R2 score for the training and testing dataset and this suggests that these models are equally good at predicting the target variable.\n"
      ],
      "metadata": {
        "id": "Dh8tEjIMNZru"
      }
    },
    {
      "cell_type": "markdown",
      "metadata": {
        "id": "NZXpSgKXeTdx"
      },
      "source": [
        "# ⬛ **Comparing results of all the models**"
      ]
    },
    {
      "cell_type": "code",
      "execution_count": null,
      "metadata": {
        "id": "ykYBn0ujrkpy"
      },
      "outputs": [],
      "source": [
        "# Displaying the results of evaluation metric values for all models\n",
        "result=pd.concat([training_df,test_df],keys=['Training set','Test set'])\n",
        "result"
      ]
    },
    {
      "cell_type": "markdown",
      "metadata": {
        "id": "HFmeRcthcrTH"
      },
      "source": [
        "# **⬛ Project Summary**\n",
        "### A Machine Learning regression predictive model for bike sharing demand. A bike-sharing system provides people with a sustainable mode of transportation and has beneficial effects for both the environment and the user. In recent days, Public rental bike sharing is becoming popular because of its increased comfortableness and environmental sustainability. Data used in this prediction model is Seoul Bike data. \n",
        "### For analysis of the whole dataset we are Loading Dataset and Importing libraries , further going on understand more about the data and doing some analysis process on it and for this we are moving to \" Data Wrangling & Feature Engineering process \" on the dataset and after that as we know we have 8760 observations and 14 features in our dataset i.e Categorical data and also have Numerical data. For further process We renamed the columns because they have units mentioned in brackets and it was difficult to copy the feature name while working on dataset. Moving forward for working on dataset we have to clean our data first and we found that we have zero null values in our dataset and zero duplicate entries are found. we also Created two new columns with the help of 'Date','Month' and 'Day'. Which were further used for EDA and later we dropped Date column.\n",
        "\n",
        "### Further going toward Data visualization process for that we have to analysed our data on the basis of univariate , bivariate and multivariate statistics features to grab the details about the every column of our dataset. Using these three statistics features we visualize the dataset and trying to find out exact output on it and for this we use the all columns comparison and plot the different type of visualization graph ,chart etc. We also find out the correlations between them. Now the process forward on model processing so first we check the outlier of the and data remove the outlier present in the dataset. On our datset we plot the regression and find the best fit line over there moving on we reach the process of model traing and implimentation. Further on we prepare our data for regressions model  and for that we encoding the lable on required columns of the dataset. then apply the various regressions model on dataset which are fit on the data and processing over it we change the column as per need like select rented bike count column into depended variable and other columns select into independend variable and splitting the dataset into the Training set and Testing set and evaluate both the training and testing data. Model Selection and Evaluation the dataset as this is the regression problem we are trying to predict continuous value. For this we used following regression models Linear Regression , Lasso Regression,Decision Tree Regression ,  Random forest Regression and  we observe that each model gives the features a different level of importance or impact power, and this determines how well the model predicts.\n",
        "\n",
        "\n",
        "\n",
        "\n",
        "\n",
        "\n",
        ".\n",
        "\n",
        "\n",
        "\n",
        "\n",
        "\n"
      ]
    },
    {
      "cell_type": "markdown",
      "metadata": {
        "id": "9ImJ2-xCdJDL"
      },
      "source": [
        "# **⬛ Conclusion** \n",
        "### ◼ We have finally reached our conclusion which is helpful for growing bike rented market through our analyzation we find the some nearby data which used to reference for future growth as well as develop bike rented business as per customer need and their expectation.\n",
        "\n",
        "### ◼ In overall process the  transportation market bike sector growing rapidly and it also impact positively on people and their health. \n",
        "\n",
        "### ◼ The analysis of bike sharing demand prediction shows that there is a clear seasonality in the bike rental demand with the highest demand seen in the months from May to July and the lowest in December.\n",
        "\n",
        "### ◼ Monday to Friday the demand for rented bike high at the morning at 7am to 9am and in the evening high demand for rented bike is at 5pm to 9pm, which means People prefer to rent bike in these period.\n",
        "\n",
        "### ◼ Summer Season is the peak season where most people hired a bike and there is a lot of demand for bikes in summer season than compare to other seasons and the number of bike rentals increased year from 2017 to 2018.\n",
        "\n",
        "### ◼ We used different types of regression algorithms to train our model, like Linear regression, Lasso regression, Decision tree, Random forest regression, where we tunned the parameters of the decision tree and  Out Of them random forest regression gave the best result.\n",
        "\n",
        "### ◼ Linear regression, Lasso regression, have  same result in both the training and testing dataset but the Random forest regression model is perform excellent on the dataset.\n",
        "\n",
        "### The dataset contains immense possibility to improve business values and have positive impact. It is not limited to the problem taken into the consideration for this project.\n",
        "\n"
      ]
    },
    {
      "cell_type": "markdown",
      "source": [
        "![360_F_291522205_XkrmS421FjSGTMRdTrqFZPxDY19VxpmL.jpg](data:image/jpeg;base64,/9j/4AAQSkZJRgABAQEBLAEsAAD/4QBWRXhpZgAATU0AKgAAAAgABAEaAAUAAAABAAAAPgEbAAUAAAABAAAARgEoAAMAAAABAAIAAAITAAMAAAABAAEAAAAAAAAAAAEsAAAAAQAAASwAAAAB/+0ALFBob3Rvc2hvcCAzLjAAOEJJTQQEAAAAAAAPHAFaAAMbJUccAQAAAgAEAP/hDIFodHRwOi8vbnMuYWRvYmUuY29tL3hhcC8xLjAvADw/eHBhY2tldCBiZWdpbj0n77u/JyBpZD0nVzVNME1wQ2VoaUh6cmVTek5UY3prYzlkJz8+Cjx4OnhtcG1ldGEgeG1sbnM6eD0nYWRvYmU6bnM6bWV0YS8nIHg6eG1wdGs9J0ltYWdlOjpFeGlmVG9vbCAxMC4xMCc+CjxyZGY6UkRGIHhtbG5zOnJkZj0naHR0cDovL3d3dy53My5vcmcvMTk5OS8wMi8yMi1yZGYtc3ludGF4LW5zIyc+CgogPHJkZjpEZXNjcmlwdGlvbiByZGY6YWJvdXQ9JycKICB4bWxuczp0aWZmPSdodHRwOi8vbnMuYWRvYmUuY29tL3RpZmYvMS4wLyc+CiAgPHRpZmY6UmVzb2x1dGlvblVuaXQ+MjwvdGlmZjpSZXNvbHV0aW9uVW5pdD4KICA8dGlmZjpYUmVzb2x1dGlvbj4zMDAvMTwvdGlmZjpYUmVzb2x1dGlvbj4KICA8dGlmZjpZUmVzb2x1dGlvbj4zMDAvMTwvdGlmZjpZUmVzb2x1dGlvbj4KIDwvcmRmOkRlc2NyaXB0aW9uPgoKIDxyZGY6RGVzY3JpcHRpb24gcmRmOmFib3V0PScnCiAgeG1sbnM6eG1wTU09J2h0dHA6Ly9ucy5hZG9iZS5jb20veGFwLzEuMC9tbS8nPgogIDx4bXBNTTpEb2N1bWVudElEPmFkb2JlOmRvY2lkOnN0b2NrOmIxNjAxOTNlLWEwNDktNDgzMi1hMjJiLWY1YzQ3YjYwZjkwNTwveG1wTU06RG9jdW1lbnRJRD4KICA8eG1wTU06SW5zdGFuY2VJRD54bXAuaWlkOmY1YmZmNjU1LTgzYjItNDgwNi05NzY0LTZkZmM5Nzk1NGVjYTwveG1wTU06SW5zdGFuY2VJRD4KIDwvcmRmOkRlc2NyaXB0aW9uPgo8L3JkZjpSREY+CjwveDp4bXBtZXRhPgogICAgICAgICAgICAgICAgICAgICAgICAgICAgICAgICAgICAgICAgICAgICAgICAgICAgICAgICAgICAgICAgICAgICAgICAgICAgICAgICAgICAgICAgICAgICAgICAgICAgCiAgICAgICAgICAgICAgICAgICAgICAgICAgICAgICAgICAgICAgICAgICAgICAgICAgICAgICAgICAgICAgICAgICAgICAgICAgICAgICAgICAgICAgICAgICAgICAgICAgICAKICAgICAgICAgICAgICAgICAgICAgICAgICAgICAgICAgICAgICAgICAgICAgICAgICAgICAgICAgICAgICAgICAgICAgICAgICAgICAgICAgICAgICAgICAgICAgICAgICAgIAogICAgICAgICAgICAgICAgICAgICAgICAgICAgICAgICAgICAgICAgICAgICAgICAgICAgICAgICAgICAgICAgICAgICAgICAgICAgICAgICAgICAgICAgICAgICAgICAgICAgCiAgICAgICAgICAgICAgICAgICAgICAgICAgICAgICAgICAgICAgICAgICAgICAgICAgICAgICAgICAgICAgICAgICAgICAgICAgICAgICAgICAgICAgICAgICAgICAgICAgICAKICAgICAgICAgICAgICAgICAgICAgICAgICAgICAgICAgICAgICAgICAgICAgICAgICAgICAgICAgICAgICAgICAgICAgICAgICAgICAgICAgICAgICAgICAgICAgICAgICAgIAogICAgICAgICAgICAgICAgICAgICAgICAgICAgICAgICAgICAgICAgICAgICAgICAgICAgICAgICAgICAgICAgICAgICAgICAgICAgICAgICAgICAgICAgICAgICAgICAgICAgCiAgICAgICAgICAgICAgICAgICAgICAgICAgICAgICAgICAgICAgICAgICAgICAgICAgICAgICAgICAgICAgICAgICAgICAgICAgICAgICAgICAgICAgICAgICAgICAgICAgICAKICAgICAgICAgICAgICAgICAgICAgICAgICAgICAgICAgICAgICAgICAgICAgICAgICAgICAgICAgICAgICAgICAgICAgICAgICAgICAgICAgICAgICAgICAgICAgICAgICAgIAogICAgICAgICAgICAgICAgICAgICAgICAgICAgICAgICAgICAgICAgICAgICAgICAgICAgICAgICAgICAgICAgICAgICAgICAgICAgICAgICAgICAgICAgICAgICAgICAgICAgCiAgICAgICAgICAgICAgICAgICAgICAgICAgICAgICAgICAgICAgICAgICAgICAgICAgICAgICAgICAgICAgICAgICAgICAgICAgICAgICAgICAgICAgICAgICAgICAgICAgICAKICAgICAgICAgICAgICAgICAgICAgICAgICAgICAgICAgICAgICAgICAgICAgICAgICAgICAgICAgICAgICAgICAgICAgICAgICAgICAgICAgICAgICAgICAgICAgICAgICAgIAogICAgICAgICAgICAgICAgICAgICAgICAgICAgICAgICAgICAgICAgICAgICAgICAgICAgICAgICAgICAgICAgICAgICAgICAgICAgICAgICAgICAgICAgICAgICAgICAgICAgCiAgICAgICAgICAgICAgICAgICAgICAgICAgICAgICAgICAgICAgICAgICAgICAgICAgICAgICAgICAgICAgICAgICAgICAgICAgICAgICAgICAgICAgICAgICAgICAgICAgICAKICAgICAgICAgICAgICAgICAgICAgICAgICAgICAgICAgICAgICAgICAgICAgICAgICAgICAgICAgICAgICAgICAgICAgICAgICAgICAgICAgICAgICAgICAgICAgICAgICAgIAogICAgICAgICAgICAgICAgICAgICAgICAgICAgICAgICAgICAgICAgICAgICAgICAgICAgICAgICAgICAgICAgICAgICAgICAgICAgICAgICAgICAgICAgICAgICAgICAgICAgCiAgICAgICAgICAgICAgICAgICAgICAgICAgICAgICAgICAgICAgICAgICAgICAgICAgICAgICAgICAgICAgICAgICAgICAgICAgICAgICAgICAgICAgICAgICAgICAgICAgICAKICAgICAgICAgICAgICAgICAgICAgICAgICAgICAgICAgICAgICAgICAgICAgICAgICAgICAgICAgICAgICAgICAgICAgICAgICAgICAgICAgICAgICAgICAgICAgICAgICAgIAogICAgICAgICAgICAgICAgICAgICAgICAgICAgICAgICAgICAgICAgICAgICAgICAgICAgICAgICAgICAgICAgICAgICAgICAgICAgICAgICAgICAgICAgICAgICAgICAgICAgCiAgICAgICAgICAgICAgICAgICAgICAgICAgICAgICAgICAgICAgICAgICAgICAgICAgICAgICAgICAgICAgICAgICAgICAgICAgICAgICAgICAgICAgICAgICAgICAgICAgICAKICAgICAgICAgICAgICAgICAgICAgICAgICAgICAgICAgICAgICAgICAgICAgICAgICAgICAgICAgICAgICAgICAgICAgICAgICAgICAgICAgICAgICAgICAgICAgICAgICAgIAogICAgICAgICAgICAgICAgICAgICAgICAgICAgICAgICAgICAgICAgICAgICAgICAgICAgICAgICAgICAgICAgICAgICAgICAgICAgICAgICAgICAgICAgICAgICAgICAgICAgCiAgICAgICAgICAgICAgICAgICAgICAgICAgICAgICAgICAgICAgICAgICAgICAgICAgICAgICAgICAgICAgICAgICAgICAgICAgICAgICAgICAgICAgICAgICAgICAgICAgICAKICAgICAgICAgICAgICAgICAgICAgICAgICAgICAgICAgICAgICAgICAgICAgICAgICAgICAgICAgICAgICAgICAgICAgICAgICAgICAgICAgICAgICAgICAgICAgICAgICAgIAo8P3hwYWNrZXQgZW5kPSd3Jz8+/9sAQwAFAwQEBAMFBAQEBQUFBgcMCAcHBwcPCwsJDBEPEhIRDxERExYcFxMUGhURERghGBodHR8fHxMXIiQiHiQcHh8e/9sAQwEFBQUHBgcOCAgOHhQRFB4eHh4eHh4eHh4eHh4eHh4eHh4eHh4eHh4eHh4eHh4eHh4eHh4eHh4eHh4eHh4eHh4e/8AAEQgBaANOAwERAAIRAQMRAf/EAB0AAQACAgMBAQAAAAAAAAAAAAAHCAYJAQQFAgP/xABREAABAwMCAwUEBAwEBAQCCwABAAIDBAUGBxEIEiETMUFRYSJxgZEUMkKhCRUWI1JicoKSorHBJDNDslNjc8IX0dLhg8MYJTZEVYSTlJWz0//EABYBAQEBAAAAAAAAAAAAAAAAAAABAv/EABYRAQEBAAAAAAAAAAAAAAAAAAABEf/aAAwDAQACEQMRAD8AuWgICAgICAgICAgICAgICAgICAgICAgICAgICAgICAgICAgICAgICAgICAgICAgICAgICAgICAgICAgICAgICAgICAgICAgICAgICAgICAgICAgICAgICAgICAgICAgICAgICAgICAgICAgICAgICAgICAgICAgICAgICAgICAgICAgICAgICAgICAgICAgICAgICAgICAgICAgICAgICAgICAgICAgICAgICAgICAgICAgICAgICAgICAgICAgICAgICAgICAgICAgICAgICAgICAgICAgICAgICAgICAgICAgICAgICAgICAgICAgICAgICAgICAgICAgICAgICAgICAgICAgICAgICAgICAgICAgICAgICAgICAgICAgICAgICAgICAgICAgICAgICAgICAgICAgICAgICAgICAgICAgICAgICAgICAgICAgICAgICAgICAgICAgICAgICAgICAgICAgICAgICAgICAgICAgICAgICAgICAgICAgICAgICAgICAgICAgICAgICAgICAgICAgICAgICAgICAgICAgICAgICAgICAgICAgICAgICAgICAgICAgICAgICAgICAgICAgICAgICAgICAgICAgICAgICAgICAgICAgICAgICAgICAgICAgICAgICAgICAgICAgICAgICAgICAgICAgICAgICAgICAgICAgICAgICAgICAgICAgICAgICAgICAgICAgICAgICAgICAgICAgICAgICAgICAgICAgICAgICAgICAgICAgICAgICAgICAgICAgICAgICAgICAgICAgICAgICAgICAgICAgICAgICAgICAgICAgICAgICAgICAgICAgICAgICAgICAgICAgICAgICAgICAgICAgICAgICAgICAgICAgICAgICAgICAgICAgICAgICAgICAgICAgICAgICAgICAgICAgICAgICAgICAgICAgICAgICAgICAgICAgICAgICAgICAgICAgICAgICAgICAgICAgICAgICAgICAgICAgICAgICAgICAgICAgICAgICAgICAgICAgICAgICAgICAgICAgICAgICAgICAgICAgICAgICAgICAgICAgICAgICAgICAgICAgICAgICAgICAgICAgICAgICAgICAgICAgICAgICAgICAgICAgICAgICAgICAgICAgICAgICAgICAgICAgICAgICAgICAgICAgICAgICAgICAgICAgICAgICAgICAgICAgICAgICAgICAgICAgICAgICAgICAgICAgICAgICAgICAgICAgICAgICAgICAgICAgICAgICAgICAgICAgICAgICAgICAgICAgICAgICAgICAgICAgICAgICAgICAgICAgICAgICAgICAgICAgICAgICAgICAgICAgICAgICAgICAgICAgICAgICAgICAgICAgICAgICAgICAgICAgICAgICAgICAgICAgICAgICAgICAgICAgICAgICAgICAgICAgICAgICAgICAgICAg4DmkkAjcd/og5QEBAQEBAQEBAQEBAQEBAQEBAQEBAQEBAQEBAQEBAQEBAQEBAQEBAQEBAQEBAQEBAQEBAQEBAQEBAQEBAQEBAQEBAQEBAQEBAQEBAQEBAQEBAQEBAQEBAQEBAQEBAQEBAQEBAQEBAQEHDu5BrMq8uy/DtSL7WWXJbnS10d0qWSzNnc4Tlszx+ca7dr+7xHu2WRZ3QDiap8luFLjGdwU9vuk7hFS3CH2aeoeegY9p/y3k9x+qSduh2Buiy4VBAQEBAQEBAQEBAQEBAQEBAQEBAQEBAQEBAQEBAQNwg8+73yy2hnPdrvb7e39KqqWRD+YhBhtz1t0ntzyypz2xlw7xFUdr/ALAUHi1PEho3AdhmDJf+lRTu/wCxNHVPE3o/v/8AaOo//jp//Spo/SLiX0df35RIz9q3zj/tTR3oOIfRyYdM4o2Hykp5m/1Ymj0qPWzSerIEOfWEE/8AEqeT/cAqPdos/wAFrQDSZljs+/cGXOEn5cyD26S40FY3mpK2mnHnFK139Cg7W4QNwgbjzQEBAQEBAQEBAQEBBxuEHKAgICAgICAgICAgICAgICAgICAgICAgICAgICAgICAgICAgICAgICAgICAgICAgIPmRzWMc9xAa0bk+iDVPkdZ+MciulxHUVVbPOPc+Vzh9xWR0B5bkeo7wg2WcPmSVWWaN4ze66TtauWjEdQ8ncukjJjc4+p5d/itDPUBAQEBAQEBAQEBAQEBAQEBAQEBAQEBAQEBAQCUEC62cSuM4TVz2THoG5DfIiWShknLS0zh3te8dXOHi1vd4kKaKt5vrtqhlj3tq8nqbdSu/+62z/DRgeRLfbPxcgjapkkqZjNUyPnlcdy+Vxe4+8u3Kg+R07uiBufNA3PmgdfNA3PmgHr3oPksYe9jT72goPqImI7xExnzYS3+iD17flOT24g0GS3uk27uxuMzf6OQZFbtYdU7ft9Gz+/gDwlqBKP5wVRklu4kdYaPbfKIaoeVTb4n7/EAIMitvFpqXTEfS7fjtcPHmppIyf4XpoyO3cY18YR+McHt0o8fo9e9n+5pTRkVDxj2N5H07BrrCPEw1kUn9Q1NGQ0XFxppM0fSbbktK7x3o43j+WQpo9qi4odIKjbtL1cKX/rWyYbfJpV0erT8ROjc3dm9JH/1YJmf1Ypo70WuukMg9nUCx/vTlv9QqP1OtukwG/wD4g4//APuwmjr1GvWj8A3fn9nd6RyOefuCaPEufE3o/RtJiyGprnD7NLb5nb/EtA+9TRguT8YWNwMezHMTute/b2ZK2VlOzf3N53bfJNGEYhqrrHrRqTbLBZ7qzHqFkzaqqFti2EMDHAudI927n7/VDegJcguq3oOqo5QEBAQEBAQEHG432QcoCAgICAgICAgboPjtWdp2fMOfbfl367eeyD63CDlAQEBAQEBAQEBAQEBAQEBAQEBAQEBAQEBAQYdrZfm41pNk96Li19PbZuyIP+o5vIz+ZwQaxmt5WBv6I2WRyO8INhPBzBJDw+46XgjtDUSN3/RM79v6LUEwICAgICAgICAgICAgICAgICAgICAgICAgICAUFeOMrVqow+wQ4fj9UYb3doi+eeN2z6Wl6gkHwe87tB8AHHyUoo6oCAgICAgICAgICAgICAgICAgIAcR4n5oOeZ36R+aBzHzKBzO/SPzQcEk953QduzW2vvN2pbTaqSWsrquVsNPBEN3SPPcB/wCfcBuSg2IcO2ldFpfhgpH9nUXut5ZbnVNHRz9ukbT+gzcgeZJPitCTkBAQEBAQEBB8Ts7SF8fO9nMC3mYdiN/EHzQa959Y9WcCzK7WeDNa64x22vnpeS5BtSyQRyOaN+Ycw3A8CFBYvQTiStWc3GDHMnpIbJfZzy0743k0tW79FpPVjz4NO+/gSeiaLABUEGCZjq5gOI5hS4rkN+ioLjUxCUdpG7so2uJDe0kA5Wb7Hbfy8EGa0dVTVlLHVUlRFUU8jeaOWJ4exw8wR0IQfsCgIBOyDzshvtmx62vuV9ulHbaSMe1NUzNjb7tz3n0HVBWfV7iwoaVk1s03pBXVB3abrVxlsLPWOM+08+rth6FTRVy937LLtcHZVdbtdp6qqmdH9PdO9pe9oBLGlpAHKCPZHQbhQZHjGtOqWOvYbfmt0kjZ3Q1jxUx7eW0gP3EKi0XDnxGNzy7xYpldFT2++StJpKinJEFWWjct5SSWP2BIG5B2O3kmiw46qggICAgICAgICAgICAgICAgICAgICAgICCufHnkQt2mNvx6N+0t4r2l7d+pihHO74c3IFKKRKDhzuVpd+iCUGzrRSyHHNJsXszmlslNbIBK0jue5oc7+ZxWhmCAgICAgICAgICAgICAgICAgICAgICAgICAg/GuqIaSjmq6iQRwwxukkeT0a0Dcn5BBrB1RyypznP7xlNS5x+nVBdA0n/Lgb7MTR7mgfMrIxpAHXuQevi+L5HlNV9GxuxXG7S+IpIHPa33u+qPiUEwYvwqan3VrZLmbPYozsdqmpM0gH7MYI+bgqJEs3BxRNAdec6q5HfabRULIx83lxTBlNDwkabQt/xVxySrd61jYx/KxMFUteMUt+Eas33GbV2v0Cjkj7ASvL3Br4mP2Lj39XFB++k9dpaa2O26j49XGmkfsLrQ10rXQ7/wDEiHQtH6TeoHgVBamk4XtH7tb4K+2VN6fS1EYkhnp7pzse0jcOaSCCNlcHQreEDBpN/omR5HTnw5pIpB97EwQdxI6IxaT0lnr6K+1F2pbjNJA7t4Gxuie1vMOreh3HN8kEMKDNcN0rzjMrDJe8VtMN3poZDFOynrIu2heOuz43ODhuOo79x3KjpXvTrPrICbthd/pGj7bqF7m/NoIUGMTAwyGOYGJ4+zIOQ/I7IONjtvsdvNAQEBAQEBAQd/H7NdcgvFNZ7JQT3C4VLuWGnhbu558/QDxJ6DxKC9/DXobQ6a0AvN57Cuympj5ZJm+1HSMPfFET/M/vPcNgrgmtUEBAQEBAQEBB8yOaxhc4hrR1JPcAg1WZfcfxvl16uoPStuFRUD3Plc4fcQsjzI3vjkbJHI6N7HBzXtOzmEHcOB8CDsUGy7QTLZs30kx/Iat4dWzU3Z1ZHjNG4xvPxLd/itDOkFJOPfH6ij1KtWRCM/RbnbhBz+HawuO4+LXg/AqUQfiWZ5ZiUnaY1kdztO53LKaoIjd72Hdh+IUEmWjig1boY2snuVruQHjVW9ocfeWFv9FR67+LXUox8rbbjbXfpCmkP3c6aMevvEpq7dY3RMyCmtrD4UFExjv4ncxQRdfr3eL/AFprb7dq66VJ/wBWsqHSuHu5j0+GygyTR/Tq+al5fFY7Q0xQt2krqxzd2UsW/wBY+bj3Nb4n0BVEscZ9isuHUWBYZYacU9Hb6Kqla3fdzy5zGl7j4ucQST5pRXRQe/pvWT2/UTGq2mcWzQXelewj/rNH9CQg2kjuWhygICAgICAgICAgICAgICAgICAgICAgICCh/HFkv451jbZopOaCx0TICAdx2sn5x/x2MY+ClEDKDJ9J8ddlmpeO48GFzK24RNmA8ImnnkP8LT80G0FoAaA0bDwWhygICAgICAgICAgICAgICAgICAgICAgICAgIIr4sL8/H9B8jmhkMc9ZEygiI795nhjv5S5KNdXTw6DwWR6uJ45e8rvtPY8ets9wuFQfYiiHcPFziejWjxcdgguBpDwq47aIYbln0rb9cCA76DGS2jiPkftSn37N9D3q4LE2q22+1UUdDbKKnoqWMbMhgjEbGj0aOio7aAg4PcUGuLijrmXDX/LZo3btjq2QfGOJjD94KgjRQW14CM5q5TdsArpzJTwRfT7cHH/LBdyyxj03LXAeBLvNWC2iorR+EEkYNPcciP133gke4QSb/ANQpRS1QTXwY5RU2HWmjtQlcKK+QvpJ4/Ava0vidt5ggj3OKov6ACAR0VHl3jHbDeI3Mu1lt1e1w2IqaVkm/zCDAr9w+6RXgudLhlHSSO/1KF76Yj+AgfcmCP7/wg4TVbusuRX62OPhKY6lg+YDvvUwR7f8AhAy+m53WXKbPcGj6ramKSnefiOYJgwC+cO2r1q3JxN1ewfaoKqOXf4Eg/cgwi74TmVnJF0xK/Ue3eZbdKG/MNI+9QeE6KVjuV8UjXeTmOB+SD1bHi2TXyZsVmx28XB7u4U1DI8fPbYfNBM2nXCxnt/mjnyZ8GM0B2LhIRNUuHpG08rT+074Ki2ulWluH6bW00uOW/aplAFTXTkPqJ9v0n7dB+qNh6KjN0BAQEBAQEBAQEGE67ZCMW0iya9cwbJDb5GQ9f9R45GbfFwQaywOVob5DZZBBfrgiZKzQahMm+z6+rczfy7Tb+oK1BOCDB9bNO7dqXgtVj1Y8U9QD21DVcu5p52j2XbeIO5BHiCUGujNsUv2GZHUWDI6CSiroD9U9WSt8Hxu7nsPgR7jseiyPFQEBBIOjOkeVan3VsdppzS2mN+1VdJmHsYh4hv8AxH/qj4kKi/ul+BY/p1i8Vhx6mLIweeed+xlqZNuskjvE/cB0GwVFMeNy8i5651FEx/My1UEFL39znAyu/wB7VKIPUGU6P0BuerGJUAG/bXmlB9wlDj9zSqNoA7lRgGvGojtMcDdkrLO66u+lRUzYe37IAv39pztj0G3gO8hBF2B8WuI3erZSZTZ6zHXPOwqRIKinH7RaA5o9eXZTRYi21tJcaGGuoKqGqpJ2B8U0MgeyRp7iCOhCo7CAgICAgICAgICAgICAgICAgICAg/C41UFDQT1tS8MggjdLI4+DWgkn5AoNWWZXufJstu+Q1B3luVZLVH0D3EgfAbBZHlILHcBeMG46h3XKJo94bPR9jE7b/WmO33Ma75qwXbCoICAgICAgICAgICAgICAgICAgICAgICAgICCvnHq97dGaJjfqvvdOH+4RykfeFKKT49Z7jf75RWS0UzqmvrpmwU8Q+08nxPgB1JPgASoNi+heldl0wxVlDSNjqbrUNa6415b7U7/IeUbe5rfiepK0JEQEBAQda61kNvttTX1Lg2CmidNI4+DWguP3BBqtyK6S3zILle6gl0twq5ap5Pfu95d/dZHRQTlwPiT/AMdoizflFqquf3ext96sF91RUT8IVdGurMPsjXe0xlVVvHv5I2n/AHKUVRUEhcNsb5decMazfcXIOO3kGPJVGyZv1QqOUBAQEAgeSDjZB8Ohic7mdEwnzLRug+wAOgGwQchAQEBAQEBAQEBAQEFZuPvJhR4TZcVhk2lulYamZoPXsoRuN/e9zfkpRS9QcEhoLj3Dqfgg2VcOdjfjuiOKWyZgZMLeyeUbdQ+UmUg+vt7fBaEgICDGs/wXFc7tH4syiz09whbuYnOHLJC4/aY8e00+49fHdBXnKuDuhlqHy4vmNRSRk7tguFMJw3052FpPxCmDH6Xg6yR0wFXm1oji36mKilc75FwCYJJwThSwGyTR1WQVNdks7CD2c5ENPv8A9NnV3xJTBPVvoaO3UUNDb6WCkpYWhkUMEYYxjfINHQBUftLIyKJ0kjg1jQS4k7AAd5Qat9Rr87KM/v8AkTjuLhcJp2ejC4hg+DQ0KDwFBMPBzZzdtfLNKWc0duhnrX+nKzkb/NIPkqNhA7lRDfGZDHLw/X1z9t4paWRno7t2D+5Uo19dxUE58JWrVbhWYUmLXOre/GrtOIeze72aOd52ZK3yaXbBw7uoPgVRfUKjlAQEBAQEBAQEBAQEBAQEBAQEBBEvFtkhxvQu+Oik5Km5BlugIPXeU7O29zA8/BKNeHTwGw8FkPFBsB4NMV/JzRK31k0XJV3qR9xl3HtcjvZiH8DWn94qwTQqCAgICAgICAgICAgICAgICAgICAgICAgICAgiLi8xufI9Cry2ljdLUW10dxjY0blwidu/+QvSiF+AbC4qy8XnOquIPFCBQUDiOgkeA6V49Q0sb+8VILijuVBAQEBBEPF7kv5N6G3hsUnJU3UstsGx6/nT7Z+DA8qUa9Dt4DYeAUBBZbgAtLqjPsivToyWUdtZTtd5Olk3/pGVYLpnuVFAeNW+fjfXWspGyB8VpooKNu3g7YyPHzk+5QQooJo4LrUblrzbqgs5mW6jqKp3oeUMafm9UbAR0GyoICAgICAgICAgICAgICAgICAgIBOwQa9uMDKfym1uucMUvPSWaNlth8uZu7pD/G4j91QQ+oMk0vxqTMdQ7FjUbS5tfWsZLsO6IHmkP8AKDaFAxkULIo2hrGNDWgeAHcFofe6BugICAgICCN+JbJjimiuR3GN/JUzUxo6bzMk35sbe4En4KUa3QA0Bo7h0Cg5QWu/B9WDmqcpyiRnRrYbfC4j3yP2/kVgt2qID46boyi0V+gc+0lxudPC1vmGkyO/2hSiiSg453R/nGEh7PaaR4EdQUG1+yyyT2ijmmO8kkEbn+8tBK0O2gICAgICAgICAgICAgICAgICAgqJ+EFyAuqsXxWN5Aa2a4zN37yfzcf8A8xSiqKg9XDrHUZNldpx2lBMtzrI6UbeAe4Bx+Ddz8EG0u1UVPbrZTW+kYGU9NE2GJo8GNAAHyC0OygICAgICAgICAgICAgICAgICAgICAgICAgICD5mjjmjdFKxr2OBa5rhuCD0IKDwcCw3HsGsbrLjNAKKhdUSVBjDy723nc9T4dwA8AAEGQICAgICCmXH7lH0zK7DiMMm8dvp3VtQ0H/Ul9lgPuY0n95SisagILx8B2Pm26T1l8kYWyXi4ve0+cUQEbf5hIfirBYKpljhgfNK4NjY0ueT4ADc/cqNWmeXt+S5tfMgkcXG4181QD+q555f5QFkeKgth+D4sW82V5NIw9BBb4nbd/fI//wCWrBblUEBAQEBAQccw8wg5B3QEBAQdK+XW22O01N2u9bBQ0NKwyT1Ez+VkbR4k+AQdCw5fi1+aDZMjtFy38KWsjkPyB3Qe2Cg5QcE7IPPq77ZaOo+jVd3t9PP/AMOWpY13yJ3Qd6KWOVgfE9r2Huc07g/FB9oPC1ByGmxPCbzklW4CK3UclRsftOa08rfeXbD4oNXFbVVFdWT1tY8yVNRK6aZxPe9xLnH5krI/JBaLgGw01V+vWc1UX5mhj/F9GSO+V4DpXD3N5R++VYJ21m1ww7TNho62Z9yvZaHMtlI4GQA9xkcekY9/U+AKorDk3FZqZcqlzrQy0WOn39hkdN279vV7zsfgAoPjHOKrVC3VbH3Q2i804Ptxy0nYOI9HsPQ/AoLeaNak2TU7E23y0Nkp5Y39jWUcpBkppdt+UkdCCCCHDvHyVGbICAgIKl/hA8o2GN4bBJ1JfcqpoPgN44t/iZD8ApRUpQPeg2HcI+NHHNC7GJYzHU3MPuUwI67yndn8gYrBLaophx+5M2szGxYpDJu220rqyoaD3SSnlYD7mNJ/eClFZVB2bTSOr7tRULBu6pqYoWjzL3tb/dBtdhY2KJkbBs1jQ0D0HRaH2g4JA7yEAEHuIKDlAQEBB8tka4kNIJadjt12QfQIKAg/OeeGANM0scfMdm87gNz8UH2HA9yDlAQEBAQEA9ASg15cX95N317vjA7eO3MhoWde7kYHO/meVBEagn3gZxj8c6uzXyaPmp7FROlaSNx20u8bPjy9ofgrBewdyoICAgICAgICAgICAgICAgICAgICAgICAgICAgICAgICAg4eQ1pLiAANyT4BBrE1jyd2Y6oZDkXOXRVVa8U/pCz2I/5Wg/FZGJIDQ9x5Y28zz0Y0eLj0A+eyDaDpPjrMT02x/HWtDTQ0EUUnrJy7vPxcStDwOJfJDi2iOS3COQMqZqU0dN12PaTERjb3BxPwSjW4AGgNb3AbD3BZHIG52QbA+DWxfiXQi0zvZyy3WWW4P379nu2Z/I1qsEn5dkllxOwVN9yC4Q0Fvpm7ySyH5ADvc49wA6lUVG1H4t8jrK6Snwa00tsoWu2ZVV8fbVEnryb8rPceY+5TR08B4s8zt1zjZmFvob1b3uAkdTQinqGDzbseR3uIG/mE0XCwrKLJmON0mQ49XMrLfVN3Y8DYtI6FrgerXA9CD3Kj2kAoK96/cSVswmrnxzEoKe836IllRLI4/RaR36Ltur3j9EEAeJ8FBWO7a8auXGtNVJnFwpiTuI6RscMY9A0N7vfugzHA+KjUSx1EUeQijyShGweJoxBUAfqyMGxP7TT8E0XB0q1Cx3UjGW3zHp3ljXdnU08oDZqaTbfke3z8QRuCOoKoy5AQV8448zbYtMIsXp5AK3IZeyeAeraaMh0h+J5G/vHyUooywlkwlZ7EgO4e32XA+8dQoLDcKOsmWUGoNpw69XWqu1lukv0WNlXIZJKWQgljmPPXlJGxaSR13HcrBdysq6eiopa2snjp6aGMySyyuDWsaBuSSe4AeKopVxAcSt3yKrnsOAVc9qsbSY5LhHuyorPAlp744z4be07032UEAZDaLpa7kIb9b6imrpYmVBbWM/Oljxu1zubdw3HXr1UGTaW6n5ZpzeYa+yXKodRscHVFullLqeoYO9paejTtvs5uxBVGyXG7rTX2wW+80e/0eupo6iLfv5XtDhv81RXvj1y38XYHbMRp5dp7xVdrOAf9CHZ2x9C8s/hKlFKlBzGx8kjY4mGSR7g1jB3ucTsAPeeiC1+aahxaEaUWjTHFZIZMvdSia51IAc2hkl9p7iO4yknZrT3AAnwBoqvNLW3O4TTyvqa2sncZZXnmllkce9zu8k+pUHXQEFn/AMHvUVIy7K6VrnfRX2+nkePDnEjw0+/YuVguUqCAg4cdgg1s8RuU/lfrNkN0jk56WGo+hUpHd2cPsAj3uDj8VBHqg9fCrDPlGX2jHKYEyXKsjpung1zvaPwbzH4INpdupYaKggoqZgZBTxtijaO4NaAAPkFoK6qgoqOerqZGxQQRukle7ua1o3JPuAKDWBqflM2a6g3vKZi7a4VbpImk/UiHsxt+DGtUGOKDOuH61G9a2YhQ8vM38aRzvH6sW8h/2BUbLgeiojzXHVmxaW4+2srx9MudSC2gt8bwHzuHe4n7LB4u+A3KCmGU8QurF9uMlVHk8tohJPZ01tjbFHGPLcgud7yVB849xC6uWapbL+VklyYCOaG4QMlY7032Dh8CE0T/AKe8W+NXSakocws1TYppAGy1sTxNStd+kftsb6kHbxPimiydPNFUQMngkZLFI0OY9h3a5pG4II7wQqPtB17jV09BQ1FbVyiKnp43SyvPc1jRu4/IFBrJvme5DVZ3eMrtN6udrmuNfLVtNLVvj5Q55LRsDt0G3gsizPCVrtkGU5IMGzKZtfVSwPloLhyBsjiwbujkA6OPKC4O2B6EHfoVRaVUU+/CAZRTVF0x3EIGxvnpGvuFQ8fWj5xyRtB8NwHO+DVKIc001q1BwOojbbL3NXW9pHNb7g900Dh5Ak8zPe0hBejRLUy06oYe2+W6F9JUQydhW0b3BzqeUDfbf7TSCCD4jyO6ozxAQEBAQCg1dapVzrnqZlFwc4uM94qnbnyErmj7mhZGNoLw8B2PC3aV1t+ezaW8XB7mnbviiHZt+/nPxVgsQqCAgICAgICAgICAgICAgICAgICAgICAgICAgICAgICAgII74kMp/JDRnIrpFIGVUlKaSlPj2s3sNI9RuT8EGtkANAaO4DYLI5QZ5w943+Ves+M2h8fPAKwVVQD3dlCDI7f38oHxVGyxvcqKp/hA8l5LbjeIRSHeeaS4VDf1WDkj+9z/AJKUVDUH3BBLVTx0sA3lne2JgHi5x5R95QbRbWy14RgNLFXVENHbrLb2MmmedmMZEwBxPyK0KF616k5DrNnsFJbaerfbhUdhZbXGN3vc47B7m+Mjv5R08CTBh2pGLOwvKJMbqK+Ksr6SCL6eYR+bhqHN5nRNP2uUFoLvE7qDHEFtPwetdXuGYW0ue63xmlna0/VZK7tGu29S1jd/cFYLaqiuvF3rS/DracLxir5MhrYuaqqIz1oYHeXlI/w8hu7yUFIHEkkkkk9TudyVBkum2D5HqDk0Vgxuj7eocOeaV55YqePfrJI7wH3k9ACgtNTcJmF23Eaqe/ZJdprjHTPkfWQubFBCWtJJEexJaNvE7kK4MC4Aqqtbqbe6WGRxopbP2k4H1S9srRG737Of8Egu2qOHHYboNcnE3nH5dauXOup5u0ttvP4voNjuCyMnmeP2n8x92ygjJQSZwtWqS7694rFGNxTVL6x58mxRud/Xb5qwSPxiayvv9zn0+xys/wDqaik5bnURu6Vcze+PfxjYe/8AScPIdQ9TQfS2zYDhM+septMOakg+lW63zN/yh9h7mnvleSAxp+ruD3noFcc4yO45fl1zya7O3rLhUOme0HcRjuawejWgNHuQeTT089XUR0lLG6WoneIomNHVz3HlaB8SFBtJwCzOx3B7JYnu5n2+ghpnHzcxgB+8FaFDOLPLPyr1su/Yy89HadrbT9dx+b/zCPfIXD91QRMoPewO7U2P5BHkM0EdTPbQZ6GnkG7ZKruiLh4sYfzh8+UDxQZTo/p3kusedVDDVz9j2n0m8XaYc5Zzncn9aR532b6b9wVF99O9P8UwKyMteNWmClbsO1ncA6ed36Ukh6uP3DwACo15a3VtFcdYMtrLc2NtJJdphH2YAaeU8pI283NJWRhyC7HAXiklrwC55TUxlkl7qgyn3HUwQ7tB9xeXqwWRVBAQYdrVlDcN0syHIuYCWlonin698z/YjH8Tgg1jnmJ3e4vd9px73HxPxPVZBBYXgUxM3jU6tyWeLmprFSbRuI3Hbzbtb8QwPPxCsF5AqID42c6GNaY/k5Rz8lyyFxp9mn2mUzdjK7033az94+SlFElAQT5wLWU3HWSe6OYCy1WyWTcjufKWsb8duZUXXy+/27FsYuOQ3aYQ0NvgdPM7x2HgPMk7ADzIVGtHU7NLvn+aV2TXh5EtQ7lhh33bTQj6kTfQDv8AMknxUGNKD1rtjl3tVhs97uFK6CjvLZX0JcfalZGWtc/bwaS7ofHYnuQZXlWBU1r0Ww7UCkqZZJLvUVNNWxOILWPY9/Zlvlu1hBHXr1VFt+CXIKm96JQUlXK6V9orZaBjnHc9kOV7B8GvA9wSCcVRX7jX1Dpsc08fiFFVbXi/N7NzGH2oqTf848+XNtyDz3d5FSii6gmLg1oJa3iAssrA4so6epqJCPAdkWj+Z4VGwGtqIKKimq6qVsUEEbpJZHHYMa0bkn3AFUawtVMsmzjUK9ZRMXctdUudA132IW+zE34MA+JKyMYQXE/B8UFRHj2WXR/MKeetggj8i6OMlx/nAVgtMqOvNXUUFTHTTVdPHPKCY4nytD3gd5AJ3KDsboCAg4KDVZmUMlPmF8glBD47nVMdv5iZ6yPJceVpd5DdBsy0Es7bFo1idtAALLXDI/8Aakb2jvvcVoZwgICAgICAgICAgICAgICAgICAgICAgICAgICAgICAgICAUFTfwgWTFsGN4fDJ/mPfcqloPg383Hv8S8/BSipCgILQ/g/sc+kZLkWVyxgto6aOggcR9uQ879vc1rB8VYLkHuVGuviwyT8pNc76+N/NT21zLbD16Dsh7f8AO53yUEVKCQ+G2wflJrhi1A5gfDFWfTJge7khBkO/xa0fFUS5xu6puuN0Gm9mqNqKic2W7yMd0lmHVsPuZ9Zw/S2H2SlHf4f8QotKdKLnrVldKDdHUTn2qnlHWKN42j2B7nyuLfc0jzKCrV1r6y6XOqudwmM1ZVzPnqJD9qR5LnH5n5bKDre87BBfngwwx+LaRQ3OshMddf5fp8gcNi2Lblhb/COb95WDNNcdRbfpnglVfakMmrX/AJm30pPWecjoP2R9Zx8gfRUa3r7dbhfLzWXi7VT6uvrZnTVEz+973d59B4AeAACyOLNba683ektNrpnVVdWTNgp4W973uOwH/v4DcoNj+hWmts0ywmCz0wjmuMwEtyrA3rUTbdf3G9zR4D1JWhEHG3qrLZrdHp5Yat0ddXxdrdJYnbOipz9WLcdxf4/qj9ZSirum+f5Vp7eTc8XuX0V8nKJ4XsD4ahrd9mvae8dT1BBG/RBsR0ezWn1C08tWVQU5pnVbCJoObfspWOLXtB8RzA7Hy2VGMcU2e/kHpPXzUkwjutz/AMBQbH2mveDzSD9lnMd/PlUo11gAAAdwGyg5QZtprljsItORXi3y8l+rqQWu3PH1qdsh5p5x5ENa1rfV/oqJE4QNJ25vlJym+U3aWCzygtZIN21dSOrWHfva3o53meUeaD3OOPUg3jJIdPrZPvQ2lwmuJaeklUR7LD5hjTv+070SitKgsBwUaeHJtQHZbcIOa14+Q6LmHSWrcPYHryDd3vLVYLg6qZRFhend8yaQgGgo3yRA/ak22jHxcWqjWBNLLNK+ad5kmkcXyOPe5xO7j8SSsj5Qd7H7RcL/AH2hslppzUV9dO2CniH2nuPTfyA7yfAAlBsp0cwG2ab4NR45bw2SVo7SsqeXZ1TOR7bz6eAHgAAtDFeKDVOn05wSaCiqGHIrpG6C3RA+1HuNnTkfosB6ebth5oNeRJPUkk+ZO5PvWRlWlGEXPUPOaDGLaHN7d3NUzgbingbtzyH3DoPNxAQbMMetFBYbHQ2W1wCCioYGQQRj7LGjYfH+60O+gICCrvH/AJP9Gxiw4jDIA+vqnVtQ0d/ZxDZoPoXu3/dUopwoHTxOw8Sg2B8HeInFtGKCpqIezrb283GfcdQ14AiafcwN+ZVgmOaRkUTpZHtYxjS5znHYNA7yVRre18zefU3VeuulHzzUMbvodrjH/AZv7W36x5n+4jyUEcjqNx3KDlBcv8H9YDT4dkOSSMHNXV7KWNx7+SFm5+HNIfkrB5fHvnL2RWnT+im2Eu1wuAae9oO0LD8Q5236rUoqQoJM4b9NX6l6iQ2+qY4WWhaKq6PHTePfZsQPm89PcHFUWD47cR7XTmw323UrY4LDU/R5I42bNiglaGjYDuaHNYPilFZ6vNG1Wh1Fgcwf9IoL+6ugdt7JgfE7cb+YkJ6eRUFq+AilfDpBcal42FTe5nN9Q2ONn9QVYM/1v1exvTCxvlrZmVl5lYfoVsjeO0ld4Od+hGPFx+G5VGvbNMlvGX5NW5Ffqo1NfWSc8jh0a0D6rGjwa0dAP/dZHjoLd/g/8TdFRZBm1RGR9Ic220jj4tYeeUj3uLR+6VYM041s4/JrS44/STclxyF5pRseradvWZ3xGzf3koogoOCeUFx7h1QbJOG/EThmjlhtU0fJWSwfTKsePbS+2QfUAhvwWhIyCqv4Qe30gtOJXgMa2ujq56dsg6O5CwP237+haD8VKIJ041w1FweoiFDfZ7jb2Ec1BcXunicPIEnnZ72n4IL36PZ/bNScHpcntkMlN2jnQ1FNId3QTN+szcdCOoIPiCO7uVGYoBQa9eLfCarEdYLlW9g5ttvshr6SQD2S523as382u67eTgVBDsv+TJ+yf6KDang74pMMskkJBifb6dzNv0TE3ZaHsoCAgICAgICAgICAgICAgICAgICAgICAgICAgICAgICAgHuQa5uKjJPym10yGdknPT0EjbdB13AbCNnbe95eVBF6gD1QbA+DfHfxBoba6iSPkqLtJJcZenXZ52Z/I1vzVgk/Nb5BjWI3a/1JaIrdRy1JDjtvyNJA+J2HxVGrGrqZ62rmrap5fUVEjppXHvL3kucfmSsj80Ex8PV8h0/xzMdS5WMfWUtLHaLOx/dJVzkvPwa1jXH0B81R1+GzT6p1S1RM957WqtdE/wCn3eaTqahznEtjJ85Hbk/qhyCTuPXNA+ts+ntDIBFTtFwr2s7uY7thYR6Dmdt7koqsoM00RwqTUDU2z41yu+iyy9tXOb9imj6yfPo0erlRspqZqCzWmSeZ8NFQ0cJc5ztmxxRsb3+gACo108QuptVqdnktyY6SOzUYdBa4HdOWPfrIR+k8gE+Q5R4KCN1BafgQ0+bWXKv1EuMG8dG51FbOYdO1I/OyD3Ahg97lYLO6nZja8Dwi5ZPdXDsaOPeOIHZ08p6Mjb6udsPmfBUaz8rvtyyfJLhkF4m7avr53TzO8AT3NHk0DZoHkAsjy9wAXHuHUoNkvDfjMmJaL45aahpbVOpvpVQD4STEyEfDm2+C0Kf8XWoAzbVOeioZ+0tFi5qKmLTu2SXf89IPe4coPkz1UENqAg9jCMbueX5Zbcas8fPW3CcRMJG4YO9z3fqtaC4+5BsByWssWhWhMhtsTBFaaQQ0bHfWqal/Rpd5lzyXO9N1Rrsr6uqr66orq6d9RVVMrpp5XHcySOJLnH3klQfpaLfW3a60lqttO6orayZkFPE3ve9x2aPmflug2X6QYRRae6f23GaTle+nj5qqYD/Pnd1kf8T0HoAFoVY4zdXWZHd3YBj9S2S026YOuM7DuKmob3Rg+LGHv83fs9ZRW1QEFm+DnHrHjdquesOZVlNbrdSk0NunqXcrQ49JZB4knowbdfrKwSlqhxQYLj1rczE6lmT3WRm8TYOZtNESOhkkIH8Ldz4dE0UrzXKb5mWSVWQZFXPrK+pPtOPRrGjuYxv2WjwH9ySoOpj1numQXqls1loZq64VcnZwQRDdzz/YDvJPQDqUGwnh10lodLsT7KUxVV+rg19xq2jpuO6Jn/LbufedyfTQlJAQEAoNevGDkZyDXS7xMk56e0xx26Lr0BaOaT+d5HwUEQKD28Ax+XK84smNQ/WuVdFTuP6LC72z8Ghx+CDaRRU8NHRw0tPGI4YWNjjaO5rWjYD5ALQgPjU1J/JfBhiNsqOS739jmSFh2dDSDpI70LvqD3u8lKKu4lj5tOkWSahV0fIakixWXcfWllP+Ilb+xEHNB8y7yUEddPAbDwCDgkNBc7uAJPuCDZNw3447F9E8YtksfJUPoxVVA22PaTEyO393Nt8FoUO1zyV2Xat5JfO0L4ZK58NOd+ghiPZs2+DSfisjC+nj3INgXB9hTcT0eoa2eHkuN92uFQSNiGOH5pvuDNj+8VqCV8is9vv9jrbLdqZlTQ1sLoJ4ndzmOGx9x8j4FBrb1twT/wAONRK7F23GO4QxNZNBKOjxG/csbIO4PAHXboeh8dlB9YxqpqPj2Nx4tjuSVtvtzXPcyCkgYJOZ5LnEP5C/qT5+5QdW9YbnLsdqs5yK3XGChfKxprrm5zZaqR59kMD/AG5D3nfuAB6oMSQfvbqOquNxprfQwunq6qZkEEbRuXyPcGtHzIQbOtL8UpMF0+tGM0xYW0FM1ksg7pJD1kf8XEn3LQoTxLZ6dQNV7jcaeUvtdD/gbd16GJhPM8ftv3d7uXyUEaKDN9CMV/LPVvHbDJH2lM+rE9UNunYxfnH7+/YN/eVGzFvcOmyo5QUw4/ckZWZhYMWhkDvxdSvq5wPB8x5Wg+vKwn4qUVlUGwjg8xyfHtC7S6qY5k90kkuLmEbFrZCOT+RrT8VoTCgIMd1AwrHM7x6SxZNbmVtI88zDuWyQvHc9jh1a4eY9x3HRBWjJeDqU1T3Y3mjBTk+zFcaMuc0eXPGRv79gpgsZpBjl5xLTqz43fbnBc623wdgaiFjmtLATyDZx36N2G/jsqMtQEBAQEBAQEBAQEBAQEBAQEBAQEBAQEBAQEBAQEBAQEBB5OY3iHHsUut8nIEdBRy1Lt/1Gl23zAQasKqpmrKmWsqHF01RI6aQnxc4lx+8rI/NB2rPbqi8XeitFI0uqK6ojpogP0pHBo/qg2pWK209nslDaaQbU9FTx08Q27msaGj7gtCFeODIjZ9GJLVHJyzXusipNh3mNv5x/3MA+KlFDT1O6gIPYuV0knsFpx+m5nU1G6Soexo3MtVMRzHbxIa1jB7ig2A8OuBwaZ6U01LXtZFcalprrrKfCQt3Ld/JjQG/A+aooRqbk02ZagXzJ5iT+MKx8kQJ35YgeWNvwY1oQY6oLl8BWGCixW65xVRbT3Ob6JSEjqIIj7RH7Um4/cVgxzjU1fFbNLppjtTvTwvH47njd0e8bEU4I8B0L/XYeBSiq/qoOY2SSSNjhYXyvcGsaPtOJ2A+JIQbPNJ8Xp8H00smORgN+g0bRO49OaUjmkcfe4uK0KW8WOrP/AIhZeLPZqkvxu0SObA5p9mqn7nTerR1a303P2lBCigzvQHDznOrVisT4y6j7f6VW+Qgi2e4H3nlb+8qLqcUWojdPNMah1DMI71dN6O2tHQsJHty+5jevvLUFAaa1yPx6svcvM2mhnjpYnH/VneC4t/dY0uPvb5qDzUHKC5fAvpyLbj9RqHc4P8Xc2mC2hw6x0wPtPHq9w/haPNWDDePPNXV+W23B6SX/AA9riFZWAHoZ5B7AP7LOv74SisygtDwKad/T7xV6iXKDeCgc6ktgcOjpiPzkg/ZaeUHzc7yVgkLi41pbhtpkw3GqoflHXRf4iaN3WghcO/0kcPqjwHteW6ijigIO7YLVW32+UFltsfaVlfUMpoG7fbedgT6DvPoCgujxQYDT2fhbpbLZ27U+MPpZune9rSWSPI8yZC8/FUUxsNjvOQVzqGx2usudW2MyGCmjMknIO93L37Dp3KCTME4ddUMoq2NqLG6wURI56q6fm+UebYxu9x+Q9QqLjaK6O4tpfbnC2RurbtO0NqrnUNHayD9Fo7mM/VHxJKuCR0BAQEH4XCpioqKesndyxQRulefJrQSfuCDVVf7nNer7cLzUuLpq+qlqnk+JkeXf3WR0kE/cC2PC6avz3qRm8Vlt75GnboJZT2bfjy9orBdTMMhteKYzX5DepxBQUEJlld47DuaPNxOwA8SQqNeNTLk2uutW7WltdeanlY36zKKmb/2xs6nzcfNygkPjLmtmOtw7S6wtEdvsNAah7B3l8nstLvNxDXuP7aCvCgyHTTHn5ZqDYccY0kV9fFFJ6R83M8/whyDZXmdaLHgd6uMG0YoLZPNHt0DeSJxH9AtDViwksaXElxAJPmfFZHo45bHXrIrZZmfWr6yGlH/xJGs/oSg2qUVPDSUcNJTsEcMMbY42jua1o2A+QWhxcKymoKGorayVsNNTxullkcdgxjRu4n0ABQa3quSu1k16c6Jr+bIbuAwHr2VMDsN/RsLNz8VBsboLXb6KOJlNRwRCJjY2FsYBDWjYDfbfuCoqb+EDyNz7ljWJRPPJHHJcZ2g95J7OPf4c5UoqqoLCcD2Ci/6hz5bWQ81DYGjseYdH1TwQ3+BvMfeQrBO/GDqMMJ03ks9vqOS9X4OpaflPtQw7fnZfkeUervQpRRltknZiJyKQGOldXigpht/myCPnk29GN5d/VwUHlILRfg/sdFRkWSZVKwEUlPHQwEjudIed+37rW/NWC46o8/IrxQWCxV16uk4goqKB888h+yxo3Px/ug1iah5RWZpm93yiuBbNcal0ojJ37OPujZ+6wNHzWR7GiGB1Gouo1ux1jH/Qubt7jKB/l0zSOfr5u6MHq5UbLqSCGlpYqanjbFDEwMjY0bBrQNgB6AKj9UBBgOrermG6Z00RyGslkrahpdT0FKztKiRo+1tuA1u/2nEBBFdr4v8ACJ6zs6/G8go4CdhM0RS7epa12/y3U0T7iWRWbK8fpL9YK+Kut1WznhmZvseuxBB6gg7gg9QVR6qAgICAgICAgICAgICAgICAgICAgICAgICAgICAgICAgIIX4z74bPoRdKdj+WS6zw0Ddu/ZzuZ/8jHKUa/j1O6gIJc4Q8eF/wBdrK6RnPBa2yXGTp0BY3lZ/O8fJUbDfBUUt4/799KznH8cjfvHb6B9VI0HufM/lG/7sZ/iUorQoCCa+DvARmOqkV0roO0tWPhtZMHD2Xz7/mWfMF5/ZHmqLe8Rd4ksOiOW3GF/JK22yRRnx5pNox/uVGtblDQGjuHQLI4eS1jnN+sGkj37ILhZ7rLj2mejNjwbALnS199/FcMX0imeHx0QcwF8riOhkJLiG+BO57tjRDfD7pfU51X3PKb1HI/HbLHLUVT5ST9NqGsLxDv3nr7Tz8O9yCImuMjRIdt3jmOw8+qgyvR6CiqdWMSguL2MpH3mmErnnZoAkB6k+uyCx3F/re2OKr05xGsBlfvFeayF3+WPGnYR9o/bI7h7PeTtaKyXrFrlZsVsd/uDBBHezM6ihcNnOhj5R2p8muc7ZvmBv3bIPCUFtuA6w0ltsGUagXN0dPED9CjnlOzY4om9pM4nwG5bv+yrBC2tmbXTWLVcS2qCaendK2gslIB7RYXbB23g57vaPkNv0UHa4iLTS4XJjemlHK2V1joPpdylb3TV1SQ6R3wY1jR5N2QRQoMr0jwyq1A1CtWLU3O2Oql5qqVv+lTt6yP+XQergqNmNDS0Nms8NFSxMpqKjgbHGxvRscbG7Ae4AKjWBqHf5sqzu+ZFO7mdcK6WZvozmIYPcGhoWR5tmt1ZeLvR2m3xmWsrZ2U9Owdd3vcGt+8oLsanai2LQHTO14HjRgq8jhomx08R9psO49qpmHq4ucG97ifLdUVcwHELxqDcb7ll+qap1ntcUtxvlzkO75HBpf2TXHoZHkAeTR18gYI/336lvJv15Qd+X0+CAgsPwLYb+O9RqzK6mLmpbDBtCSOhqZdwP4WBx+IVgubl1lpsixa6WCsaDT3GklpZNx3B7S3f4bqjWRQVd/wLNxUUk76K92SteznA+rJG4tcCPFrtjuPEOWRfnQjWfHNTrTHEySK35DDHvV217/a3He+In68f3juProSmO5AQEBAQYhrTVSUWkeW1MX12WaqLfT804f3QaxGjZjR5ALI5QXN4ALS2nwXIr65o5qy5Npw79WKMf3eVYIw4vdYBm1/GKY/Vc2O2uYmWWM+zW1Dehd6sZ1DfM7nySicOEbSn8hMQfk1/pxDf7vEHPbINnUdN9ZsZ8nH6zvXYeCQU+1iyl2aan5BknOXQ1dY4U257oGexH/K0H4qDEkFjOAzFvxnqRc8omjJgs1H2UTv+fP0+6Nr/AOIKwWy1hp5KrSfLaeLcyPstWGgeJ7Fyo1fsO7GnzAWRlekE0VPqviM05AiZe6QuJ7h+dA/qQqNoCorBxuaqRW6zHTey1O9wr2B91cw9YKc9WxftP8R4N/aCg8zgS05kjFXqTc6ctErXUdpDh3t3/Oyj3kcgPkHeaQWyVGv/AI1amSo1+uUTyeWnoaSKP0HI539XFSiFSQ0Fzu4Dc+5QbDtBbRbNLeH2grL3LHQgUjrrdJnnblfIA4g+obyMA8wB4qinGdX/ACHW/WJslDTyOqLlO2jtdI47ingBPLzeWw3e8+9QZ5xe45Q4NZdPMIte5pbfQVUr5CNjNM58YfIfVx3Px2VFffRQX24ILO23aGU1cWAPulfUVRPiQHdk37o/vVgnInZUU+43NV466p/8NLDUc0FPIJLzKx3R0g6sp9/1frO9eUeBUoq7R01RW1kNHSQS1FTPI2OKKJvM+R7jsGtHiSVBsL4ZdKYtM8K2r2RvyG5cs1xladxHt9WFp/RZuevi4k+S0JZQEHWutbT222VVxq38lNSwvnld+ixrS4n5AoNXuoOVXHNsyuWUXORzp6+Yva1x6RRf6cY9Gt2Hv3PisjwEF3+AZ1UdKLqJS4wNvUohB7h+bj5tv3t1YLFqggICAgICAgICAgICAgICAgICAgICAgICAgICAgICAgIKmfhCbz+axLH2PPV9RWyt38g2Nn+56lFSVAQW1/B82D83lOUSMPtPht8LtvAAyP8AvLFYLaHoCVRro4sLi65cQGUPcfZppYqVg8hHEwf1JUoi1QcEgAk9w6lBsT4WcEOC6S2+GrhEd0uY+n1+49oPeBysP7LOUbee61B+/FVb6i56BZXBTNc+WOkbPytHeI3te77gVKNcx2JJHce5QEGfaH6XXvU/KW2y3h1LbKdwdcbhy7sp2HwHg6R3g34noEGwizYhZrFgrcQslK2jt0dI+mjaOp2c0gucfFxJ3J8SVoaxb5aqyxXmtslwhdDV0E76aZjhsWuYdv8A39xCyOn39O9BO/C/oZVZ9cYcmySmfDilO/maxwLTcXg/Ub/yt/rO8e4eJVGW/hAre+mumG1MULY6RtLU00YY3ZrS1zCGgDoPZ26eQSiragzZ+pl+ZpHBprRiGitIqJZ6yWMntKvmdzBjz4MB7wPrbDfp0VFlODfRqWyQM1CymkdHcqmPa1UsrdnU8Th1mcD3PeO4eDfV3QKx603t2Rat5VeC8uZPdJmxE/8ADY7s2D+FgQYioLp8CmBfirD6vOq6HarvLuxoy4dW0rHHqP23gn3NCsFgMwjnmxS7xUwJnfQztiA7y4xuA+9Uaqow5sbGuBDg0Ag+BHesj1cVvtyxnIqK/wBnkjiuFE8yU8kkQkDHFpG/KehI36euyCQdHdLst1myue41dVVttxn57peqj23Pd4tYT9eQ/Jvj4BUWY4lLXZdPOFy443jlG2io5XU9ExrT7TueVpe5x73OcGu3J71RRMnck+ayHTxOw8T6INhnCPif5K6J2kzQ9nW3be5VO467ybcgPuYGBWCXT3KijnHFgb7DqBDmNFDtb783actHRlWwbO3/AG2bO9S1ylFfqKqqaKrhrKOompqmF4fFNDIWPjcO4tcOoPqoLBaacVmY2GOOiyyhiyWkaNvpAeIasD1dtyv+IB9VdE7YzxQaT3djRW3Stscp23ZcKRwAP7bOZv3pozy16oadXNodQ5xj0wPd/j4wfkSFdHpHMsRDeY5TYwPP8YRf+pB05dRsBikEcmaY81x6bfjGL/zQelfqKjynEa+3MqIpaO6UUkAmjcHtLZGFvMCOh790GrzIbPcMevldYrrA6CuoJ3U87HDuc07b+4jYjzBBWR0UGfWDVnKLDpRW6eWd0NHRVtVJPUVkZIqCx7Wh8QO+zWnl6kddiQgl3hC0PlvFbS6gZZRGO107hJaaSVm30l4+rM5p/wBNv2R9o9e4DeieOKnMfyO0ZvE0E3Z19yb+LqTY9eeUEOcP2Wcx9+yUa6wAAABsANgoOenidh4oNgnB3iRxjRa31FRD2dZenuuM242Ia/pGPgwN+asEw1MMVRTyQTMD4pGlj2nuc0jYj5KjWVrDglx07z24Y5WxPEDJDJQTEezUUxPsOB9B7J8iCsjEI3vjkbJE9zJGODmOadi0g7gj1B6oLNT8XmQHCY6CnxqnbkQhEclxkn5oObbbtRFtvzePKTtv5jorojrQ/TS/6y55PW3Oerfa2VHb3q5yEl8jidzG13jI7+UdfIINhFot9FabZS2y200dLR0kTYYIYxs2NjRsGj3BUdsoKWceeHVlFm1vzWGFzqC40zKOeQDpHPHvyg+XMw9P2SpRWyBzGTRukZzsa9pc3f6wBBI+I3CgmLiC1xr9TG0ths9HUWvG6csLaVxDpqqQdGl/LuNgfqsG/XqdzsBRYLhG0akwe0nLMkpgzI7jFyxQPG7qGA9eU+Ujuhd5DZvmgxX8IHj1TNbMZymGNzoKSSWiqHAfU7Tlcwn0JYR7ylFQm9CD6qDYBwfZJZq3Qiy0MNfTCqtTZKeshMgDonCRzgSD4EEEHu6qwYpxHcRttsNBU4zgVfFX3yQGOe4QkPhoR3Hld3Pl8gNw3vPkmimtBR3K9XaKioaequNxrJdo4o2mSWZ5O59XEk7k/EqC7nDFoFDgrYspytkNTkz2fmIQQ+O3tI6gH7UhHQu7h1A8SaLBKggII44m6+W26C5hUwuLXm3Oh3H/ADHNjP3OKDW73dAsjgkAEnuHVBsi4acTkw7RmwWupj5KyWE1lUD3iWY85B9QCB8FqCSEBAQEBAQEBAQEBAQEBAQEBAQEBAQEBAQEBAQEBAQEBAQUR46rk6s1qhod/Zt9phjA9Xue8/1ClECKAOpQbCeDux/iXQSxvc0tluTpbhID/wAx55f5GsVgl9w3aQqNefF3j1XYtdb3PPE8U925K+lkI6Pa5ga/b9l7SD8PNSiI1BJHDZhX5dauWi2Tw9pb6R/0+v6bgxREENP7T+VvzVGyBo2AGyo+KqnhqqaWmqYmSwysLJI3jdr2kbEEeIIKClmq/CplFvvFRV4Aae62mV5dFRzTiKopwfsAu9l7R4HcHbv81MHV034U80u9xjlzOaDH7a128jIpWz1Ug8mgbsZ7yT7kwXFwbFLDheO09gxy3x0NDAOjW9XPce973Hq5x8SVR7iCMtWtD8E1Iqvxjd6OejuoaGfT6GQRyvA7g8EFrwPDcbjzTBhuIcKWnNmuLK26VF1v3ZuDmU9XI1sB/aawDm9xO3mCpgnqlghpYI6emhjhhjaGMjjaGta0dwAHQAeSowbXTTS3ao4S+xVU/wBErIZBUUNWGc3YygEdR4tIJBHl6gIKh1fC1q1DcDTQ0VmqYQ7YVLLiGsI89i3mHu2UwTXofwwWrFq+C/5tU098ucLg+no42H6JA4dQ483WRwPduAB5E7FMFjthsqK2ZfwkY3eMjr7rbMouVphq53T/AEUUzJmROcd3BpJB5dydge7u3UwePBwbW8VLDUZ9XSU/MOdkduYx5b4gO5yAfXY7JgtBY7ZRWWzUdotsDYKOigZBBG3uYxgAaPkFR2ygrlqhwp49kl/qr1jl7mx+SrkMs1KacTU/aE7ucwbgsBPXbcjfu27lMHUwfhExm3V0dXleQVl8Yw7/AESGL6NE70cQS8j0BamCxtmtlvs9tp7ZaqKCioqdgjhggjDGMaPAAdyowLiRwGv1G0tq7BaZoYriyeKrpRM7lZI+M/UJ8NwSN/A7IKPXXRbVa2TOiqMCvby07c1PE2dp9xY4qD5x7R/Ui7X2itjsHv8ATsqJ2RyS1NE+KKNhcOZznuGwAG6g2TUFNFR0UNJAwMihjbHG0eDWjYD5BaH7IMU1awi3ahYJcMYuPsCobzQTgbugmb1ZIPcfmCR4oNa2X49dsUySux6+0ppbhRSmOVh7j5OafFrh1B8QVkeUgAkdx2QcOa131mNd72goPnsov+DH/AEHr4hjN3yvIaWw49azXXCpdtHFGwbAeLnHbZrB4uPQINk+jmHnAtNbLibqr6VJQQcssoGzXPc4udyjwbzOIA8tloYprjoVi2p7m3GSSW0X2NgY24U7A7tGjubKw9HgeB6OHnt0UEBS8H2aCq5Isrx98G/+Y6KZrtv2dj/VMEn6WcK+JY3WQ3PKqx+TVkRDmQPi7OkY4eJj3Jk2/WO3omCwjGNYwMY0Na0bAAbABUUe45c1F81HpsUpJQ6jsEX57Y7g1MgBd/CzlHvcVKK9KDJNLsVnzbUGyYvCHbV9U1kzh9iEe1K74MB+JCDZ/R00NJSw0tNG2KCFgjjY0dGtA2AHuAC0P2QYrqVp/iuoVkFqyi2Nqo2EugmYeSancenNG8dWn7j4goK15Nwd1oqnOxrM4HU5Psx3KlPO3054zsffsFMHawvg+EdcyfMcrbUUzCCaa2QmMyehkf1A9w39yYLP4tj1mxeyU1kx+3QW+30zeWKGFuwHmT4knvJPU+Ko9VAQedkljtOR2Wpst8t8Ffb6pnJNBM3drh/YjvBHUHqEFbcs4PrJU1r58ZyyttsDjuKarpxUhnoHgtdt79z6qYM30a4c8Q0/uEV6rZ5cgvUR3hqKmIMipz+lHGNwHfrEkjw2TBNio8zKbDacmsFZYr5RR1tvrIzFPC/ucD694IOxBHUEAoKh6gcI+R0lbLPhN5o7jROcTHTXB5hnYPLnALX+/YKYMFHDXrI2YxtxqAcw5XPFziDSPU77kJgzLDOEXLq2aN+UX22WemH1oqMGpl28gSGsH3pgs3pVpLhWm9KW49bN617eWa4VJ7SplHkXfZH6rQB6KjPEBAQEGI6wYe7PdN71ibK36FJcIQ2Ocs5gx7Xte3ceI3aAfQoKX1/C9q5T1ToobZaqyPfYTQ3JrWn12cAQpgzvSXhSv0WSUN1zyttsVvpJmzPoKV5mfUFp3DHO2DWt3A323JHTxTBcIDYKjlAQEBAQEBAQEBAQEBAQEBAQEBAQEBAQEBAQEBAQEBAQcO+qfcg128XFSariCyYk79kaeEe5sLf/ADUEUqDlkb5nCGIbySEMYB+k47D7yg2pYba2WTE7RZom8rKGihpwP2GAf2Wh6yDGNRcCxbP7O215Taoq2KNxfDJuWSwuI25mPHVp+4+KCEbhwfYZLO51FlGQ0kZPRjuxl2+JbupglDRbR/GNLKKqbZnVVXX1gaKmuqnAyPa0ktaAAA1o37h3nvVEioCAgICAgICAgICAgICAgICAgICAgbICAgIBQRTxAaMWbVK0smEjLdkNKwto6/k3BHf2UoHV0ZPxaeo8QQolqFgOWYDc3UGU2eeh2JEdRtzU8w82SD2T7jsfMBQYyASNwCR5jqoOYmOlmbBE10kzzs2Ng5nuPkGjqUE2aTcNmdZlJDW3qB+MWZ2zjNVx/wCJkb/y4T1HTxfsPQqi5el2m2KacWc2/GrcInyAfSauU89RUkeL39/uA2A8AqMxCAgICDGtT8tosHwS7ZRXEGOhgL2MJ/zZD0YwernEBBrFu9wrLtdqy63GZ01bWTvqKiQncuke4ucfmVkdVBbLgHwgl131ArIenW3W8uHudM8fyt+BVgtuqCAgICAgICAgICAgICB0QcbhBygICAgICAgICAgICAgICAgICAgICAgICAgICAgICAgICAgICAgICAgIOHfVPuQa5uKyJ0PEDlYcNuaeJ49xhYoIwUGU6Q2sXrVXFLW4btqLvThw/VDw4/c1Bs/b3LQ5QEBAQEBAQEBAQEBAQEBAQEBAQEBAQEBAQEBAQEBAIQdeuoqSvpn0tdSw1UD+j4pow9jveD0QYNW6J6TVlQaiowCwmQ9SWUoYD8G7BBkGM4Rh+M9cfxm0Wx36dNSMY7+IDdBkAGyDlAQN0HlZFklgx2n+kX69W61xbbh1XUsi393MevwQRtfOJHSG2EtGUiveO9tDSyTffsB96mitnFNrhQ6lwWyx4zHXQWWleaioNVH2b55u5ns7n2Wjc9fE+iCB1A93QoJ4wjiayLDcQtmMWPEbBHR2+ARMdJNM5zz3ue7bbq5xLj6lUeo7i/1BP1cdxlvvbOf+9NHz/wDS91E//AMX/wD05/8A/RNHI4vtQvHH8YP/AMOf/wBaaP0ZxgZ4Pr4zjbvcZx/3Jo7MfGJlw/zcPsLv2amZv9imjuQcY97H+fglud+xcnj+saaO7Dxkyf62nw/cuo/vGE0d+DjItR27fA7k3/p18Tv6gJo9CDjDxF3+diOQR/svgd/3Jo70HF3p6/8AzrLksX/5aN39Hpo78XFlpY8e3HkUR/Wt2/8ARyaOwziq0md31d5b77Y/+yaOXcVOkoHSuu591skTR1ariy0uiaTDFkNQfAMt/Lv8XOCaMXvvGLZI43NseF3Opk+y6sqY4WfEN5imiA9RtZNRtRLowVF2qqSIyBtJbbU98LGvJ2btynme/cjYuPeegCDYNgkd4iwyyxZDJ2l3ZQwtrXb77zBg59/XfdUe2gICAgICAgICAgICAgICAgICAgICAgICAgICAgICAgICAgICAgICAgHuQUP45rLJbtZ2XQt2iu1thka7boXx7xuHv2DfmoIGUEpcJ1I2s4gsWY4biKSab4sgeQqNi7e4KggICAgICAgICAgICAgICAgICAgICAgICAgICAgICAgICAgIBOyDEdTtRcU06sv4zya4CHn3FPTRjnnqHD7MbPH1PQDxIQU91P4n87yaWWlxojGLa7o3sCH1bx+tIRs33NHxUEH1VRXXi4PnqqiquVdId3vke+eVx9SdyoPu4Wu62+KKW4Wyuo45SRG6op3xh5HeBzAb7dO7zQdNAQcDYnYEEjvAO5CDk9O8bICAgICAgICAgIOEHKAgICAgtdwX6Ovkng1LyWlIjZ1slPI36x7jUkHw8GfF3krBbvZUEBAQEBAQEBAQEBAQEBAQEBAQEBAQEBAQEBAQEBAQEBAQEBAQEBAQEBBC/FzprU6gaeMqrRTme+WV7qmliaPanjI2liHqQAR6tA8VKNfzgWkggggkEEbEEd4I8CoJU4TK2Oh4gsXklIDZXzwDf9J8LwPvVg2KjuCoICAgICAgICAgICAgICAgICAgICAgICAgICAgICAgICAgICDFNWc2tunuCXDKLkO0bTNDYIAdnTzO6MjHvPj4AE+CDX0/8vdbNR3vZHLd71WnflB5YaWEHu3PSOJu/wAT5kqC0WmHCjiNngirM2qH5FX97qdrnRUbD5co2dJ73ED0TBLN9nwLSnEKi8y0FssdtpG7BtLTMY6Rx+qxgA3c89wH9kGv/WXUW8al5nPfrmXQ07d4qGj5+ZtLDv0b6uPe53ifQBBhagy7SLA7nqNnNFjVu5o45D2lZUhu4poAfbefXwaPFxHqqL/O0c0wltNNbajCLJUQ00LYWOkpWmQtaNhu8dSfM79SrgxS9cMOkNw3MFkrLY4+NFXyt2/dcXN+5MGDXvg7x2VznWXMrvR/otqqeOcD4t5CpgwW98IecUwc+05HYrg0dzZWyU7j9zh96YMHvfDvq/a+YnE3VzB9qhq4pd/huD9yDBr3hmX2Tf8AG+K3ygA73T0Eob/EAR96g8AuaHcpc0OHeCevyQfWx8kBAQEBAQEBBwTsNz0HmUFj+Grh3rcmqqbKs6opaSwsIkpqCVpbLXeILx3ti9D1d6DvuC7EMUcMLIoo2xxsaGta0bBoHcAPAKj7QEBAQEBAQEBAQEBAQEBAQEBAQEBAQEBAQEBAQEBAQEBAQEBAQEBAQEBAKCFNY+HPDs/r571Ryy4/e5jzS1NLGHRTu/SkiPQu83Agnx3UwQ3R8KupWP5FRXfH8nx2SehqWVFNNJ20Tg5rgQS3ld8RumC5lOJRAztywy8o5+Tfl3267b+G6o+0BAQEBAQEBAQEBAQEBAQEBAQEBAQEBAQEBAQEBAQEBAQEBBUz8IRdakQYjZGuc2mkkqKuQb9HPaGsb8g53zUoyTgefhtv0snqoa+gZfKiskN07WVrZWBriImnc78nJsR4bud4pBmOqPEJp5hNNLDDdI7/AHZo2ZQ26QSbH9eQbtYPiT5ApopRq3qZk+pl+FyyCpDYISRR0MJIgpgf0R4uPi89T6DooMLQd7H7Pc7/AHqks1mopa24VkgiggjHtPcf6ADqSegG5KDYhw96VW/S7DxR7xVN6rOWW5VjR9d+3RjN+vZt7h59Se9WCS1QQEBA2HkgEAoPEvWI4teg4XjG7PcObvNTRRyH5kboMFvXDzpDdA4vw2lpZHfbo5ZICPg1233KYMKvPCNp9U7m23fIbcT4duyZo+D27/emDDrtwb1QLjaM8iePstrLdt8yx/8AZMGJ3PhJ1KptzR3LG64DuAqJYifg5hH3pgx2s4aNY6fctxqlqQPGG5wnf4OIKYPMk0B1hY7lODVp9W1EBH/9iDsUXDvrHVODW4bJD6zVsDB/vTBmWM8JOoFfI118utks0O/tBr3VMo9waGt/mTBPulfDngOEVMNynp5Mgu0R5mVVwALI3ebIh7LT6ncjzTBMgVHKAgICAgICAgICAgICAgICAgICAgICAgICAgICAgICAgICAgICAgICAgICAgICAgICAgICAgICAgICAgICAgICAgICAgICAgICAgICAgICAgICCAuNfAK7LdPKa+WinfUV9glfO6GNu75Kd7QJeUDqS3la7byDlKKIlrHbEtY7p0O2/RQcgAAAAADuAGwQcoPfwPDMkzi+ssuM2uWuqiR2hHsxQN/Skf3Mb7+p8AUF8eH/AEUsml1sNTI9lyyKpj5auvLNg0d/ZxA9Ws3+Lu8+AFglkKggICAgICAgICAgICBsPIIGw8kBAQEBAQEBAQEBAQEBAQEBAQEBAQEBAQEBAQEBAQEBAQEBAQEBAQEBAQEBAQEBAQEBAQEBAQEBAQEBAQEBAQEBAQEBAQEBAQEBAQEBAQEBAQEBAQEBAI3QQJqvwwYdl1fNd7FUy41cZnF8op4hJTSuPe4xHblJ/VI9ymCJ5ODzMRPyx5dYHQ7/AF3U8wdt+zv/AHTBmmF8INgpJmT5ZktZduU7mmo4xTRH0Lty8j3EJgsPiWMWDE7RHacctFHa6JnURU8fLzHzce9x9SSVR7CAgICAgICAgICAgICAgICAgICAgICAgICAgICAgICAgICAgICAgICAgICAgICAgICAgICAgICAgICAgICAgICAgICAgICAgICAgICAgICAgICAgICAgICAgICAgICAgICAgICAgICAgICAgICAgICAgICAgICAgICAgICAgICAgICAgICAgICAgICAgICAgICAgICAgICAgICAgICAgICAgICAgICAgICAgICAgICAgICAgICAgICAgICAgICAgICAgICAgICAgICAgICAgICAgICAgICAgICAgICAgICAgICAgICAgICAgICAgICAgICAgICAgICAgICAgICAgICAgICAgICAgICAgICAgICAgICAgICAgICAgICAgICAgICAgICAgICAgICAgICAgICAgICAgICAgICAgICAgICAgICAgICAgICAgICAgICAgICAgICAgICAgICAgICAgICAgICAgICAgICAgICAgICAgICAgICAgICAgICAgICAgICAgICAgICAgICAgICAgICAgICAgICAgICAgICAgICAgICAgICAgICAgICAgICAgICAgICAgICAgICAgICAgICAgICAgICAgICAgICAgICAgICAgICAgICAgICAgICAgICAgICAgICAgICAgICAgICAgICAgICAgICAgICAgICAgICAgICAgICAgICAgICAgICAgICAgICAgICAgICAgICAgICAgICAgICAgICAgICAgICAgICAgICAgICAgICAgICAgICAgICAgICAgICAgICAgICAgICAgICAgICAgICAgICAgICAgICAgICAgICAgICAgICAgICAgICAgICAgICAgICAgICAgICAgICAgICAgICAgICAgICAgICAgICAgICAgICAgICAgICAgICAgICAgICAgICAgICAgICAgICAgICAgICAgICAgICAgICAgICAgICAgICAgICAgICAgICAgICAgICAgICAgICAgICAgICAgICAgICAgICAgICAgICAgICAgICAgICAgICAgICAgICAgICAgICAgICAgICAgICAgICAgICAgICAgICAgICAgICAgICAgICAgICAgICAgICAgICAgICAgICAgICAgICAgICAgICAgICAgICAgICAgICAgICAgICAgICAgICAgICAgICAgICAgICAgICAgICAgICAgICAgICAgICAgICAgICAgICAgICAgICAgICAgICAgICAgICAgICAgICAgICAgICAgICAgICAgICAgICAgICAgICAgICAgICAgICAgICAgICAgICAgICAgICAgICAgICAgICAgICAgICAgICAgICAgICAgICAgICAgICAgICAgICAgICAgICAgICAgICAgICAgICAgICAgICAgICAgICAgICAgICAgICAgICAgICAgICAgICAgICAgICAgICAgICAgICAgICAgICAgIP/2Q==)"
      ],
      "metadata": {
        "id": "w4gTjcyHKDZw"
      }
    }
  ],
  "metadata": {
    "colab": {
      "collapsed_sections": [
        "1tKJUFX_B23V",
        "FJKU_YMiDceL",
        "l_rSStlBqDg9",
        "Ayi9oTDxMZVM",
        "t0bJCwGSCJaA"
      ],
      "provenance": [],
      "include_colab_link": true
    },
    "kernelspec": {
      "display_name": "Python 3",
      "name": "python3"
    },
    "language_info": {
      "name": "python"
    }
  },
  "nbformat": 4,
  "nbformat_minor": 0
}